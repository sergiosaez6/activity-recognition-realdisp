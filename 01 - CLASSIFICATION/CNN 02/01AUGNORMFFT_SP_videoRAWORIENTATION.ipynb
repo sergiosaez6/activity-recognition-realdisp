{
 "cells": [
  {
   "cell_type": "markdown",
   "metadata": {},
   "source": [
    "# CNN-RNN"
   ]
  },
  {
   "cell_type": "code",
   "execution_count": 1,
   "metadata": {},
   "outputs": [],
   "source": [
    "import tensorflow.keras as keras"
   ]
  },
  {
   "cell_type": "code",
   "execution_count": 2,
   "metadata": {},
   "outputs": [],
   "source": [
    "# Módulos necesarios. Asegurarse de poder importarlos.\n",
    "from __future__ import print_function\n",
    "import matplotlib.pyplot as plt\n",
    "import numpy as np\n",
    "import tensorflow as tf\n",
    "from pylab import rcParams\n",
    "from scipy import stats\n",
    "from sklearn import metrics\n",
    "import seaborn as sns\n",
    "from sklearn import preprocessing\n",
    "import os as os\n",
    "from mpl_toolkits.axes_grid1 import host_subplot\n",
    "import mpl_toolkits.axisartist as AA\n",
    "from time import time\n",
    "from tensorflow.keras.models import load_model\n",
    "\n",
    "# Config the matplotlib backend as plotting inline in IPython\n",
    "%matplotlib inline"
   ]
  },
  {
   "cell_type": "code",
   "execution_count": 3,
   "metadata": {},
   "outputs": [
    {
     "name": "stdout",
     "output_type": "stream",
     "text": [
      "/usr/bin/python\n",
      "3.6.8 (default, Aug 20 2019, 17:12:48) \n",
      "[GCC 8.3.0]\n",
      "sys.version_info(major=3, minor=6, micro=8, releaselevel='final', serial=0)\n"
     ]
    },
    {
     "data": {
      "text/plain": [
       "'1.14.0'"
      ]
     },
     "execution_count": 3,
     "metadata": {},
     "output_type": "execute_result"
    }
   ],
   "source": [
    "import sys\n",
    "print(sys.executable)\n",
    "print(sys.version)\n",
    "print(sys.version_info)\n",
    "tf.__version__"
   ]
  },
  {
   "cell_type": "code",
   "execution_count": 4,
   "metadata": {},
   "outputs": [
    {
     "data": {
      "text/plain": [
       "'2.2.4-tf'"
      ]
     },
     "execution_count": 4,
     "metadata": {},
     "output_type": "execute_result"
    }
   ],
   "source": [
    "keras.__version__"
   ]
  },
  {
   "cell_type": "markdown",
   "metadata": {},
   "source": [
    "# 12-FOLD"
   ]
  },
  {
   "cell_type": "code",
   "execution_count": 5,
   "metadata": {},
   "outputs": [],
   "source": [
    "subjects = ['01', '02', '03', '05', '08', '09', '10', '11', '13', '14', '16', '17']\n",
    "global activities\n",
    "activities = [9,10,11,12,13,19,20,21,24,25,31]"
   ]
  },
  {
   "cell_type": "code",
   "execution_count": 6,
   "metadata": {},
   "outputs": [],
   "source": [
    "def write(name, ts_seg, y_true, y_pred):\n",
    "    fo = open(name, \"w\")\n",
    "    head = \"QUAT,w,x,y,z,timestamp,y_true,y_pred\\n\"\n",
    "    fo.seek(0,2)\n",
    "    fo.write(head)\n",
    "    fo.close()\n",
    "    \n",
    "    fo = open(name, \"a\")\n",
    "    salida = np.reshape(ts_seg, (ts_seg.shape[0]*ts_seg.shape[2], ts_seg.shape[3]))\n",
    "    \n",
    "    k = 0\n",
    "    for i in range(salida.shape[0]):\n",
    "        if(i%128==0):\n",
    "            if(i!=0):\n",
    "                k+=1\n",
    "        print('%d'%(i), end='\\r')\n",
    "        fo.write(\"quat0,\"+str(salida[i][0])+\",\"+str(salida[i][1])+\",\"+str(salida[i][2])+\",\"+str(salida[i][3])+\",\"+str(i)+\",\"+str(activities[int(y_true[k])])+\",\"+str(activities[int(y_pred[k])])+'\\n')\n",
    "        fo.write(\"quat1,\"+str(salida[i][4])+\",\"+str(salida[i][5])+\",\"+str(salida[i][6])+\",\"+str(salida[i][7])+\",\"+str(i)+\",\"+str(activities[int(y_true[k])])+\",\"+str(activities[int(y_pred[k])])+'\\n')\n",
    "        fo.write(\"quat2,\"+str(salida[i][8])+\",\"+str(salida[i][9])+\",\"+str(salida[i][10])+\",\"+str(salida[i][11])+\",\"+str(i)+\",\"+str(activities[int(y_true[k])])+\",\"+str(activities[int(y_pred[k])])+'\\n')\n",
    "        fo.write(\"quat3,\"+str(salida[i][12])+\",\"+str(salida[i][13])+\",\"+str(salida[i][14])+\",\"+str(salida[i][15])+\",\"+str(i)+\",\"+str(activities[int(y_true[k])])+\",\"+str(activities[int(y_pred[k])])+'\\n')\n",
    "        fo.write(\"quat4,\"+str(salida[i][16])+\",\"+str(salida[i][17])+\",\"+str(salida[i][18])+\",\"+str(salida[i][19])+\",\"+str(i)+\",\"+str(activities[int(y_true[k])])+\",\"+str(activities[int(y_pred[k])])+'\\n')\n",
    "        if(salida.shape[1]==36):\n",
    "            fo.write(\"quat5,\"+str(salida[i][20])+\",\"+str(salida[i][21])+\",\"+str(salida[i][22])+\",\"+str(salida[i][23])+\",\"+str(i)+\",\"+str(activities[int(y_true[k])])+\",\"+str(activities[int(y_pred[k])])+'\\n')\n",
    "            fo.write(\"quat6,\"+str(salida[i][24])+\",\"+str(salida[i][25])+\",\"+str(salida[i][26])+\",\"+str(salida[i][27])+\",\"+str(i)+\",\"+str(activities[int(y_true[k])])+\",\"+str(activities[int(y_pred[k])])+'\\n')\n",
    "            fo.write(\"quat7,\"+str(salida[i][28])+\",\"+str(salida[i][29])+\",\"+str(salida[i][30])+\",\"+str(salida[i][31])+\",\"+str(i)+\",\"+str(activities[int(y_true[k])])+\",\"+str(activities[int(y_pred[k])])+'\\n')\n",
    "            fo.write(\"quat8,\"+str(salida[i][32])+\",\"+str(salida[i][33])+\",\"+str(salida[i][34])+\",\"+str(salida[i][35])+\",\"+str(i)+\",\"+str(activities[int(y_true[k])])+\",\"+str(activities[int(y_pred[k])])+'\\n')\n",
    "        else:\n",
    "            fo.write(\"quat5,\"+str(1)+\",\"+str(0)+\",\"+str(0)+\",\"+str(0)+\",\"+str(i)+\",\"+str(activities[int(y_true[k])])+\",\"+str(activities[int(y_pred[k])])+'\\n')\n",
    "            fo.write(\"quat6,\"+str(1)+\",\"+str(0)+\",\"+str(0)+\",\"+str(0)+\",\"+str(i)+\",\"+str(activities[int(y_true[k])])+\",\"+str(activities[int(y_pred[k])])+'\\n')\n",
    "            fo.write(\"quat7,\"+str(1)+\",\"+str(0)+\",\"+str(0)+\",\"+str(0)+\",\"+str(i)+\",\"+str(activities[int(y_true[k])])+\",\"+str(activities[int(y_pred[k])])+'\\n')\n",
    "            fo.write(\"quat8,\"+str(1)+\",\"+str(0)+\",\"+str(0)+\",\"+str(0)+\",\"+str(i)+\",\"+str(activities[int(y_true[k])])+\",\"+str(activities[int(y_pred[k])])+'\\n')\n",
    "    fo.close()"
   ]
  },
  {
   "cell_type": "code",
   "execution_count": 7,
   "metadata": {},
   "outputs": [],
   "source": [
    "# Ajustado a los datos\n",
    "n_time_steps = 128\n",
    "n_classes = 11 # Nº de clases (el 0 está eliminado)\n",
    "n_channels = 1 # Nº de canales\n",
    "n_columns = 40\n",
    "\n",
    "# Podríamos variarlo\n",
    "batch_size = 128 # Tamaño del batch\n",
    "learning_rate = 1e-3 # Learning rate (por defNORMecto es 0.001)\n",
    "epochs = 100 # Épocas"
   ]
  },
  {
   "cell_type": "code",
   "execution_count": 8,
   "metadata": {},
   "outputs": [
    {
     "name": "stdout",
     "output_type": "stream",
     "text": [
      "##################################################################################################################################\n",
      "#####################################################  K-FOLD 1  #################################################################\n",
      "Test subject: 01\n",
      "Test dataset: \n",
      "(98, 1, 128, 40) (98, 11)\n",
      "WARNING:tensorflow:From /usr/local/lib/python3.6/dist-packages/tensorflow/python/ops/init_ops.py:97: calling GlorotUniform.__init__ (from tensorflow.python.ops.init_ops) with dtype is deprecated and will be removed in a future version.\n",
      "Instructions for updating:\n",
      "Call initializer instance with the dtype argument instead of passing it to the constructor\n",
      "WARNING:tensorflow:From /usr/local/lib/python3.6/dist-packages/tensorflow/python/ops/init_ops.py:1251: calling VarianceScaling.__init__ (from tensorflow.python.ops.init_ops) with dtype is deprecated and will be removed in a future version.\n",
      "Instructions for updating:\n",
      "Call initializer instance with the dtype argument instead of passing it to the constructor\n",
      "WARNING:tensorflow:From /usr/local/lib/python3.6/dist-packages/tensorflow/python/ops/init_ops.py:97: calling Zeros.__init__ (from tensorflow.python.ops.init_ops) with dtype is deprecated and will be removed in a future version.\n",
      "Instructions for updating:\n",
      "Call initializer instance with the dtype argument instead of passing it to the constructor\n",
      "WARNING:tensorflow:From /usr/local/lib/python3.6/dist-packages/tensorflow/python/ops/init_ops.py:97: calling Ones.__init__ (from tensorflow.python.ops.init_ops) with dtype is deprecated and will be removed in a future version.\n",
      "Instructions for updating:\n",
      "Call initializer instance with the dtype argument instead of passing it to the constructor\n",
      "##################################################################################################################################\n",
      "#####################################################  K-FOLD 2  #################################################################\n",
      "Test subject: 02\n",
      "Test dataset: \n",
      "(98, 1, 128, 40) (98, 11)\n",
      "##################################################################################################################################\n",
      "#####################################################  K-FOLD 3  #################################################################\n",
      "Test subject: 03\n",
      "Test dataset: \n",
      "(98, 1, 128, 40) (98, 11)\n",
      "##################################################################################################################################\n",
      "#####################################################  K-FOLD 4  #################################################################\n",
      "Test subject: 05\n",
      "Test dataset: \n",
      "(98, 1, 128, 40) (98, 11)\n",
      "##################################################################################################################################\n",
      "#####################################################  K-FOLD 5  #################################################################\n",
      "Test subject: 08\n",
      "Test dataset: \n",
      "(98, 1, 128, 40) (98, 11)\n",
      "##################################################################################################################################\n",
      "#####################################################  K-FOLD 6  #################################################################\n",
      "Test subject: 09\n",
      "Test dataset: \n",
      "(98, 1, 128, 40) (98, 11)\n",
      "##################################################################################################################################\n",
      "#####################################################  K-FOLD 7  #################################################################\n",
      "Test subject: 10\n",
      "Test dataset: \n",
      "(98, 1, 128, 40) (98, 11)\n",
      "##################################################################################################################################\n",
      "#####################################################  K-FOLD 8  #################################################################\n",
      "Test subject: 11\n",
      "Test dataset: \n",
      "(98, 1, 128, 40) (98, 11)\n",
      "##################################################################################################################################\n",
      "#####################################################  K-FOLD 9  #################################################################\n",
      "Test subject: 13\n",
      "Test dataset: \n",
      "(98, 1, 128, 40) (98, 11)\n",
      "##################################################################################################################################\n",
      "#####################################################  K-FOLD 10  #################################################################\n",
      "Test subject: 14\n",
      "Test dataset: \n",
      "(98, 1, 128, 40) (98, 11)\n",
      "##################################################################################################################################\n",
      "#####################################################  K-FOLD 11  #################################################################\n",
      "Test subject: 16\n",
      "Test dataset: \n",
      "(98, 1, 128, 40) (98, 11)\n",
      "##################################################################################################################################\n",
      "#####################################################  K-FOLD 12  #################################################################\n",
      "Test subject: 17\n",
      "Test dataset: \n",
      "(98, 1, 128, 40) (98, 11)\n",
      "12543\r"
     ]
    }
   ],
   "source": [
    "for i in range(12):\n",
    "    print('##################################################################################################################################')\n",
    "    print('#####################################################  K-FOLD %d  #################################################################'%(i+1))\n",
    "    \n",
    "    subject_test = subjects[i]\n",
    "    print('Test subject: ' + str(subject_test))\n",
    "    \n",
    "    ##  GENERACIÓN DATASET\n",
    "    ts_seg_norm = np.load('./defNORM_raworientation/subject_video_'+subject_test+'_seg.npy')\n",
    "    ts_lab_norm = np.load('./defNORM_raworientation/subject_video_'+subject_test+'_lab.npy')\n",
    "    \n",
    "    ts_seg = np.load('./def_raworientation_ALL_SENSORS/subject_video_'+subject_test+'_seg.npy')\n",
    "    \n",
    "    limit = 40\n",
    "    ts_seg_norm = ts_seg_norm[:,:,:,:limit]\n",
    "    ts_seg = ts_seg[:,:,:,:limit]\n",
    "    ####################################################################################################################\n",
    "    ## SHUFFLE DE DATOS\n",
    "    np.random.seed(235)\n",
    "    ts_seg_norm = np.reshape(ts_seg_norm[np.random.shuffle(np.arange(0,ts_seg_norm.shape[0]))], (98,1,128,limit))\n",
    "    ts_lab_norm = np.reshape(ts_lab_norm[np.random.shuffle(np.arange(0,ts_seg_norm.shape[0]))], (98,11))\n",
    "    ts_seg = np.reshape(ts_seg[np.random.shuffle(np.arange(0,ts_seg.shape[0]))], (98,1,128,36))\n",
    "    \n",
    "    print('Test dataset: ')\n",
    "    print(ts_seg_norm.shape, ts_lab_norm.shape)\n",
    "    ####################################################################################################################\n",
    "    ## RED\n",
    "    model = load_model('./01AUGNORMFFT_SP_KFOLD_models/CNN_'+subject_test+'.h5')\n",
    "    model.compile(loss='categorical_crossentropy', optimizer=keras.optimizers.Adam(lr=learning_rate),metrics=['categorical_accuracy'])\n",
    "    ####################################################################################################################\n",
    "    ## TEST\n",
    "    predictions = model.predict(ts_seg_norm, batch_size = batch_size, verbose = 0)\n",
    "    \n",
    "    y_pred = np.argmax(predictions,axis=-1)\n",
    "    y_pred = np.expand_dims(y_pred,axis=-1)\n",
    "    \n",
    "    y_true = np.argmax(ts_lab_norm,axis=-1)\n",
    "    y_true = np.expand_dims(y_true,axis=-1)\n",
    "    \n",
    "    y_true_flat = np.ndarray.flatten(y_true)\n",
    "    y_pred_flat = np.ndarray.flatten(y_pred)\n",
    "    \n",
    "    name = './01AUGNORMFFT_SP_KFOLD_models/RESULT_CNN_'+subject_test+'.csv'\n",
    "    write(name, ts_seg, y_true, y_pred)\n",
    "    \n",
    "    del subject_test, ts_seg_norm, ts_lab_norm, model, y_pred, y_true, predictions, y_true_flat, y_pred_flat, ts_seg\n",
    "    "
   ]
  }
 ],
 "metadata": {
  "kernelspec": {
   "display_name": "Python 3",
   "language": "python",
   "name": "python3"
  },
  "language_info": {
   "codemirror_mode": {
    "name": "ipython",
    "version": 3
   },
   "file_extension": ".py",
   "mimetype": "text/x-python",
   "name": "python",
   "nbconvert_exporter": "python",
   "pygments_lexer": "ipython3",
   "version": "3.6.8"
  }
 },
 "nbformat": 4,
 "nbformat_minor": 4
}
