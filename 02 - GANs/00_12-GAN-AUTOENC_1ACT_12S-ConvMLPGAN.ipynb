{
 "cells": [
  {
   "cell_type": "markdown",
   "metadata": {},
   "source": [
    "# GENERACIÓN DE MOVIMIENTOS"
   ]
  },
  {
   "cell_type": "code",
   "execution_count": 68,
   "metadata": {},
   "outputs": [],
   "source": [
    "import os as os"
   ]
  },
  {
   "cell_type": "code",
   "execution_count": 69,
   "metadata": {},
   "outputs": [],
   "source": [
    "import tensorflow as tf\n",
    "import tensorflow.keras as keras"
   ]
  },
  {
   "cell_type": "code",
   "execution_count": 70,
   "metadata": {},
   "outputs": [],
   "source": [
    "# Módulos necesarios. Asegurarse de poder importarlos.\n",
    "from __future__ import print_function\n",
    "import matplotlib.pyplot as plt\n",
    "import numpy as np\n",
    "import sys\n",
    "from six.moves import cPickle as pickle\n",
    "import tensorflow as tf\n",
    "from sklearn.model_selection import train_test_split\n",
    "import pandas as pd\n",
    "import csv\n",
    "from pylab import rcParams\n",
    "from scipy import stats\n",
    "from sklearn import metrics\n",
    "import seaborn as sns\n",
    "from sklearn import preprocessing\n",
    "from mpl_toolkits.axes_grid1 import host_subplot\n",
    "import mpl_toolkits.axisartist as AA\n",
    "\n",
    "# Config the matplotlib backend as plotting inline in IPython\n",
    "%matplotlib inline"
   ]
  },
  {
   "cell_type": "code",
   "execution_count": 71,
   "metadata": {},
   "outputs": [
    {
     "name": "stdout",
     "output_type": "stream",
     "text": [
      "/usr/bin/python\n",
      "3.6.8 (default, Aug 20 2019, 17:12:48) \n",
      "[GCC 8.3.0]\n",
      "sys.version_info(major=3, minor=6, micro=8, releaselevel='final', serial=0)\n"
     ]
    },
    {
     "data": {
      "text/plain": [
       "'1.14.0'"
      ]
     },
     "execution_count": 71,
     "metadata": {},
     "output_type": "execute_result"
    }
   ],
   "source": [
    "import sys\n",
    "print(sys.executable)\n",
    "print(sys.version)\n",
    "print(sys.version_info)\n",
    "tf.__version__"
   ]
  },
  {
   "cell_type": "code",
   "execution_count": 72,
   "metadata": {},
   "outputs": [
    {
     "data": {
      "text/plain": [
       "'2.2.4-tf'"
      ]
     },
     "execution_count": 72,
     "metadata": {},
     "output_type": "execute_result"
    }
   ],
   "source": [
    "keras.__version__"
   ]
  },
  {
   "cell_type": "code",
   "execution_count": 73,
   "metadata": {},
   "outputs": [],
   "source": [
    "global activities\n",
    "activities =  [19]\n",
    "global subjects\n",
    "subjects = [1,2,3,5,8,9,10,11,13,14,16,17]\n",
    "subjects_train = [1,3,5,8,9,11,13,14,17]\n",
    "subjects_test = [2,10,16]"
   ]
  },
  {
   "cell_type": "code",
   "execution_count": 74,
   "metadata": {},
   "outputs": [
    {
     "name": "stdout",
     "output_type": "stream",
     "text": [
      "Total files: 288\n",
      "Train files: 216\n",
      "Test files: 72\n",
      "TRAINING: \n",
      "['../data_augment/subject_01_AUGMENT_deg_-105_act_19.csv', '../data_augment/subject_01_AUGMENT_deg_-120_act_19.csv', '../data_augment/subject_01_AUGMENT_deg_-135_act_19.csv', '../data_augment/subject_01_AUGMENT_deg_-150_act_19.csv', '../data_augment/subject_01_AUGMENT_deg_-15_act_19.csv', '../data_augment/subject_01_AUGMENT_deg_-165_act_19.csv', '../data_augment/subject_01_AUGMENT_deg_-30_act_19.csv', '../data_augment/subject_01_AUGMENT_deg_-45_act_19.csv', '../data_augment/subject_01_AUGMENT_deg_-60_act_19.csv', '../data_augment/subject_01_AUGMENT_deg_-75_act_19.csv'] ...\n",
      "TEST: \n",
      "['../data_augment/subject_02_AUGMENT_deg_-105_act_19.csv', '../data_augment/subject_02_AUGMENT_deg_-120_act_19.csv', '../data_augment/subject_02_AUGMENT_deg_-135_act_19.csv', '../data_augment/subject_02_AUGMENT_deg_-150_act_19.csv', '../data_augment/subject_02_AUGMENT_deg_-15_act_19.csv', '../data_augment/subject_02_AUGMENT_deg_-165_act_19.csv', '../data_augment/subject_02_AUGMENT_deg_-30_act_19.csv', '../data_augment/subject_02_AUGMENT_deg_-45_act_19.csv', '../data_augment/subject_02_AUGMENT_deg_-60_act_19.csv', '../data_augment/subject_02_AUGMENT_deg_-75_act_19.csv'] ...\n"
     ]
    }
   ],
   "source": [
    "# Ruta raíz\n",
    "PATH = '../data_augment/'\n",
    "\n",
    "quaturls = !ls -1 \"{PATH}\"\n",
    "\n",
    "\n",
    "\n",
    "quat_corr = []\n",
    "for filename in quaturls:\n",
    "    for activity in activities:\n",
    "        if(int(filename[-6:-4])==activity):\n",
    "            quat_corr.append(filename)\n",
    "\n",
    "tr_urls = []\n",
    "ts_urls = []\n",
    "\n",
    "i=0\n",
    "for filename in quat_corr:\n",
    "    for subject in subjects_train:\n",
    "        if(int(quat_corr[i][8:10])==subject):\n",
    "            tr_urls.append(filename)\n",
    "    i+=1\n",
    "i=0\n",
    "for filename in quat_corr:\n",
    "    for subject in subjects_test:\n",
    "        if(int(quat_corr[i][8:10])==subject):\n",
    "            ts_urls.append(filename)\n",
    "    i+=1\n",
    "\n",
    "del quat_corr\n",
    "\n",
    "print('Total files: ' + str(len(tr_urls+ts_urls)))\n",
    "print('Train files: ' + str(len(tr_urls)))\n",
    "print('Test files: ' + str(len(ts_urls)))\n",
    "\n",
    "tr_fullpath = [os.path.join(PATH,s) for s in tr_urls]\n",
    "ts_fullpath = [os.path.join(PATH,s) for s in ts_urls]\n",
    "print('TRAINING: ')\n",
    "print(str(tr_fullpath[:10]) + ' ...')\n",
    "print('TEST: ')\n",
    "print(str(ts_fullpath[:10]) + ' ...')"
   ]
  },
  {
   "cell_type": "code",
   "execution_count": 75,
   "metadata": {},
   "outputs": [],
   "source": [
    "global ind\n",
    "ind=3600"
   ]
  },
  {
   "cell_type": "markdown",
   "metadata": {},
   "source": [
    "### Generación del dataset"
   ]
  },
  {
   "cell_type": "code",
   "execution_count": 76,
   "metadata": {},
   "outputs": [],
   "source": [
    "def sliding_window(df, n_time_steps, step, segments, labels, label, dim, train, n_channels):\n",
    "    quat0 = df.iloc[:, 1:5][df['QUAT']=='quat0'].reset_index() # si no incluimos el reset_index(), al concatenarlos después\n",
    "    quat1 = df.iloc[:, 1:5][df['QUAT']=='quat1'].reset_index() # aparecerá un dataframe de igual nº de filas que df, pero con\n",
    "    quat2 = df.iloc[:, 1:5][df['QUAT']=='quat2'].reset_index() # NaN en las posiciones que no tienen número de cada dataframe quat,\n",
    "    quat3 = df.iloc[:, 1:5][df['QUAT']=='quat3'].reset_index() # es decir, mantiene los índices de df.\n",
    "    quat4 = df.iloc[:, 1:5][df['QUAT']=='quat4'].reset_index()\n",
    "    \n",
    "    quat = pd.concat([quat0.iloc[:, 1], quat0.iloc[:, 2], quat0.iloc[:, 3], quat0.iloc[:, 4],\n",
    "                      quat1.iloc[:, 1], quat1.iloc[:, 2], quat1.iloc[:, 3], quat1.iloc[:, 4],\n",
    "                      quat2.iloc[:, 1], quat2.iloc[:, 2], quat2.iloc[:, 3], quat2.iloc[:, 4],\n",
    "                      quat3.iloc[:, 1], quat3.iloc[:, 2], quat3.iloc[:, 3], quat3.iloc[:, 4],\n",
    "                      quat4.iloc[:, 1], quat4.iloc[:, 2], quat4.iloc[:, 3], quat4.iloc[:, 4]],\n",
    "                      axis = 1, keys = ['w0', 'x0', 'y0', 'z0', 'w1', 'x1', 'y1', 'z1', 'w2', 'x2', 'y2', 'z2', \n",
    "                                        'w3', 'x3', 'y3', 'z3', 'w4', 'x4', 'y4', 'z4'])\n",
    "    \n",
    "    del quat0, quat1, quat2, quat3, quat4\n",
    "    \n",
    "    if(n_channels == 1):\n",
    "        for i in range(0, quat.shape[0] - n_time_steps, step): # Overlap\n",
    "            # Con listas y numpy\n",
    "            segments.append([])\n",
    "            segments[dim].append(quat.iloc[i: i + n_time_steps, :].values) # Si distinguimos entre sensores\n",
    "            labels.append(label-1)\n",
    "            dim+=1\n",
    "    else:\n",
    "        n_columns = int(36/n_channels)\n",
    "        for i in range(0, quat.shape[0] - n_time_steps, step):\n",
    "            segments.append([])\n",
    "            col = 0\n",
    "            for j in range(n_channels):\n",
    "                segments[dim].append([])\n",
    "                segments[dim][j].append(quat.iloc[i:i+n_time_steps,col:col+n_columns].values)\n",
    "                col+=n_columns\n",
    "            labels.append(label-1)\n",
    "            dim+=1\n",
    "    \n",
    "        \n",
    "    del quat\n",
    "    \n",
    "    return segments, labels, dim\n",
    "\n",
    "\n",
    "def load_quat(path, lim, train, n_channels):\n",
    "\n",
    "    n_time_steps, step = 128, 1  # n_time_steps/50 segundos de actividad y pasos de step/50 segundos (de overlap)\n",
    "    \n",
    "    # Con listas\n",
    "    segments = []\n",
    "    labels = []\n",
    "    \n",
    "    m=1\n",
    "    dim = 0\n",
    "    for filename in path:\n",
    "        print(\"Reading %s (%d/%d)                                                   \"%(filename, m, len(path)), end='\\r')\n",
    "        df = pd.read_csv(filename,sep=',',names=[\"QUAT\",\"w\",\"x\",\"y\",\"z\",\"timestamp\"])\n",
    "        label = int(filename[-6:-4])\n",
    "        for i in range(len(activities)):\n",
    "            if(label==activities[i]):\n",
    "                label=i+1\n",
    "        \n",
    "        segments, labels, dim = sliding_window(df.iloc[:lim], n_time_steps, step, segments, labels, label, dim, train, n_channels)\n",
    "        \n",
    "        m+=1\n",
    "    \n",
    "    del df\n",
    "    \n",
    "    return segments, labels\n",
    "\n",
    "\n",
    "def load_train_quat(filename, lim, n_channels):\n",
    "    return load_quat(filename, lim, True, n_channels)\n",
    "\n",
    "def load_test_quat(filename, lim, n_channels):\n",
    "    return load_quat(filename, lim, False, n_channels)\n",
    "\n",
    "def get_dataset(data_path, lim, batch_size, n_time_steps, train, valid, ds, n_channels):\n",
    "    if(train):\n",
    "        segments, labels = load_train_quat(data_path, lim, n_channels)\n",
    "    else:\n",
    "        segments, labels = load_test_quat(data_path, lim, n_channels)\n",
    "    \n",
    "    print('Generating the dataset                                                   ')                                              \n",
    "    \n",
    "    array = np.asarray(segments, dtype = 'float32')\n",
    "    segments = np.reshape(array, (array.shape[0], n_channels, n_time_steps, int(20/n_channels)))\n",
    "    array = np.asarray(labels, dtype = 'int8')\n",
    "    labels = np.reshape(array, (array.shape[0], 1))\n",
    "    \n",
    "    del array\n",
    "    '''\n",
    "    # Standardization\n",
    "    if(train):\n",
    "        mean = segments.mean(axis=0)\n",
    "        std = segments.std(axis=0)\n",
    "        segments -= mean\n",
    "        segments /= std\n",
    "    else:\n",
    "        segments -= mean\n",
    "        segments /= std\n",
    "    '''\n",
    "    # Map coninous dataset to categorical (One-Hot)\n",
    "    #labels = keras.utils.to_categorical(labels, 5)\n",
    "    \n",
    "    if(train):\n",
    "        print('-'*20 + 'TRAIN' + '-'*20)\n",
    "    elif(valid):\n",
    "        print('-'*18 + 'VALIDATION' + '-'*12)\n",
    "    else:\n",
    "        print('-'*20 + 'TEST' + '-'*21)\n",
    "    \n",
    "    if(ds):\n",
    "        dataset = tf.data.Dataset.from_tensor_slices((segments, labels))\n",
    "    \n",
    "        # It's necessary to repeat our data for all epochs\n",
    "        dataset = dataset.batch(batch_size)\n",
    "        \n",
    "        dataset = dataset.shuffle(segments.shape[0])\n",
    "        \n",
    "        print('Dataset generated                                                        ')\n",
    "        \n",
    "        return dataset, segments, labels\n",
    "    else:\n",
    "        # Shuffle in the first dimension\n",
    "        permutation = np.arange(0,segments.shape[0]-1)\n",
    "        np.random.shuffle(permutation)\n",
    "        segments = segments[permutation]\n",
    "        labels = labels[permutation]\n",
    "        print('Dataset generated                                                        ')\n",
    "        \n",
    "        return segments, labels"
   ]
  },
  {
   "cell_type": "code",
   "execution_count": 77,
   "metadata": {},
   "outputs": [
    {
     "name": "stdout",
     "output_type": "stream",
     "text": [
      "Generating the dataset                                                                                                     \n",
      "--------------------TRAIN--------------------\n",
      "Dataset generated                                                        \n",
      "Generating the dataset                                                                                                   \n",
      "------------------VALIDATION------------\n",
      "Dataset generated                                                        \n",
      "Train dataset: \n",
      "(58751, 1, 128, 20)\n",
      "Test dataset: \n",
      "(19583, 1, 128, 20)\n"
     ]
    }
   ],
   "source": [
    "n_time_steps = 128\n",
    "dataset = False # Set to True if you want a dataset or to False if you want np.arrays\n",
    "batch_size = 128 # REAL batch_size\n",
    "n_channels = 1 # It can be 1,4 or 9\n",
    "\n",
    "if(dataset):\n",
    "    train_dataset, tr_seg, tr_lab = get_dataset(tr_fullpath, batch_size, n_time_steps, True, False, dataset, n_channels)\n",
    "    \n",
    "    print('Train dataset: ')\n",
    "    print(train_dataset)\n",
    "else:\n",
    "    tr_seg, _ = get_dataset(tr_fullpath, ind, batch_size, n_time_steps, True, False, dataset, n_channels)\n",
    "    ts_seg, _ = get_dataset(ts_fullpath, ind, batch_size, n_time_steps, False, True, dataset, n_channels)\n",
    "    print('Train dataset: ')\n",
    "    print(tr_seg.shape)\n",
    "    print('Test dataset: ')\n",
    "    print(ts_seg.shape)"
   ]
  },
  {
   "cell_type": "markdown",
   "metadata": {},
   "source": [
    "# a) AUTOENCODER"
   ]
  },
  {
   "cell_type": "code",
   "execution_count": 78,
   "metadata": {},
   "outputs": [],
   "source": [
    "from tensorflow.keras.layers import Activation, Dense, Input, Conv2D, Flatten, Reshape, Conv2DTranspose, BatchNormalization, LeakyReLU, Dropout\n",
    "from tensorflow.keras.models import Model\n",
    "from tensorflow.keras import backend as K"
   ]
  },
  {
   "cell_type": "code",
   "execution_count": 79,
   "metadata": {},
   "outputs": [],
   "source": [
    "# Network parameters\n",
    "input_shape = (1,128,20)\n",
    "batch_size = 128\n",
    "kernel_size = 4\n",
    "latent_dim = 100"
   ]
  },
  {
   "cell_type": "markdown",
   "metadata": {},
   "source": [
    "### ENCODER"
   ]
  },
  {
   "cell_type": "code",
   "execution_count": 80,
   "metadata": {},
   "outputs": [
    {
     "name": "stdout",
     "output_type": "stream",
     "text": [
      "Model: \"encoder\"\n",
      "_________________________________________________________________\n",
      "Layer (type)                 Output Shape              Param #   \n",
      "=================================================================\n",
      "encoder_input (InputLayer)   [(None, 1, 128, 20)]      0         \n",
      "_________________________________________________________________\n",
      "conv2d_2 (Conv2D)            (None, 32, 64, 10)        544       \n",
      "_________________________________________________________________\n",
      "batch_normalization_4 (Batch (None, 32, 64, 10)        40        \n",
      "_________________________________________________________________\n",
      "leaky_re_lu_9 (LeakyReLU)    (None, 32, 64, 10)        0         \n",
      "_________________________________________________________________\n",
      "conv2d_3 (Conv2D)            (None, 64, 32, 5)         32832     \n",
      "_________________________________________________________________\n",
      "batch_normalization_5 (Batch (None, 64, 32, 5)         20        \n",
      "_________________________________________________________________\n",
      "leaky_re_lu_10 (LeakyReLU)   (None, 64, 32, 5)         0         \n",
      "_________________________________________________________________\n",
      "flatten_2 (Flatten)          (None, 10240)             0         \n",
      "_________________________________________________________________\n",
      "latent_vector (Dense)        (None, 100)               1024100   \n",
      "=================================================================\n",
      "Total params: 1,057,536\n",
      "Trainable params: 1,057,506\n",
      "Non-trainable params: 30\n",
      "_________________________________________________________________\n"
     ]
    }
   ],
   "source": [
    "# Encoder/Decoder number of CNN layers and filters per layer\n",
    "layer_filters = [32,64]\n",
    "\n",
    "# Build the Autoencoder Model\n",
    "# First build the Encoder Model\n",
    "inputs = Input(shape=input_shape, name='encoder_input')\n",
    "x = inputs\n",
    "# Stack of Conv2D blocks\n",
    "# Notes:\n",
    "# 1) Use Batch Normalization before ReLU on deep networks\n",
    "# 2) Use MaxPooling2D as alternative to strides>1\n",
    "# - faster but not as good as strides>1\n",
    "for filters in layer_filters:\n",
    "    x = Conv2D(filters=filters,\n",
    "               kernel_size=kernel_size,\n",
    "               strides=2,\n",
    "               padding='same',\n",
    "               data_format='channels_first')(x)\n",
    "    x = BatchNormalization()(x)\n",
    "    x = LeakyReLU()(x)\n",
    "\n",
    "# Shape info needed to build Decoder Model\n",
    "shape = K.int_shape(x)\n",
    "\n",
    "# Generate the latent vector\n",
    "x = Flatten()(x)\n",
    "latent = Dense(latent_dim, name='latent_vector')(x)\n",
    "\n",
    "# Instantiate Encoder Model\n",
    "encoder = Model(inputs, latent, name='encoder')\n",
    "encoder.summary()"
   ]
  },
  {
   "cell_type": "markdown",
   "metadata": {},
   "source": [
    "### DECODER"
   ]
  },
  {
   "cell_type": "code",
   "execution_count": 81,
   "metadata": {},
   "outputs": [
    {
     "name": "stdout",
     "output_type": "stream",
     "text": [
      "Model: \"decoder\"\n",
      "_________________________________________________________________\n",
      "Layer (type)                 Output Shape              Param #   \n",
      "=================================================================\n",
      "decoder_input (InputLayer)   [(None, 100)]             0         \n",
      "_________________________________________________________________\n",
      "dense_7 (Dense)              (None, 10240)             1034240   \n",
      "_________________________________________________________________\n",
      "reshape_1 (Reshape)          (None, 64, 32, 5)         0         \n",
      "_________________________________________________________________\n",
      "conv2d_transpose_3 (Conv2DTr (None, 64, 64, 10)        65600     \n",
      "_________________________________________________________________\n",
      "batch_normalization_6 (Batch (None, 64, 64, 10)        40        \n",
      "_________________________________________________________________\n",
      "leaky_re_lu_11 (LeakyReLU)   (None, 64, 64, 10)        0         \n",
      "_________________________________________________________________\n",
      "conv2d_transpose_4 (Conv2DTr (None, 32, 128, 20)       32800     \n",
      "_________________________________________________________________\n",
      "batch_normalization_7 (Batch (None, 32, 128, 20)       80        \n",
      "_________________________________________________________________\n",
      "leaky_re_lu_12 (LeakyReLU)   (None, 32, 128, 20)       0         \n",
      "_________________________________________________________________\n",
      "conv2d_transpose_5 (Conv2DTr (None, 1, 128, 20)        513       \n",
      "_________________________________________________________________\n",
      "decoder_output (Activation)  (None, 1, 128, 20)        0         \n",
      "=================================================================\n",
      "Total params: 1,133,273\n",
      "Trainable params: 1,133,213\n",
      "Non-trainable params: 60\n",
      "_________________________________________________________________\n"
     ]
    }
   ],
   "source": [
    "# Build the Decoder Model\n",
    "latent_inputs = Input(shape=(latent_dim,), name='decoder_input')\n",
    "x = Dense(shape[1] * shape[2] * shape[3])(latent_inputs)\n",
    "x = Reshape((shape[1], shape[2], shape[3]))(x)\n",
    "\n",
    "# Stack of Transposed Conv2D blocks\n",
    "# Notes:\n",
    "# 1) Use Batch Normalization before ReLU on deep networks\n",
    "# 2) Use UpSampling2D as alternative to strides>1\n",
    "# - faster but not as good as strides>1\n",
    "for filters in layer_filters[::-1]:\n",
    "    x = Conv2DTranspose(filters=filters,\n",
    "                        kernel_size=kernel_size,\n",
    "                        strides=2,\n",
    "                        padding='same',\n",
    "                        data_format = 'channels_first')(x)\n",
    "    x = BatchNormalization()(x)\n",
    "    x = LeakyReLU()(x)\n",
    "\n",
    "x = Conv2DTranspose(filters=1,\n",
    "                    kernel_size=kernel_size,\n",
    "                    padding='same',\n",
    "                    data_format='channels_first')(x)\n",
    "\n",
    "outputs = Activation('tanh', name='decoder_output')(x)\n",
    "\n",
    "# Instantiate Decoder Model\n",
    "decoder = Model(latent_inputs, outputs, name='decoder')\n",
    "decoder.compile(loss='binary_crossentropy', optimizer=keras.optimizers.Adam(lr=0.0001, beta_1=0.3))\n",
    "decoder.summary()"
   ]
  },
  {
   "cell_type": "markdown",
   "metadata": {},
   "source": [
    "### AUTOENCODER COMPLETO"
   ]
  },
  {
   "cell_type": "code",
   "execution_count": 82,
   "metadata": {},
   "outputs": [
    {
     "name": "stdout",
     "output_type": "stream",
     "text": [
      "Model: \"autoencoder\"\n",
      "_________________________________________________________________\n",
      "Layer (type)                 Output Shape              Param #   \n",
      "=================================================================\n",
      "encoder_input (InputLayer)   [(None, 1, 128, 20)]      0         \n",
      "_________________________________________________________________\n",
      "encoder (Model)              (None, 100)               1057536   \n",
      "_________________________________________________________________\n",
      "decoder (Model)              (None, 1, 128, 20)        1133273   \n",
      "=================================================================\n",
      "Total params: 2,190,809\n",
      "Trainable params: 2,190,719\n",
      "Non-trainable params: 90\n",
      "_________________________________________________________________\n"
     ]
    }
   ],
   "source": [
    "# Autoencoder = Encoder + Decoder\n",
    "# Instantiate Autoencoder Model\n",
    "autoencoder = Model(inputs, decoder(encoder(inputs)), name='autoencoder')\n",
    "autoencoder.summary()\n",
    "\n",
    "autoencoder.compile(loss='mse', optimizer=keras.optimizers.Adam(lr=0.00001, beta_1=0.2), metrics=['accuracy'])"
   ]
  },
  {
   "cell_type": "code",
   "execution_count": 83,
   "metadata": {},
   "outputs": [],
   "source": [
    "reduce_lr = keras.callbacks.ReduceLROnPlateau(monitor='val_loss', factor=0.4, patience=2, min_lr=1e-9, verbose=1, mode='min')\n",
    "early_stopping = keras.callbacks.EarlyStopping(monitor='val_loss', patience=3, verbose=1)\n",
    "\n",
    "callbacks_list = [reduce_lr, early_stopping]"
   ]
  },
  {
   "cell_type": "code",
   "execution_count": 84,
   "metadata": {},
   "outputs": [
    {
     "name": "stdout",
     "output_type": "stream",
     "text": [
      "Train on 58751 samples, validate on 19583 samples\n",
      "Epoch 1/100\n",
      "58751/58751 [==============================] - 26s 446us/sample - loss: 0.1679 - acc: 0.2618 - val_loss: 0.0929 - val_acc: 0.3554\n",
      "Epoch 2/100\n",
      "58751/58751 [==============================] - 25s 429us/sample - loss: 0.0452 - acc: 0.4698 - val_loss: 0.0619 - val_acc: 0.4526\n",
      "Epoch 3/100\n",
      "58751/58751 [==============================] - 25s 429us/sample - loss: 0.0284 - acc: 0.5626 - val_loss: 0.0421 - val_acc: 0.5190\n",
      "Epoch 4/100\n",
      "58751/58751 [==============================] - 25s 429us/sample - loss: 0.0189 - acc: 0.6180 - val_loss: 0.0319 - val_acc: 0.5491\n",
      "Epoch 5/100\n",
      "58751/58751 [==============================] - 25s 429us/sample - loss: 0.0137 - acc: 0.6499 - val_loss: 0.0267 - val_acc: 0.5699\n",
      "Epoch 6/100\n",
      "58751/58751 [==============================] - 25s 431us/sample - loss: 0.0108 - acc: 0.6719 - val_loss: 0.0237 - val_acc: 0.5861\n",
      "Epoch 7/100\n",
      "58751/58751 [==============================] - 25s 430us/sample - loss: 0.0089 - acc: 0.6899 - val_loss: 0.0216 - val_acc: 0.5980\n",
      "Epoch 8/100\n",
      "58751/58751 [==============================] - 25s 430us/sample - loss: 0.0076 - acc: 0.7047 - val_loss: 0.0201 - val_acc: 0.6085\n",
      "Epoch 9/100\n",
      "58751/58751 [==============================] - 25s 430us/sample - loss: 0.0067 - acc: 0.7176 - val_loss: 0.0189 - val_acc: 0.6223\n",
      "Epoch 10/100\n",
      "58751/58751 [==============================] - 25s 430us/sample - loss: 0.0061 - acc: 0.7283 - val_loss: 0.0181 - val_acc: 0.6274\n",
      "Epoch 11/100\n",
      "58751/58751 [==============================] - 25s 430us/sample - loss: 0.0056 - acc: 0.7376 - val_loss: 0.0173 - val_acc: 0.6279\n",
      "Epoch 12/100\n",
      "58751/58751 [==============================] - 25s 431us/sample - loss: 0.0052 - acc: 0.7453 - val_loss: 0.0169 - val_acc: 0.6437\n",
      "Epoch 13/100\n",
      "58751/58751 [==============================] - 25s 430us/sample - loss: 0.0049 - acc: 0.7521 - val_loss: 0.0165 - val_acc: 0.6573\n",
      "Epoch 14/100\n",
      "58751/58751 [==============================] - 25s 430us/sample - loss: 0.0046 - acc: 0.7584 - val_loss: 0.0158 - val_acc: 0.6556\n",
      "Epoch 15/100\n",
      "58751/58751 [==============================] - 25s 430us/sample - loss: 0.0044 - acc: 0.7639 - val_loss: 0.0155 - val_acc: 0.6584\n",
      "Epoch 16/100\n",
      "58751/58751 [==============================] - 25s 428us/sample - loss: 0.0042 - acc: 0.7691 - val_loss: 0.0150 - val_acc: 0.6571\n",
      "Epoch 17/100\n",
      "58751/58751 [==============================] - 25s 431us/sample - loss: 0.0040 - acc: 0.7737 - val_loss: 0.0148 - val_acc: 0.6585\n",
      "Epoch 18/100\n",
      "58751/58751 [==============================] - 25s 431us/sample - loss: 0.0039 - acc: 0.7779 - val_loss: 0.0146 - val_acc: 0.6646\n",
      "Epoch 19/100\n",
      "58751/58751 [==============================] - 25s 430us/sample - loss: 0.0037 - acc: 0.7817 - val_loss: 0.0143 - val_acc: 0.6629\n",
      "Epoch 20/100\n",
      "58751/58751 [==============================] - 25s 429us/sample - loss: 0.0036 - acc: 0.7855 - val_loss: 0.0140 - val_acc: 0.6590\n",
      "Epoch 21/100\n",
      "58751/58751 [==============================] - 25s 431us/sample - loss: 0.0035 - acc: 0.7889 - val_loss: 0.0139 - val_acc: 0.6643\n",
      "Epoch 22/100\n",
      "58751/58751 [==============================] - 25s 430us/sample - loss: 0.0034 - acc: 0.7920 - val_loss: 0.0137 - val_acc: 0.6711\n",
      "Epoch 23/100\n",
      "58751/58751 [==============================] - 25s 431us/sample - loss: 0.0033 - acc: 0.7951 - val_loss: 0.0134 - val_acc: 0.6701\n",
      "Epoch 24/100\n",
      "58751/58751 [==============================] - 25s 430us/sample - loss: 0.0032 - acc: 0.7980 - val_loss: 0.0133 - val_acc: 0.6709\n",
      "Epoch 25/100\n",
      "58751/58751 [==============================] - 25s 432us/sample - loss: 0.0031 - acc: 0.8005 - val_loss: 0.0132 - val_acc: 0.6781\n",
      "Epoch 26/100\n",
      "58751/58751 [==============================] - 25s 430us/sample - loss: 0.0031 - acc: 0.8028 - val_loss: 0.0130 - val_acc: 0.6774\n",
      "Epoch 27/100\n",
      "58751/58751 [==============================] - 25s 430us/sample - loss: 0.0030 - acc: 0.8052 - val_loss: 0.0130 - val_acc: 0.6764\n",
      "Epoch 28/100\n",
      "58751/58751 [==============================] - 25s 431us/sample - loss: 0.0029 - acc: 0.8076 - val_loss: 0.0127 - val_acc: 0.6817\n",
      "Epoch 29/100\n",
      "58751/58751 [==============================] - 25s 430us/sample - loss: 0.0029 - acc: 0.8096 - val_loss: 0.0126 - val_acc: 0.6788\n",
      "Epoch 30/100\n",
      "58751/58751 [==============================] - 25s 431us/sample - loss: 0.0028 - acc: 0.8120 - val_loss: 0.0124 - val_acc: 0.6752\n",
      "Epoch 31/100\n",
      "58751/58751 [==============================] - 25s 429us/sample - loss: 0.0027 - acc: 0.8140 - val_loss: 0.0125 - val_acc: 0.6818\n",
      "Epoch 32/100\n",
      "58751/58751 [==============================] - 25s 429us/sample - loss: 0.0027 - acc: 0.8154 - val_loss: 0.0123 - val_acc: 0.6834\n",
      "Epoch 33/100\n",
      "58751/58751 [==============================] - 25s 431us/sample - loss: 0.0026 - acc: 0.8173 - val_loss: 0.0122 - val_acc: 0.6814\n",
      "Epoch 34/100\n",
      "58751/58751 [==============================] - 25s 431us/sample - loss: 0.0026 - acc: 0.8189 - val_loss: 0.0120 - val_acc: 0.6870\n",
      "Epoch 35/100\n",
      "58751/58751 [==============================] - 25s 428us/sample - loss: 0.0025 - acc: 0.8208 - val_loss: 0.0119 - val_acc: 0.6848\n",
      "Epoch 36/100\n",
      "58624/58751 [============================>.] - ETA: 0s - loss: 0.0025 - acc: 0.8225\n",
      "Epoch 00036: ReduceLROnPlateau reducing learning rate to 3.999999898951501e-06.\n",
      "58751/58751 [==============================] - 26s 436us/sample - loss: 0.0025 - acc: 0.8224 - val_loss: 0.0120 - val_acc: 0.6849\n",
      "Epoch 37/100\n",
      "58751/58751 [==============================] - 25s 430us/sample - loss: 0.0023 - acc: 0.8270 - val_loss: 0.0116 - val_acc: 0.6854\n",
      "Epoch 38/100\n",
      "58751/58751 [==============================] - 25s 431us/sample - loss: 0.0022 - acc: 0.8278 - val_loss: 0.0116 - val_acc: 0.6877\n",
      "Epoch 39/100\n",
      "58496/58751 [============================>.] - ETA: 0s - loss: 0.0022 - acc: 0.8287\n",
      "Epoch 00039: ReduceLROnPlateau reducing learning rate to 1.5999999959603884e-06.\n",
      "58751/58751 [==============================] - 25s 430us/sample - loss: 0.0022 - acc: 0.8286 - val_loss: 0.0116 - val_acc: 0.6882\n",
      "Epoch 40/100\n",
      "58751/58751 [==============================] - 25s 430us/sample - loss: 0.0022 - acc: 0.8297 - val_loss: 0.0115 - val_acc: 0.6877\n",
      "Epoch 41/100\n",
      "58751/58751 [==============================] - 25s 430us/sample - loss: 0.0022 - acc: 0.8301 - val_loss: 0.0115 - val_acc: 0.6876\n",
      "Epoch 42/100\n",
      "58496/58751 [============================>.] - ETA: 0s - loss: 0.0022 - acc: 0.8306\n",
      "Epoch 00042: ReduceLROnPlateau reducing learning rate to 6.400000074791024e-07.\n",
      "58751/58751 [==============================] - 25s 431us/sample - loss: 0.0022 - acc: 0.8306 - val_loss: 0.0114 - val_acc: 0.6869\n",
      "Epoch 43/100\n",
      "58751/58751 [==============================] - 25s 430us/sample - loss: 0.0021 - acc: 0.8311 - val_loss: 0.0114 - val_acc: 0.6865\n",
      "Epoch 44/100\n",
      "58496/58751 [============================>.] - ETA: 0s - loss: 0.0021 - acc: 0.8313\n",
      "Epoch 00044: ReduceLROnPlateau reducing learning rate to 2.5599999844416746e-07.\n",
      "58751/58751 [==============================] - 25s 431us/sample - loss: 0.0021 - acc: 0.8314 - val_loss: 0.0114 - val_acc: 0.6875\n",
      "Epoch 45/100\n",
      "58751/58751 [==============================] - 25s 431us/sample - loss: 0.0021 - acc: 0.8315 - val_loss: 0.0114 - val_acc: 0.6889\n",
      "Epoch 46/100\n",
      "58624/58751 [============================>.] - ETA: 0s - loss: 0.0021 - acc: 0.8316\n",
      "Epoch 00046: ReduceLROnPlateau reducing learning rate to 1.0239999710393022e-07.\n",
      "58751/58751 [==============================] - 25s 431us/sample - loss: 0.0021 - acc: 0.8316 - val_loss: 0.0114 - val_acc: 0.6890\n",
      "Epoch 47/100\n",
      "58751/58751 [==============================] - 25s 431us/sample - loss: 0.0021 - acc: 0.8318 - val_loss: 0.0114 - val_acc: 0.6884\n",
      "Epoch 48/100\n",
      "58496/58751 [============================>.] - ETA: 0s - loss: 0.0021 - acc: 0.8318\n",
      "Epoch 00048: ReduceLROnPlateau reducing learning rate to 4.095999770470371e-08.\n",
      "58751/58751 [==============================] - 25s 430us/sample - loss: 0.0021 - acc: 0.8318 - val_loss: 0.0114 - val_acc: 0.6882\n",
      "Epoch 49/100\n",
      "58751/58751 [==============================] - 25s 431us/sample - loss: 0.0021 - acc: 0.8318 - val_loss: 0.0114 - val_acc: 0.6887\n",
      "Epoch 50/100\n",
      "58496/58751 [============================>.] - ETA: 0s - loss: 0.0021 - acc: 0.8318\n",
      "Epoch 00050: ReduceLROnPlateau reducing learning rate to 1.6383998513447297e-08.\n",
      "58751/58751 [==============================] - 25s 430us/sample - loss: 0.0021 - acc: 0.8318 - val_loss: 0.0114 - val_acc: 0.6885\n",
      "Epoch 51/100\n",
      "58751/58751 [==============================] - 25s 431us/sample - loss: 0.0021 - acc: 0.8319 - val_loss: 0.0114 - val_acc: 0.6885\n",
      "Epoch 52/100\n",
      "58624/58751 [============================>.] - ETA: 0s - loss: 0.0021 - acc: 0.8319\n",
      "Epoch 00052: ReduceLROnPlateau reducing learning rate to 6.553599263270372e-09.\n",
      "58751/58751 [==============================] - 25s 430us/sample - loss: 0.0021 - acc: 0.8319 - val_loss: 0.0114 - val_acc: 0.6884\n",
      "Epoch 00052: early stopping\n"
     ]
    }
   ],
   "source": [
    "# Train the autoencoder\n",
    "history = autoencoder.fit(tr_seg,\n",
    "                          tr_seg,\n",
    "                          validation_data=(ts_seg,ts_seg),\n",
    "                          epochs=100,\n",
    "                          batch_size=batch_size,\n",
    "                          verbose=1,\n",
    "                          callbacks=callbacks_list)\n",
    "\n",
    "# Predict the Autoencoder output from corrupted test images\n",
    "x_decoded = autoencoder.predict(ts_seg)"
   ]
  },
  {
   "cell_type": "code",
   "execution_count": 85,
   "metadata": {},
   "outputs": [],
   "source": [
    "def plot_curves(model, acc, loss, val_acc, val_loss, tp):\n",
    "    #########################################################################################\n",
    "    # LOSS plot\n",
    "    plt.figure(figsize=(12,8))\n",
    "    plt.plot(model.history.history[loss], label='Training loss')\n",
    "    plt.plot(model.history.history[val_loss], label='Validation loss')\n",
    "    plt.xlabel('Epochs', fontsize=15)\n",
    "    plt.ylabel('Loss', fontsize=15)\n",
    "    plt.tick_params(labelsize=10)\n",
    "    plt.legend(loc=1,prop={'size': 10})\n",
    "    plt.title('Loss in trainnig', fontsize=20)\n",
    "    fig = plt.gcf()\n",
    "    plt.show()\n",
    "    \n",
    "    fig.savefig('./00_12_models/'+tp+'_loss_train_00_12.pdf', bbox_inches='tight',format='pdf')\n",
    "    fig.savefig('./00_12_models/'+tp+'_loss_train_00_12.svg', bbox_inches='tight',format='svg')\n",
    "    \n",
    "    #########################################################################################\n",
    "    # ACC plot\n",
    "    plt.figure(figsize=(12,8))\n",
    "    plt.plot(model.history.history[acc], label='Training accuracy')\n",
    "    plt.plot(model.history.history[val_acc], label= 'Validation accuracy')\n",
    "    plt.xlabel('Epochs', fontsize=15)\n",
    "    plt.ylabel('Accuracy', fontsize=15)\n",
    "    plt.tick_params(labelsize=10)\n",
    "    plt.legend(loc=1,prop={'size': 10})\n",
    "    plt.title('Accuracy in training', fontsize=20)\n",
    "    fig = plt.gcf()\n",
    "    plt.show()\n",
    "\n",
    "    fig.savefig('./00_12_models/'+tp+'_acc_train_00_12.pdf', bbox_inches='tight',format='pdf')\n",
    "    fig.savefig('./00_12_models/'+tp+'_acc_train_00_12.svg', bbox_inches='tight',format='svg')\n",
    "    \n",
    "    #########################################################################################\n",
    "    # ACC+LOSS plot\n",
    "    plt.figure(figsize=(14,10))\n",
    "    plt_loss = host_subplot(111, axes_class=AA.Axes)\n",
    "    plt.subplots_adjust(right=0.75)\n",
    "\n",
    "    plt_acc = plt_loss.twinx()\n",
    "    plt_acc.axis[\"right\"].toggle(all=True)\n",
    "    \n",
    "    plt_loss.set_xlim(0, len(model.history.history[loss]))\n",
    "    plt_loss.set_ylim(0, max(model.history.history[loss]))\n",
    "    plt_loss.set_xlabel('Epochs')\n",
    "    plt_loss.set_ylabel('Loss')\n",
    "    plt_acc.set_ylabel('Accuracy')\n",
    "                        \n",
    "    plt_loss.axis['left'].label.set_fontsize(15)\n",
    "    plt_loss.axis['bottom'].label.set_fontsize(15)\n",
    "    plt_acc.axis['right'].label.set_fontsize(15)\n",
    "    \n",
    "    plt_loss.plot(model.history.history[loss], c='tab:blue', ls='--', label='Training loss')\n",
    "    plt_acc.plot(model.history.history[acc], c='tab:orange',ls='--', label='Training accuracy')\n",
    "    plt_loss.plot(model.history.history[val_loss], c='tab:blue',ls='-', label='Validation loss')\n",
    "    plt_acc.plot(model.history.history[val_acc], c='tab:orange',ls='-', label='Validation accuracy')\n",
    "    \n",
    "    plt.tick_params(labelsize=10)\n",
    "    plt.title('Training performance', fontsize=20)\n",
    "    plt_acc.set_ylim(0, 1)\n",
    "    plt_loss.legend(loc=1, prop={'size': 10})\n",
    "    \n",
    "    fig = plt.gcf()\n",
    "    plt.show()\n",
    "\n",
    "    fig.savefig('./00_12_models/'+tp+'_all_train_00_12.pdf', bbox_inches='tight',format='pdf')\n",
    "    fig.savefig('./00_12_models/'+tp+'_all_train_00_12.svg', bbox_inches='tight',format='svg')"
   ]
  },
  {
   "cell_type": "code",
   "execution_count": 86,
   "metadata": {},
   "outputs": [
    {
     "data": {
      "image/png": "[encoded data removed]",
      "text/plain": [
       "<Figure size 864x576 with 1 Axes>"
      ]
     },
     "metadata": {
      "needs_background": "light"
     },
     "output_type": "display_data"
    },
    {
     "data": {
      "image/png": "[encoded data removed]",
      "text/plain": [
       "<Figure size 864x576 with 1 Axes>"
      ]
     },
     "metadata": {
      "needs_background": "light"
     },
     "output_type": "display_data"
    },
    {
     "data": {
      "image/png": "[encoded data removed]",
      "text/plain": [
       "<Figure size 1008x720 with 1 Axes>"
      ]
     },
     "metadata": {
      "needs_background": "light"
     },
     "output_type": "display_data"
    }
   ],
   "source": [
    "#Visualize training evolution\n",
    "plot_curves(autoencoder, 'acc', 'loss', 'val_acc', 'val_loss', 'AUTOENCODER')"
   ]
  },
  {
   "cell_type": "code",
   "execution_count": 87,
   "metadata": {},
   "outputs": [
    {
     "name": "stdout",
     "output_type": "stream",
     "text": [
      "Autoencoder saved.\n",
      "Encoder saved.\n",
      "Decoder saved.\n"
     ]
    }
   ],
   "source": [
    "# Save model\n",
    "autoencoder.save('./00_12_models/autoencoder.h5')\n",
    "print('Autoencoder saved.')\n",
    "encoder.save('./00_12_models/encoder.h5')\n",
    "print('Encoder saved.')\n",
    "decoder.save('./00_12_models/decoder.h5')\n",
    "print('Decoder saved.')"
   ]
  },
  {
   "cell_type": "code",
   "execution_count": 88,
   "metadata": {},
   "outputs": [],
   "source": [
    "def write(name, ts_seg):\n",
    "    fo = open(name, \"w\")\n",
    "    head = \"QUAT,w,x,y,z,timestamp\\n\"\n",
    "    fo.seek(0,2)\n",
    "    fo.write(head)\n",
    "    fo.close()\n",
    "    \n",
    "    fo = open(name, \"a\")\n",
    "    salida = np.reshape(ts_seg, (ts_seg.shape[0]*ts_seg.shape[2], ts_seg.shape[3]))\n",
    "    \n",
    "    k = 0\n",
    "    for i in range(salida.shape[0]):\n",
    "        if(i%128==0):\n",
    "            if(i!=0):\n",
    "                k+=1\n",
    "        print('%d'%(i), end='\\r')\n",
    "        fo.write(\"quat0,\"+str(salida[i][0])+\",\"+str(salida[i][1])+\",\"+str(salida[i][2])+\",\"+str(salida[i][3])+\",\"+str(i)+\",\"+'\\n')\n",
    "        fo.write(\"quat1,\"+str(salida[i][4])+\",\"+str(salida[i][5])+\",\"+str(salida[i][6])+\",\"+str(salida[i][7])+\",\"+str(i)+\",\"+'\\n')\n",
    "        fo.write(\"quat2,\"+str(salida[i][8])+\",\"+str(salida[i][9])+\",\"+str(salida[i][10])+\",\"+str(salida[i][11])+\",\"+str(i)+\",\"+'\\n')\n",
    "        fo.write(\"quat3,\"+str(salida[i][12])+\",\"+str(salida[i][13])+\",\"+str(salida[i][14])+\",\"+str(salida[i][15])+\",\"+str(i)+\",\"+'\\n')\n",
    "        fo.write(\"quat4,\"+str(salida[i][16])+\",\"+str(salida[i][17])+\",\"+str(salida[i][18])+\",\"+str(salida[i][19])+\",\"+str(i)+\",\"+'\\n')\n",
    "        if(salida.shape[1]==36):\n",
    "            fo.write(\"quat5,\"+str(salida[i][20])+\",\"+str(salida[i][21])+\",\"+str(salida[i][22])+\",\"+str(salida[i][23])+\",\"+str(i)+\",\"+'\\n')\n",
    "            fo.write(\"quat6,\"+str(salida[i][24])+\",\"+str(salida[i][25])+\",\"+str(salida[i][26])+\",\"+str(salida[i][27])+\",\"+str(i)+\",\"+'\\n')\n",
    "            fo.write(\"quat7,\"+str(salida[i][28])+\",\"+str(salida[i][29])+\",\"+str(salida[i][30])+\",\"+str(salida[i][31])+\",\"+str(i)+\",\"+'\\n')\n",
    "            fo.write(\"quat8,\"+str(salida[i][32])+\",\"+str(salida[i][33])+\",\"+str(salida[i][34])+\",\"+str(salida[i][35])+\",\"+str(i)+\",\"+'\\n')\n",
    "        else:\n",
    "            fo.write(\"quat5,\"+str(1)+\",\"+str(0)+\",\"+str(0)+\",\"+str(0)+\",\"+str(i)+\",\"+'\\n')\n",
    "            fo.write(\"quat6,\"+str(1)+\",\"+str(0)+\",\"+str(0)+\",\"+str(0)+\",\"+str(i)+\",\"+'\\n')\n",
    "            fo.write(\"quat7,\"+str(1)+\",\"+str(0)+\",\"+str(0)+\",\"+str(0)+\",\"+str(i)+\",\"+'\\n')\n",
    "            fo.write(\"quat8,\"+str(1)+\",\"+str(0)+\",\"+str(0)+\",\"+str(0)+\",\"+str(i)+\",\"+'\\n')\n",
    "    fo.close()"
   ]
  },
  {
   "cell_type": "code",
   "execution_count": 89,
   "metadata": {},
   "outputs": [
    {
     "name": "stdout",
     "output_type": "stream",
     "text": [
      "2506623\r"
     ]
    }
   ],
   "source": [
    "name = \"./00_12_models/autoencoder_pred_12.csv\"\n",
    "write(name, x_decoded)\n",
    "name = \"./00_12_models/autoencoder_pass_12.csv\"\n",
    "write(name, ts_seg)"
   ]
  },
  {
   "cell_type": "markdown",
   "metadata": {},
   "source": [
    "Liberamos toda la memoria posible:"
   ]
  },
  {
   "cell_type": "code",
   "execution_count": 90,
   "metadata": {},
   "outputs": [],
   "source": [
    "del tr_seg, ts_seg, autoencoder, decoder, encoder"
   ]
  },
  {
   "cell_type": "markdown",
   "metadata": {},
   "source": [
    "# b) Tomar el decoder del autoencoder como GENERADOR y pre-entrenar el DISCRIMINADOR"
   ]
  },
  {
   "cell_type": "code",
   "execution_count": 91,
   "metadata": {},
   "outputs": [
    {
     "name": "stdout",
     "output_type": "stream",
     "text": [
      "Total files: 288\n",
      "Train files: 216\n",
      "Test files: 72\n",
      "TRAINING: \n",
      "['../data_augment/subject_01_AUGMENT_deg_-105_act_19.csv', '../data_augment/subject_01_AUGMENT_deg_-120_act_19.csv', '../data_augment/subject_01_AUGMENT_deg_-135_act_19.csv', '../data_augment/subject_01_AUGMENT_deg_-150_act_19.csv', '../data_augment/subject_01_AUGMENT_deg_-15_act_19.csv', '../data_augment/subject_01_AUGMENT_deg_-165_act_19.csv', '../data_augment/subject_01_AUGMENT_deg_-30_act_19.csv', '../data_augment/subject_01_AUGMENT_deg_-45_act_19.csv', '../data_augment/subject_01_AUGMENT_deg_-60_act_19.csv', '../data_augment/subject_01_AUGMENT_deg_-75_act_19.csv'] ...\n",
      "TEST: \n",
      "['../data_augment/subject_02_AUGMENT_deg_-105_act_19.csv', '../data_augment/subject_02_AUGMENT_deg_-120_act_19.csv', '../data_augment/subject_02_AUGMENT_deg_-135_act_19.csv', '../data_augment/subject_02_AUGMENT_deg_-150_act_19.csv', '../data_augment/subject_02_AUGMENT_deg_-15_act_19.csv', '../data_augment/subject_02_AUGMENT_deg_-165_act_19.csv', '../data_augment/subject_02_AUGMENT_deg_-30_act_19.csv', '../data_augment/subject_02_AUGMENT_deg_-45_act_19.csv', '../data_augment/subject_02_AUGMENT_deg_-60_act_19.csv', '../data_augment/subject_02_AUGMENT_deg_-75_act_19.csv'] ...\n"
     ]
    }
   ],
   "source": [
    "# Ruta raíz\n",
    "PATH = '../data_augment/'\n",
    "\n",
    "quaturls = !ls -1 \"{PATH}\"\n",
    "\n",
    "\n",
    "\n",
    "quat_corr = []\n",
    "for filename in quaturls:\n",
    "    for activity in activities:\n",
    "        if(int(filename[-6:-4])==activity):\n",
    "            quat_corr.append(filename)\n",
    "\n",
    "tr_urls = []\n",
    "ts_urls = []\n",
    "\n",
    "i=0\n",
    "for filename in quat_corr:\n",
    "    for subject in subjects_train:\n",
    "        if(int(quat_corr[i][8:10])==subject):\n",
    "            tr_urls.append(filename)\n",
    "    i+=1\n",
    "i=0\n",
    "for filename in quat_corr:\n",
    "    for subject in subjects_test:\n",
    "        if(int(quat_corr[i][8:10])==subject):\n",
    "            ts_urls.append(filename)\n",
    "    i+=1\n",
    "\n",
    "del quat_corr\n",
    "\n",
    "print('Total files: ' + str(len(tr_urls+ts_urls)))\n",
    "print('Train files: ' + str(len(tr_urls)))\n",
    "print('Test files: ' + str(len(ts_urls)))\n",
    "\n",
    "tr_fullpath = [os.path.join(PATH,s) for s in tr_urls]\n",
    "ts_fullpath = [os.path.join(PATH,s) for s in ts_urls]\n",
    "print('TRAINING: ')\n",
    "print(str(tr_fullpath[:10]) + ' ...')\n",
    "print('TEST: ')\n",
    "print(str(ts_fullpath[:10]) + ' ...')"
   ]
  },
  {
   "cell_type": "code",
   "execution_count": 92,
   "metadata": {},
   "outputs": [],
   "source": [
    "def sliding_window_2(df, n_time_steps, step, segments, labels, label, dim, train, n_channels):\n",
    "    quat0 = df.iloc[:, 1:5][df['QUAT']=='quat0'].reset_index() # si no incluimos el reset_index(), al concatenarlos después\n",
    "    quat1 = df.iloc[:, 1:5][df['QUAT']=='quat1'].reset_index() # aparecerá un dataframe de igual nº de filas que df, pero con\n",
    "    quat2 = df.iloc[:, 1:5][df['QUAT']=='quat2'].reset_index() # NaN en las posiciones que no tienen número de cada dataframe quat,\n",
    "    quat3 = df.iloc[:, 1:5][df['QUAT']=='quat3'].reset_index() # es decir, mantiene los índices de df.\n",
    "    quat4 = df.iloc[:, 1:5][df['QUAT']=='quat4'].reset_index()\n",
    "    \n",
    "    quat = pd.concat([quat0.iloc[:, 1], quat0.iloc[:, 2], quat0.iloc[:, 3], quat0.iloc[:, 4],\n",
    "                      quat1.iloc[:, 1], quat1.iloc[:, 2], quat1.iloc[:, 3], quat1.iloc[:, 4],\n",
    "                      quat2.iloc[:, 1], quat2.iloc[:, 2], quat2.iloc[:, 3], quat2.iloc[:, 4],\n",
    "                      quat3.iloc[:, 1], quat3.iloc[:, 2], quat3.iloc[:, 3], quat3.iloc[:, 4],\n",
    "                      quat4.iloc[:, 1], quat4.iloc[:, 2], quat4.iloc[:, 3], quat4.iloc[:, 4]],\n",
    "                      axis = 1, keys = ['w0', 'x0', 'y0', 'z0', 'w1', 'x1', 'y1', 'z1', 'w2', 'x2', 'y2', 'z2', \n",
    "                                        'w3', 'x3', 'y3', 'z3', 'w4', 'x4', 'y4', 'z4'])\n",
    "    del quat0, quat1, quat2, quat3, quat4\n",
    "    \n",
    "    if(n_channels == 1):\n",
    "        for i in range(0, quat.shape[0] - n_time_steps, step): # Overlap\n",
    "            # Con listas y numpy\n",
    "            segments.append([])\n",
    "            segments[dim].append(quat.iloc[i: i + n_time_steps, :].values) # Si distinguimos entre sensores\n",
    "            labels.append(label)\n",
    "            dim+=1\n",
    "    else:\n",
    "        n_columns = int(36/n_channels)\n",
    "        for i in range(0, quat.shape[0] - n_time_steps, step):\n",
    "            segments.append([])\n",
    "            col = 0\n",
    "            for j in range(n_channels):\n",
    "                segments[dim].append([])\n",
    "                segments[dim][j].append(quat.iloc[i:i+n_time_steps,col:col+n_columns].values)\n",
    "                col+=n_columns\n",
    "            labels.append(label)\n",
    "            dim+=1\n",
    "    \n",
    "        \n",
    "    del quat\n",
    "    \n",
    "    return segments, labels, dim\n",
    "\n",
    "\n",
    "def load_quat_2(path, train, n_channels):\n",
    "\n",
    "    n_time_steps, step = 128, 1  # n_time_steps/50 segundos de actividad y pasos de step/50 segundos (de overlap)\n",
    "    \n",
    "    # Con listas\n",
    "    segments = []\n",
    "    labels = []\n",
    "    \n",
    "    i=1\n",
    "    dim = 0\n",
    "    for filename in path:\n",
    "        print(\"Reading %s (%d/%d)                                                   \"%(filename, i, len(path)), end='\\r')\n",
    "        df = pd.read_csv(filename,sep=',',names=[\"QUAT\",\"w\",\"x\",\"y\",\"z\",\"timestamp\"])\n",
    "        label = int(filename[-6:-4])\n",
    "        if(label==19):\n",
    "            label=1\n",
    "        else:\n",
    "            label=0\n",
    "        \n",
    "        segments, labels, dim = sliding_window_2(df.iloc[:ind], n_time_steps, step, segments, labels, label, dim, train, n_channels)\n",
    "        \n",
    "        i+=1\n",
    "    \n",
    "    del df\n",
    "    \n",
    "    return segments, labels\n",
    "\n",
    "\n",
    "def load_train_quat_2(filename, n_channels):\n",
    "    return load_quat_2(filename, True, n_channels)\n",
    "\n",
    "def load_test_quat_2(filename, n_channels):\n",
    "    return load_quat_2(filename, False, n_channels)\n",
    "\n",
    "def get_dataset_2(data_path, batch_size, n_time_steps, train, valid, ds, n_channels):\n",
    "    if(train):\n",
    "        segments, labels = load_train_quat_2(data_path, n_channels)\n",
    "    else:\n",
    "        segments, labels = load_test_quat_2(data_path, n_channels)\n",
    "    \n",
    "    print('Generating the dataset                                                   ')                                              \n",
    "    \n",
    "    array = np.asarray(segments, dtype = 'float32')\n",
    "    segments = np.reshape(array, (array.shape[0], n_channels, n_time_steps, int(20/n_channels)))\n",
    "    array = np.asarray(labels, dtype = 'int8')\n",
    "    labels = np.reshape(array, (array.shape[0], 1))\n",
    "    \n",
    "    del array\n",
    "\n",
    "    # Map coninous dataset to categorical (One-Hot)\n",
    "    labels = keras.utils.to_categorical(labels, 2)\n",
    "    \n",
    "    if(train):\n",
    "        print('-'*20 + 'TRAIN' + '-'*20)\n",
    "    elif(valid):\n",
    "        print('-'*18 + 'VALIDATION' + '-'*12)\n",
    "    else:\n",
    "        print('-'*20 + 'TEST' + '-'*21)\n",
    "    \n",
    "    if(ds):\n",
    "        dataset = tf.data.Dataset.from_tensor_slices((segments, labels))\n",
    "    \n",
    "        # It's necessary to repeat our data for all epochs\n",
    "        dataset = dataset.batch(batch_size)\n",
    "        \n",
    "        dataset = dataset.shuffle(segments.shape[0])\n",
    "        \n",
    "        print('Dataset generated                                                        ')\n",
    "        \n",
    "        return dataset, segments, labels\n",
    "    else:\n",
    "        # Shuffle in the first dimension\n",
    "        permutation = np.arange(0,segments.shape[0]-1)\n",
    "        np.random.shuffle(permutation)\n",
    "        segments = segments[permutation]\n",
    "        labels = labels[permutation]\n",
    "        print('Dataset generated                                                        ')\n",
    "        \n",
    "        return segments, labels"
   ]
  },
  {
   "cell_type": "code",
   "execution_count": 93,
   "metadata": {},
   "outputs": [
    {
     "name": "stdout",
     "output_type": "stream",
     "text": [
      "Generating the dataset                                                                                                     \n",
      "--------------------TRAIN--------------------\n",
      "Dataset generated                                                        \n",
      "Generating the dataset                                                                                                   \n",
      "------------------VALIDATION------------\n",
      "Dataset generated                                                        \n",
      "Train dataset: \n",
      "(58751, 1, 128, 20) (58751, 2)\n",
      "Test dataset: \n",
      "(19583, 1, 128, 20) (19583, 2)\n"
     ]
    }
   ],
   "source": [
    "n_time_steps = 128\n",
    "dataset = False # Set to True if you want a dataset or to False if you want np.arrays\n",
    "batch_size = 128 # REAL batch_size\n",
    "n_channels = 1 # It can be 1,4 or 9\n",
    "\n",
    "if(dataset):\n",
    "    print('Dataset.')\n",
    "else:\n",
    "    tr_seg, tr_lab = get_dataset_2(tr_fullpath, batch_size, n_time_steps, True, False, dataset, n_channels)\n",
    "    ts_seg, ts_lab = get_dataset_2(ts_fullpath, batch_size, n_time_steps, False, True, dataset, n_channels)\n",
    "    print('Train dataset: ')\n",
    "    print(tr_seg.shape, tr_lab.shape)\n",
    "    print('Test dataset: ')\n",
    "    print(ts_seg.shape, ts_lab.shape)"
   ]
  },
  {
   "cell_type": "markdown",
   "metadata": {},
   "source": [
    "### Pre-entrenamiento del Discriminador"
   ]
  },
  {
   "cell_type": "code",
   "execution_count": 94,
   "metadata": {},
   "outputs": [
    {
     "name": "stdout",
     "output_type": "stream",
     "text": [
      "Model: \"discriminator\"\n",
      "_________________________________________________________________\n",
      "Layer (type)                 Output Shape              Param #   \n",
      "=================================================================\n",
      "discriminator_input (InputLa [(None, 1, 128, 20)]      0         \n",
      "_________________________________________________________________\n",
      "flatten_3 (Flatten)          (None, 2560)              0         \n",
      "_________________________________________________________________\n",
      "dense_8 (Dense)              (None, 2048)              5244928   \n",
      "_________________________________________________________________\n",
      "leaky_re_lu_13 (LeakyReLU)   (None, 2048)              0         \n",
      "_________________________________________________________________\n",
      "dropout_2 (Dropout)          (None, 2048)              0         \n",
      "_________________________________________________________________\n",
      "dense_9 (Dense)              (None, 1024)              2098176   \n",
      "_________________________________________________________________\n",
      "leaky_re_lu_14 (LeakyReLU)   (None, 1024)              0         \n",
      "_________________________________________________________________\n",
      "dropout_3 (Dropout)          (None, 1024)              0         \n",
      "_________________________________________________________________\n",
      "dense_10 (Dense)             (None, 512)               524800    \n",
      "_________________________________________________________________\n",
      "leaky_re_lu_15 (LeakyReLU)   (None, 512)               0         \n",
      "_________________________________________________________________\n",
      "dense_11 (Dense)             (None, 256)               131328    \n",
      "_________________________________________________________________\n",
      "leaky_re_lu_16 (LeakyReLU)   (None, 256)               0         \n",
      "_________________________________________________________________\n",
      "dense_12 (Dense)             (None, 128)               32896     \n",
      "_________________________________________________________________\n",
      "leaky_re_lu_17 (LeakyReLU)   (None, 128)               0         \n",
      "_________________________________________________________________\n",
      "dense_13 (Dense)             (None, 2)                 258       \n",
      "=================================================================\n",
      "Total params: 8,032,386\n",
      "Trainable params: 8,032,386\n",
      "Non-trainable params: 0\n",
      "_________________________________________________________________\n"
     ]
    }
   ],
   "source": [
    "layer_filters = [32,64]\n",
    "\n",
    "inputs = Input(shape=(1,128,20), name='discriminator_input')\n",
    "x = inputs\n",
    "'''\n",
    "for filters in layer_filters:\n",
    "    x = Conv2D(filters=filters,\n",
    "               kernel_size=kernel_size,\n",
    "               strides=2,\n",
    "               activation='relu',\n",
    "               padding='same',\n",
    "               data_format='channels_first')(x)\n",
    "    x = BatchNormalization()(x)\n",
    "\n",
    "x = Dropout(0.3)(x)\n",
    "x = Flatten()(x)\n",
    "output = Dense(2, name='activity_class')(x)\n",
    "'''\n",
    "x = Flatten()(x)\n",
    "x = Dense(units=2048)(x)\n",
    "x = LeakyReLU()(x)\n",
    "x = Dropout(0.5)(x)\n",
    "       \n",
    "    \n",
    "x = Dense(units=1024)(x)\n",
    "x = LeakyReLU()(x)\n",
    "x = Dropout(0.5)(x)\n",
    "       \n",
    "x = Dense(units=512)(x)\n",
    "x = LeakyReLU()(x)\n",
    "    \n",
    "x = Dense(units=256)(x)\n",
    "x = LeakyReLU()(x)\n",
    "    \n",
    "x = Dense(units=128)(x)\n",
    "x = LeakyReLU()(x)\n",
    "    \n",
    "output = Dense(units=2,  activation='sigmoid')(x)\n",
    "\n",
    "# Instantiate Encoder Model\n",
    "discriminator = Model(inputs, output, name='discriminator')\n",
    "discriminator.summary()\n",
    "discriminator.compile(optimizer=keras.optimizers.Adam(lr=0.00001, beta_1=0.3, clipnorm=0.1), loss='binary_crossentropy', metrics=['binary_accuracy'])"
   ]
  },
  {
   "cell_type": "code",
   "execution_count": 95,
   "metadata": {},
   "outputs": [
    {
     "name": "stdout",
     "output_type": "stream",
     "text": [
      "Train on 58751 samples, validate on 19583 samples\n",
      "Epoch 1/100\n",
      "58751/58751 [==============================] - 6s 104us/sample - loss: 0.0412 - binary_accuracy: 0.9854 - val_loss: 8.0786e-04 - val_binary_accuracy: 1.0000\n",
      "Epoch 2/100\n",
      "58751/58751 [==============================] - 5s 90us/sample - loss: 6.4126e-05 - binary_accuracy: 1.0000 - val_loss: 3.2198e-04 - val_binary_accuracy: 1.0000\n",
      "Epoch 3/100\n",
      "58751/58751 [==============================] - 5s 90us/sample - loss: 2.1510e-05 - binary_accuracy: 1.0000 - val_loss: 1.8826e-04 - val_binary_accuracy: 1.0000\n",
      "Epoch 4/100\n",
      "58751/58751 [==============================] - 5s 89us/sample - loss: 1.0433e-05 - binary_accuracy: 1.0000 - val_loss: 1.2672e-04 - val_binary_accuracy: 1.0000\n",
      "Epoch 5/100\n",
      "58624/58751 [============================>.] - ETA: 0s - loss: 6.0354e-06 - binary_accuracy: 1.0000\n",
      "Epoch 00005: ReduceLROnPlateau reducing learning rate to 3.999999898951501e-06.\n",
      "58751/58751 [==============================] - 6s 96us/sample - loss: 6.0355e-06 - binary_accuracy: 1.0000 - val_loss: 9.2244e-05 - val_binary_accuracy: 1.0000\n",
      "Epoch 6/100\n",
      "58751/58751 [==============================] - 5s 89us/sample - loss: 4.2451e-06 - binary_accuracy: 1.0000 - val_loss: 8.1501e-05 - val_binary_accuracy: 1.0000\n",
      "Epoch 7/100\n",
      "58751/58751 [==============================] - 5s 89us/sample - loss: 3.4392e-06 - binary_accuracy: 1.0000 - val_loss: 7.2305e-05 - val_binary_accuracy: 1.0000\n",
      "Epoch 8/100\n",
      "58240/58751 [============================>.] - ETA: 0s - loss: 2.8131e-06 - binary_accuracy: 1.0000\n",
      "Epoch 00008: ReduceLROnPlateau reducing learning rate to 1.5999999959603884e-06.\n",
      "58751/58751 [==============================] - 5s 89us/sample - loss: 2.8110e-06 - binary_accuracy: 1.0000 - val_loss: 6.2982e-05 - val_binary_accuracy: 1.0000\n",
      "Epoch 9/100\n",
      "58751/58751 [==============================] - 5s 89us/sample - loss: 2.4076e-06 - binary_accuracy: 1.0000 - val_loss: 5.9265e-05 - val_binary_accuracy: 1.0000\n",
      "Epoch 10/100\n",
      "58368/58751 [============================>.] - ETA: 0s - loss: 2.2337e-06 - binary_accuracy: 1.0000\n",
      "Epoch 00010: ReduceLROnPlateau reducing learning rate to 6.400000074791024e-07.\n",
      "58751/58751 [==============================] - 5s 89us/sample - loss: 2.2320e-06 - binary_accuracy: 1.0000 - val_loss: 5.5125e-05 - val_binary_accuracy: 1.0000\n",
      "Epoch 11/100\n",
      "58751/58751 [==============================] - 5s 89us/sample - loss: 2.0520e-06 - binary_accuracy: 1.0000 - val_loss: 5.3371e-05 - val_binary_accuracy: 1.0000\n",
      "Epoch 12/100\n",
      "58240/58751 [============================>.] - ETA: 0s - loss: 1.9185e-06 - binary_accuracy: 1.0000\n",
      "Epoch 00012: ReduceLROnPlateau reducing learning rate to 2.5599999844416746e-07.\n",
      "58751/58751 [==============================] - 5s 89us/sample - loss: 1.9183e-06 - binary_accuracy: 1.0000 - val_loss: 5.1357e-05 - val_binary_accuracy: 1.0000\n",
      "Epoch 13/100\n",
      "58751/58751 [==============================] - 5s 89us/sample - loss: 1.8553e-06 - binary_accuracy: 1.0000 - val_loss: 5.0427e-05 - val_binary_accuracy: 1.0000\n",
      "Epoch 14/100\n",
      "58496/58751 [============================>.] - ETA: 0s - loss: 1.7679e-06 - binary_accuracy: 1.0000\n",
      "Epoch 00014: ReduceLROnPlateau reducing learning rate to 1.0239999710393022e-07.\n",
      "58751/58751 [==============================] - 5s 89us/sample - loss: 1.7709e-06 - binary_accuracy: 1.0000 - val_loss: 4.9335e-05 - val_binary_accuracy: 1.0000\n",
      "Epoch 15/100\n",
      "58751/58751 [==============================] - 5s 89us/sample - loss: 1.7449e-06 - binary_accuracy: 1.0000 - val_loss: 4.8863e-05 - val_binary_accuracy: 1.0000\n",
      "Epoch 16/100\n",
      "58496/58751 [============================>.] - ETA: 0s - loss: 1.7047e-06 - binary_accuracy: 1.0000\n",
      "Epoch 00016: ReduceLROnPlateau reducing learning rate to 4.095999770470371e-08.\n",
      "58751/58751 [==============================] - 5s 89us/sample - loss: 1.7041e-06 - binary_accuracy: 1.0000 - val_loss: 4.8307e-05 - val_binary_accuracy: 1.0000\n",
      "Epoch 17/100\n",
      "58751/58751 [==============================] - 5s 89us/sample - loss: 1.6982e-06 - binary_accuracy: 1.0000 - val_loss: 4.8105e-05 - val_binary_accuracy: 1.0000\n",
      "Epoch 18/100\n",
      "58368/58751 [============================>.] - ETA: 0s - loss: 1.6701e-06 - binary_accuracy: 1.0000\n",
      "Epoch 00018: ReduceLROnPlateau reducing learning rate to 1.6383998513447297e-08.\n",
      "58751/58751 [==============================] - 5s 89us/sample - loss: 1.6706e-06 - binary_accuracy: 1.0000 - val_loss: 4.7827e-05 - val_binary_accuracy: 1.0000\n",
      "Epoch 19/100\n",
      "58751/58751 [==============================] - 5s 89us/sample - loss: 1.6472e-06 - binary_accuracy: 1.0000 - val_loss: 4.7749e-05 - val_binary_accuracy: 1.0000\n",
      "Epoch 20/100\n",
      "58368/58751 [============================>.] - ETA: 0s - loss: 1.6706e-06 - binary_accuracy: 1.0000\n",
      "Epoch 00020: ReduceLROnPlateau reducing learning rate to 6.553599263270372e-09.\n",
      "58751/58751 [==============================] - 5s 89us/sample - loss: 1.6707e-06 - binary_accuracy: 1.0000 - val_loss: 4.7629e-05 - val_binary_accuracy: 1.0000\n",
      "Epoch 21/100\n",
      "58751/58751 [==============================] - 5s 89us/sample - loss: 1.6614e-06 - binary_accuracy: 1.0000 - val_loss: 4.7601e-05 - val_binary_accuracy: 1.0000\n",
      "Epoch 22/100\n",
      "58624/58751 [============================>.] - ETA: 0s - loss: 1.6429e-06 - binary_accuracy: 1.0000\n",
      "Epoch 00022: ReduceLROnPlateau reducing learning rate to 2.6214397763624222e-09.\n",
      "58751/58751 [==============================] - 5s 89us/sample - loss: 1.6419e-06 - binary_accuracy: 1.0000 - val_loss: 4.7566e-05 - val_binary_accuracy: 1.0000\n",
      "Epoch 23/100\n",
      "58751/58751 [==============================] - 5s 89us/sample - loss: 1.6350e-06 - binary_accuracy: 1.0000 - val_loss: 4.7558e-05 - val_binary_accuracy: 1.0000\n",
      "Epoch 24/100\n",
      "58240/58751 [============================>.] - ETA: 0s - loss: 1.6860e-06 - binary_accuracy: 1.0000\n",
      "Epoch 00024: ReduceLROnPlateau reducing learning rate to 1.0485758927814004e-09.\n",
      "58751/58751 [==============================] - 5s 89us/sample - loss: 1.6863e-06 - binary_accuracy: 1.0000 - val_loss: 4.7546e-05 - val_binary_accuracy: 1.0000\n",
      "Epoch 25/100\n",
      "58751/58751 [==============================] - 5s 89us/sample - loss: 1.6641e-06 - binary_accuracy: 1.0000 - val_loss: 4.7544e-05 - val_binary_accuracy: 1.0000\n",
      "Epoch 26/100\n",
      "58112/58751 [============================>.] - ETA: 0s - loss: 1.6660e-06 - binary_accuracy: 1.0000\n",
      "Epoch 00026: ReduceLROnPlateau reducing learning rate to 1e-09.\n",
      "58751/58751 [==============================] - 5s 89us/sample - loss: 1.6655e-06 - binary_accuracy: 1.0000 - val_loss: 4.7541e-05 - val_binary_accuracy: 1.0000\n",
      "Epoch 27/100\n",
      "58751/58751 [==============================] - 5s 89us/sample - loss: 1.6873e-06 - binary_accuracy: 1.0000 - val_loss: 4.7537e-05 - val_binary_accuracy: 1.0000\n",
      "Epoch 28/100\n",
      "58751/58751 [==============================] - 5s 89us/sample - loss: 1.6525e-06 - binary_accuracy: 1.0000 - val_loss: 4.7533e-05 - val_binary_accuracy: 1.0000\n",
      "Epoch 29/100\n",
      "58751/58751 [==============================] - 5s 89us/sample - loss: 1.6909e-06 - binary_accuracy: 1.0000 - val_loss: 4.7528e-05 - val_binary_accuracy: 1.0000\n",
      "Epoch 30/100\n",
      "58751/58751 [==============================] - 5s 89us/sample - loss: 1.6359e-06 - binary_accuracy: 1.0000 - val_loss: 4.7522e-05 - val_binary_accuracy: 1.0000\n",
      "Epoch 31/100\n",
      "58751/58751 [==============================] - 5s 89us/sample - loss: 1.6410e-06 - binary_accuracy: 1.0000 - val_loss: 4.7516e-05 - val_binary_accuracy: 1.0000\n",
      "Epoch 32/100\n",
      "58751/58751 [==============================] - 5s 89us/sample - loss: 1.6474e-06 - binary_accuracy: 1.0000 - val_loss: 4.7509e-05 - val_binary_accuracy: 1.0000\n",
      "Epoch 33/100\n",
      "58751/58751 [==============================] - 5s 89us/sample - loss: 1.6669e-06 - binary_accuracy: 1.0000 - val_loss: 4.7501e-05 - val_binary_accuracy: 1.0000\n",
      "Epoch 34/100\n",
      "58751/58751 [==============================] - 5s 89us/sample - loss: 1.6912e-06 - binary_accuracy: 1.0000 - val_loss: 4.7493e-05 - val_binary_accuracy: 1.0000\n",
      "Epoch 35/100\n",
      "58751/58751 [==============================] - 5s 89us/sample - loss: 1.6601e-06 - binary_accuracy: 1.0000 - val_loss: 4.7484e-05 - val_binary_accuracy: 1.0000\n",
      "Epoch 36/100\n",
      "58751/58751 [==============================] - 5s 89us/sample - loss: 1.6647e-06 - binary_accuracy: 1.0000 - val_loss: 4.7476e-05 - val_binary_accuracy: 1.0000\n",
      "Epoch 37/100\n",
      "58751/58751 [==============================] - 5s 89us/sample - loss: 1.6618e-06 - binary_accuracy: 1.0000 - val_loss: 4.7467e-05 - val_binary_accuracy: 1.0000\n",
      "Epoch 38/100\n",
      "58751/58751 [==============================] - 5s 89us/sample - loss: 1.6873e-06 - binary_accuracy: 1.0000 - val_loss: 4.7457e-05 - val_binary_accuracy: 1.0000\n",
      "Epoch 39/100\n",
      "58751/58751 [==============================] - 5s 89us/sample - loss: 1.6612e-06 - binary_accuracy: 1.0000 - val_loss: 4.7448e-05 - val_binary_accuracy: 1.0000\n",
      "Epoch 40/100\n",
      "58751/58751 [==============================] - 5s 89us/sample - loss: 1.6599e-06 - binary_accuracy: 1.0000 - val_loss: 4.7439e-05 - val_binary_accuracy: 1.0000\n",
      "Epoch 41/100\n",
      "58751/58751 [==============================] - 5s 89us/sample - loss: 1.6887e-06 - binary_accuracy: 1.0000 - val_loss: 4.7430e-05 - val_binary_accuracy: 1.0000\n",
      "Epoch 42/100\n",
      "58751/58751 [==============================] - 5s 89us/sample - loss: 1.6374e-06 - binary_accuracy: 1.0000 - val_loss: 4.7421e-05 - val_binary_accuracy: 1.0000\n",
      "Epoch 43/100\n",
      "58751/58751 [==============================] - 5s 89us/sample - loss: 1.6614e-06 - binary_accuracy: 1.0000 - val_loss: 4.7411e-05 - val_binary_accuracy: 1.0000\n",
      "Epoch 44/100\n",
      "58751/58751 [==============================] - 5s 89us/sample - loss: 1.6669e-06 - binary_accuracy: 1.0000 - val_loss: 4.7402e-05 - val_binary_accuracy: 1.0000\n",
      "Epoch 45/100\n",
      "58751/58751 [==============================] - 5s 89us/sample - loss: 1.6822e-06 - binary_accuracy: 1.0000 - val_loss: 4.7393e-05 - val_binary_accuracy: 1.0000\n",
      "Epoch 46/100\n",
      "58751/58751 [==============================] - 5s 89us/sample - loss: 1.6622e-06 - binary_accuracy: 1.0000 - val_loss: 4.7383e-05 - val_binary_accuracy: 1.0000\n",
      "Epoch 47/100\n",
      "58751/58751 [==============================] - 5s 89us/sample - loss: 1.6364e-06 - binary_accuracy: 1.0000 - val_loss: 4.7374e-05 - val_binary_accuracy: 1.0000\n",
      "Epoch 48/100\n",
      "58751/58751 [==============================] - 5s 89us/sample - loss: 1.6778e-06 - binary_accuracy: 1.0000 - val_loss: 4.7364e-05 - val_binary_accuracy: 1.0000\n",
      "Epoch 49/100\n",
      "58751/58751 [==============================] - 5s 89us/sample - loss: 1.6441e-06 - binary_accuracy: 1.0000 - val_loss: 4.7355e-05 - val_binary_accuracy: 1.0000\n",
      "Epoch 50/100\n",
      "58751/58751 [==============================] - 5s 89us/sample - loss: 1.6537e-06 - binary_accuracy: 1.0000 - val_loss: 4.7346e-05 - val_binary_accuracy: 1.0000\n",
      "Epoch 51/100\n",
      "58751/58751 [==============================] - 5s 89us/sample - loss: 1.6394e-06 - binary_accuracy: 1.0000 - val_loss: 4.7337e-05 - val_binary_accuracy: 1.0000\n",
      "Epoch 52/100\n",
      "58751/58751 [==============================] - 5s 89us/sample - loss: 1.6404e-06 - binary_accuracy: 1.0000 - val_loss: 4.7328e-05 - val_binary_accuracy: 1.0000\n",
      "Epoch 53/100\n",
      "58751/58751 [==============================] - 5s 89us/sample - loss: 1.6690e-06 - binary_accuracy: 1.0000 - val_loss: 4.7318e-05 - val_binary_accuracy: 1.0000\n",
      "Epoch 54/100\n",
      "58751/58751 [==============================] - 5s 89us/sample - loss: 1.6596e-06 - binary_accuracy: 1.0000 - val_loss: 4.7309e-05 - val_binary_accuracy: 1.0000\n",
      "Epoch 55/100\n",
      "58751/58751 [==============================] - 5s 88us/sample - loss: 1.6654e-06 - binary_accuracy: 1.0000 - val_loss: 4.7299e-05 - val_binary_accuracy: 1.0000\n",
      "Epoch 56/100\n",
      "58751/58751 [==============================] - 5s 89us/sample - loss: 1.6465e-06 - binary_accuracy: 1.0000 - val_loss: 4.7290e-05 - val_binary_accuracy: 1.0000\n",
      "Epoch 57/100\n",
      "58751/58751 [==============================] - 5s 89us/sample - loss: 1.6530e-06 - binary_accuracy: 1.0000 - val_loss: 4.7280e-05 - val_binary_accuracy: 1.0000\n",
      "Epoch 58/100\n",
      "58751/58751 [==============================] - 5s 89us/sample - loss: 1.6304e-06 - binary_accuracy: 1.0000 - val_loss: 4.7271e-05 - val_binary_accuracy: 1.0000\n",
      "Epoch 59/100\n",
      "58751/58751 [==============================] - 5s 89us/sample - loss: 1.6239e-06 - binary_accuracy: 1.0000 - val_loss: 4.7262e-05 - val_binary_accuracy: 1.0000\n",
      "Epoch 60/100\n",
      "58751/58751 [==============================] - 5s 89us/sample - loss: 1.6422e-06 - binary_accuracy: 1.0000 - val_loss: 4.7253e-05 - val_binary_accuracy: 1.0000\n",
      "Epoch 61/100\n",
      "58751/58751 [==============================] - 5s 89us/sample - loss: 1.6389e-06 - binary_accuracy: 1.0000 - val_loss: 4.7244e-05 - val_binary_accuracy: 1.0000\n",
      "Epoch 62/100\n",
      "58751/58751 [==============================] - 5s 89us/sample - loss: 1.6228e-06 - binary_accuracy: 1.0000 - val_loss: 4.7235e-05 - val_binary_accuracy: 1.0000\n",
      "Epoch 63/100\n",
      "58751/58751 [==============================] - 5s 89us/sample - loss: 1.6019e-06 - binary_accuracy: 1.0000 - val_loss: 4.7226e-05 - val_binary_accuracy: 1.0000\n",
      "Epoch 64/100\n",
      "58751/58751 [==============================] - 5s 89us/sample - loss: 1.6373e-06 - binary_accuracy: 1.0000 - val_loss: 4.7217e-05 - val_binary_accuracy: 1.0000\n",
      "Epoch 65/100\n",
      "58751/58751 [==============================] - 5s 89us/sample - loss: 1.6189e-06 - binary_accuracy: 1.0000 - val_loss: 4.7208e-05 - val_binary_accuracy: 1.0000\n",
      "Epoch 66/100\n",
      "58751/58751 [==============================] - 5s 89us/sample - loss: 1.6533e-06 - binary_accuracy: 1.0000 - val_loss: 4.7199e-05 - val_binary_accuracy: 1.0000\n",
      "Epoch 67/100\n",
      "58751/58751 [==============================] - 5s 89us/sample - loss: 1.6459e-06 - binary_accuracy: 1.0000 - val_loss: 4.7189e-05 - val_binary_accuracy: 1.0000\n",
      "Epoch 68/100\n",
      "58751/58751 [==============================] - 5s 89us/sample - loss: 1.6245e-06 - binary_accuracy: 1.0000 - val_loss: 4.7180e-05 - val_binary_accuracy: 1.0000\n",
      "Epoch 69/100\n",
      "58751/58751 [==============================] - 5s 89us/sample - loss: 1.6395e-06 - binary_accuracy: 1.0000 - val_loss: 4.7171e-05 - val_binary_accuracy: 1.0000\n",
      "Epoch 70/100\n",
      "58751/58751 [==============================] - 5s 89us/sample - loss: 1.6118e-06 - binary_accuracy: 1.0000 - val_loss: 4.7162e-05 - val_binary_accuracy: 1.0000\n",
      "Epoch 71/100\n",
      "58751/58751 [==============================] - 5s 89us/sample - loss: 1.6171e-06 - binary_accuracy: 1.0000 - val_loss: 4.7153e-05 - val_binary_accuracy: 1.0000\n",
      "Epoch 72/100\n",
      "58751/58751 [==============================] - 5s 89us/sample - loss: 1.6479e-06 - binary_accuracy: 1.0000 - val_loss: 4.7144e-05 - val_binary_accuracy: 1.0000\n",
      "Epoch 73/100\n",
      "58751/58751 [==============================] - 5s 89us/sample - loss: 1.6491e-06 - binary_accuracy: 1.0000 - val_loss: 4.7134e-05 - val_binary_accuracy: 1.0000\n",
      "Epoch 74/100\n",
      "58751/58751 [==============================] - 5s 89us/sample - loss: 1.6714e-06 - binary_accuracy: 1.0000 - val_loss: 4.7124e-05 - val_binary_accuracy: 1.0000\n",
      "Epoch 75/100\n",
      "58751/58751 [==============================] - 5s 89us/sample - loss: 1.6313e-06 - binary_accuracy: 1.0000 - val_loss: 4.7116e-05 - val_binary_accuracy: 1.0000\n",
      "Epoch 76/100\n",
      "58751/58751 [==============================] - 5s 89us/sample - loss: 1.6594e-06 - binary_accuracy: 1.0000 - val_loss: 4.7106e-05 - val_binary_accuracy: 1.0000\n",
      "Epoch 77/100\n",
      "58751/58751 [==============================] - 5s 89us/sample - loss: 1.6481e-06 - binary_accuracy: 1.0000 - val_loss: 4.7097e-05 - val_binary_accuracy: 1.0000\n",
      "Epoch 78/100\n",
      "58751/58751 [==============================] - 5s 89us/sample - loss: 1.6211e-06 - binary_accuracy: 1.0000 - val_loss: 4.7088e-05 - val_binary_accuracy: 1.0000\n",
      "Epoch 79/100\n",
      "58751/58751 [==============================] - 5s 89us/sample - loss: 1.6424e-06 - binary_accuracy: 1.0000 - val_loss: 4.7079e-05 - val_binary_accuracy: 1.0000\n",
      "Epoch 80/100\n",
      "58751/58751 [==============================] - 5s 89us/sample - loss: 1.6337e-06 - binary_accuracy: 1.0000 - val_loss: 4.7070e-05 - val_binary_accuracy: 1.0000\n",
      "Epoch 81/100\n",
      "58751/58751 [==============================] - 5s 89us/sample - loss: 1.6504e-06 - binary_accuracy: 1.0000 - val_loss: 4.7061e-05 - val_binary_accuracy: 1.0000\n",
      "Epoch 82/100\n",
      "58751/58751 [==============================] - 5s 89us/sample - loss: 1.6348e-06 - binary_accuracy: 1.0000 - val_loss: 4.7052e-05 - val_binary_accuracy: 1.0000\n",
      "Epoch 83/100\n",
      "58751/58751 [==============================] - 5s 89us/sample - loss: 1.6457e-06 - binary_accuracy: 1.0000 - val_loss: 4.7043e-05 - val_binary_accuracy: 1.0000\n",
      "Epoch 84/100\n",
      "58751/58751 [==============================] - 5s 90us/sample - loss: 1.6448e-06 - binary_accuracy: 1.0000 - val_loss: 4.7034e-05 - val_binary_accuracy: 1.0000\n",
      "Epoch 85/100\n",
      "58751/58751 [==============================] - 5s 89us/sample - loss: 1.6277e-06 - binary_accuracy: 1.0000 - val_loss: 4.7025e-05 - val_binary_accuracy: 1.0000\n",
      "Epoch 86/100\n",
      "58751/58751 [==============================] - 5s 89us/sample - loss: 1.6396e-06 - binary_accuracy: 1.0000 - val_loss: 4.7015e-05 - val_binary_accuracy: 1.0000\n",
      "Epoch 87/100\n",
      "58751/58751 [==============================] - 5s 89us/sample - loss: 1.6453e-06 - binary_accuracy: 1.0000 - val_loss: 4.7006e-05 - val_binary_accuracy: 1.0000\n",
      "Epoch 88/100\n",
      "58751/58751 [==============================] - 5s 89us/sample - loss: 1.6247e-06 - binary_accuracy: 1.0000 - val_loss: 4.6997e-05 - val_binary_accuracy: 1.0000\n",
      "Epoch 89/100\n",
      "58751/58751 [==============================] - 5s 89us/sample - loss: 1.6014e-06 - binary_accuracy: 1.0000 - val_loss: 4.6988e-05 - val_binary_accuracy: 1.0000\n",
      "Epoch 90/100\n",
      "58751/58751 [==============================] - 5s 89us/sample - loss: 1.6551e-06 - binary_accuracy: 1.0000 - val_loss: 4.6979e-05 - val_binary_accuracy: 1.0000\n",
      "Epoch 91/100\n",
      "58751/58751 [==============================] - 5s 89us/sample - loss: 1.6299e-06 - binary_accuracy: 1.0000 - val_loss: 4.6970e-05 - val_binary_accuracy: 1.0000\n",
      "Epoch 92/100\n",
      "58751/58751 [==============================] - 5s 89us/sample - loss: 1.6586e-06 - binary_accuracy: 1.0000 - val_loss: 4.6961e-05 - val_binary_accuracy: 1.0000\n",
      "Epoch 93/100\n",
      "58751/58751 [==============================] - 5s 89us/sample - loss: 1.6358e-06 - binary_accuracy: 1.0000 - val_loss: 4.6951e-05 - val_binary_accuracy: 1.0000\n",
      "Epoch 94/100\n",
      "58751/58751 [==============================] - 5s 89us/sample - loss: 1.6296e-06 - binary_accuracy: 1.0000 - val_loss: 4.6942e-05 - val_binary_accuracy: 1.0000\n",
      "Epoch 95/100\n",
      "58751/58751 [==============================] - 5s 89us/sample - loss: 1.6161e-06 - binary_accuracy: 1.0000 - val_loss: 4.6934e-05 - val_binary_accuracy: 1.0000\n",
      "Epoch 96/100\n",
      "58751/58751 [==============================] - 5s 89us/sample - loss: 1.6427e-06 - binary_accuracy: 1.0000 - val_loss: 4.6924e-05 - val_binary_accuracy: 1.0000\n",
      "Epoch 97/100\n",
      "58751/58751 [==============================] - 5s 89us/sample - loss: 1.6230e-06 - binary_accuracy: 1.0000 - val_loss: 4.6915e-05 - val_binary_accuracy: 1.0000\n",
      "Epoch 98/100\n",
      "58751/58751 [==============================] - 5s 89us/sample - loss: 1.6132e-06 - binary_accuracy: 1.0000 - val_loss: 4.6907e-05 - val_binary_accuracy: 1.0000\n",
      "Epoch 99/100\n",
      "58751/58751 [==============================] - 5s 89us/sample - loss: 1.6154e-06 - binary_accuracy: 1.0000 - val_loss: 4.6898e-05 - val_binary_accuracy: 1.0000\n",
      "Epoch 100/100\n",
      "58751/58751 [==============================] - 5s 89us/sample - loss: 1.6376e-06 - binary_accuracy: 1.0000 - val_loss: 4.6888e-05 - val_binary_accuracy: 1.0000\n"
     ]
    }
   ],
   "source": [
    "# Train the autoencoder\n",
    "history = discriminator.fit(tr_seg,\n",
    "                            tr_lab,\n",
    "                            validation_data=(ts_seg,ts_lab),\n",
    "                            epochs=100,\n",
    "                            batch_size=batch_size,\n",
    "                            verbose=1,\n",
    "                            callbacks=callbacks_list)"
   ]
  },
  {
   "cell_type": "code",
   "execution_count": 96,
   "metadata": {},
   "outputs": [
    {
     "data": {
      "image/png": "[encoded data removed]",
      "text/plain": [
       "<Figure size 864x576 with 1 Axes>"
      ]
     },
     "metadata": {
      "needs_background": "light"
     },
     "output_type": "display_data"
    },
    {
     "data": {
      "image/png": "[encoded data removed]",
      "text/plain": [
       "<Figure size 864x576 with 1 Axes>"
      ]
     },
     "metadata": {
      "needs_background": "light"
     },
     "output_type": "display_data"
    },
    {
     "data": {
      "image/png": "[encoded data removed]",
      "text/plain": [
       "<Figure size 1008x720 with 1 Axes>"
      ]
     },
     "metadata": {
      "needs_background": "light"
     },
     "output_type": "display_data"
    }
   ],
   "source": [
    "#Visualize training evolution\n",
    "plot_curves(discriminator, 'binary_accuracy', 'loss', 'val_loss', 'val_binary_accuracy', 'DISCRIMINATOR')"
   ]
  },
  {
   "cell_type": "code",
   "execution_count": 97,
   "metadata": {},
   "outputs": [
    {
     "name": "stdout",
     "output_type": "stream",
     "text": [
      "19583/19583 [==============================] - 1s 27us/sample - loss: 4.6888e-05 - binary_accuracy: 1.0000\n"
     ]
    },
    {
     "data": {
      "text/plain": [
       "[4.6888398760713674e-05, 1.0]"
      ]
     },
     "execution_count": 97,
     "metadata": {},
     "output_type": "execute_result"
    }
   ],
   "source": [
    "discriminator.evaluate(ts_seg, ts_lab, batch_size=batch_size, verbose=1)"
   ]
  },
  {
   "cell_type": "code",
   "execution_count": 98,
   "metadata": {},
   "outputs": [
    {
     "name": "stdout",
     "output_type": "stream",
     "text": [
      "Pre-discriminator saved.\n"
     ]
    }
   ],
   "source": [
    "# Save model\n",
    "discriminator.save('./00_12_models/pre_discriminator.h5')\n",
    "print('Pre-discriminator saved.')"
   ]
  },
  {
   "cell_type": "code",
   "execution_count": 99,
   "metadata": {},
   "outputs": [],
   "source": [
    "del tr_seg, ts_seg, tr_lab, ts_lab, discriminator"
   ]
  },
  {
   "cell_type": "markdown",
   "metadata": {},
   "source": [
    "# c) GAN"
   ]
  },
  {
   "cell_type": "code",
   "execution_count": 100,
   "metadata": {},
   "outputs": [
    {
     "name": "stdout",
     "output_type": "stream",
     "text": [
      "Total files: 288\n",
      "Train files: 288\n",
      "TRAINING: \n",
      "['../data_augment/subject_01_AUGMENT_deg_-105_act_19.csv', '../data_augment/subject_01_AUGMENT_deg_-120_act_19.csv', '../data_augment/subject_01_AUGMENT_deg_-135_act_19.csv', '../data_augment/subject_01_AUGMENT_deg_-150_act_19.csv', '../data_augment/subject_01_AUGMENT_deg_-15_act_19.csv', '../data_augment/subject_01_AUGMENT_deg_-165_act_19.csv', '../data_augment/subject_01_AUGMENT_deg_-30_act_19.csv', '../data_augment/subject_01_AUGMENT_deg_-45_act_19.csv', '../data_augment/subject_01_AUGMENT_deg_-60_act_19.csv', '../data_augment/subject_01_AUGMENT_deg_-75_act_19.csv'] ...\n"
     ]
    }
   ],
   "source": [
    "# Ruta raíz\n",
    "PATH = '../data_augment/'\n",
    "\n",
    "quaturls = !ls -1 \"{PATH}\"\n",
    "\n",
    "\n",
    "\n",
    "quat_corr = []\n",
    "for filename in quaturls:\n",
    "    for activity in activities:\n",
    "        if(int(filename[-6:-4])==activity):\n",
    "            quat_corr.append(filename)\n",
    "\n",
    "quat_def = []\n",
    "\n",
    "i=0\n",
    "for filename in quat_corr:\n",
    "    for subject in subjects:\n",
    "        if(int(quat_corr[i][8:10])==subject):\n",
    "            quat_def.append(filename)\n",
    "    i+=1\n",
    "\n",
    "quaturls = quat_def\n",
    "\n",
    "del quat_corr, quat_def\n",
    "\n",
    "n = len(quaturls)\n",
    "\n",
    "tr_urls = quaturls\n",
    "\n",
    "print('Total files: ' + str(len(quaturls)))\n",
    "print('Train files: ' + str(len(tr_urls)))\n",
    "\n",
    "tr_fullpath = [os.path.join(PATH,s) for s in tr_urls]\n",
    "print('TRAINING: ')\n",
    "print(str(tr_fullpath[:10]) + ' ...')"
   ]
  },
  {
   "cell_type": "code",
   "execution_count": 101,
   "metadata": {},
   "outputs": [
    {
     "name": "stdout",
     "output_type": "stream",
     "text": [
      "Generating the dataset                                                                                                     \n",
      "--------------------TRAIN--------------------\n",
      "Dataset generated                                                        \n",
      "Train dataset: \n",
      "(78335, 1, 128, 20)\n"
     ]
    }
   ],
   "source": [
    "n_time_steps = 128\n",
    "dataset = False # Set to True if you want a dataset or to False if you want np.arrays\n",
    "batch_size = 128 # REAL batch_size\n",
    "n_channels = 1 # It can be 1,4 or 9\n",
    "\n",
    "if(dataset):\n",
    "    train_dataset, tr_seg, tr_lab = get_dataset(tr_fullpath, batch_size, n_time_steps, True, False, dataset, n_channels)\n",
    "    \n",
    "    print('Train dataset: ')\n",
    "    print(train_dataset)\n",
    "else:\n",
    "    tr_seg, _ = get_dataset(tr_fullpath, ind, batch_size, n_time_steps, True, False, dataset, n_channels)\n",
    "    print('Train dataset: ')\n",
    "    print(tr_seg.shape)"
   ]
  },
  {
   "cell_type": "code",
   "execution_count": 102,
   "metadata": {},
   "outputs": [],
   "source": [
    "def load_data():\n",
    "    \n",
    "    return tr_seg"
   ]
  },
  {
   "cell_type": "code",
   "execution_count": 103,
   "metadata": {},
   "outputs": [],
   "source": [
    "def adam_optimizer():\n",
    "    return keras.optimizers.Adam(lr=0.0002, beta_1=0.3)"
   ]
  },
  {
   "cell_type": "code",
   "execution_count": 104,
   "metadata": {},
   "outputs": [
    {
     "name": "stdout",
     "output_type": "stream",
     "text": [
      "Model: \"decoder\"\n",
      "_________________________________________________________________\n",
      "Layer (type)                 Output Shape              Param #   \n",
      "=================================================================\n",
      "decoder_input (InputLayer)   [(None, 100)]             0         \n",
      "_________________________________________________________________\n",
      "dense_7 (Dense)              (None, 10240)             1034240   \n",
      "_________________________________________________________________\n",
      "reshape_1 (Reshape)          (None, 64, 32, 5)         0         \n",
      "_________________________________________________________________\n",
      "conv2d_transpose_3 (Conv2DTr (None, 64, 64, 10)        65600     \n",
      "_________________________________________________________________\n",
      "batch_normalization_6 (Batch (None, 64, 64, 10)        40        \n",
      "_________________________________________________________________\n",
      "leaky_re_lu_11 (LeakyReLU)   (None, 64, 64, 10)        0         \n",
      "_________________________________________________________________\n",
      "conv2d_transpose_4 (Conv2DTr (None, 32, 128, 20)       32800     \n",
      "_________________________________________________________________\n",
      "batch_normalization_7 (Batch (None, 32, 128, 20)       80        \n",
      "_________________________________________________________________\n",
      "leaky_re_lu_12 (LeakyReLU)   (None, 32, 128, 20)       0         \n",
      "_________________________________________________________________\n",
      "conv2d_transpose_5 (Conv2DTr (None, 1, 128, 20)        513       \n",
      "_________________________________________________________________\n",
      "decoder_output (Activation)  (None, 1, 128, 20)        0         \n",
      "=================================================================\n",
      "Total params: 1,133,273\n",
      "Trainable params: 1,133,213\n",
      "Non-trainable params: 60\n",
      "_________________________________________________________________\n"
     ]
    }
   ],
   "source": [
    "from tensorflow.keras.layers import *\n",
    "from tensorflow.keras.models import *\n",
    "from tensorflow.keras.models import load_model\n",
    "\n",
    "def create_generator():\n",
    "    generator = load_model('./00_12_models/decoder.h5')\n",
    "    generator.compile(loss='binary_crossentropy', optimizer=adam_optimizer())\n",
    "    return generator\n",
    "g=create_generator()\n",
    "g.summary()"
   ]
  },
  {
   "cell_type": "code",
   "execution_count": 105,
   "metadata": {},
   "outputs": [
    {
     "name": "stdout",
     "output_type": "stream",
     "text": [
      "Model: \"discriminator\"\n",
      "_________________________________________________________________\n",
      "Layer (type)                 Output Shape              Param #   \n",
      "=================================================================\n",
      "discriminator_input (InputLa [(None, 1, 128, 20)]      0         \n",
      "_________________________________________________________________\n",
      "flatten_3 (Flatten)          (None, 2560)              0         \n",
      "_________________________________________________________________\n",
      "dense_8 (Dense)              (None, 2048)              5244928   \n",
      "_________________________________________________________________\n",
      "leaky_re_lu_13 (LeakyReLU)   (None, 2048)              0         \n",
      "_________________________________________________________________\n",
      "dropout_2 (Dropout)          (None, 2048)              0         \n",
      "_________________________________________________________________\n",
      "dense_9 (Dense)              (None, 1024)              2098176   \n",
      "_________________________________________________________________\n",
      "leaky_re_lu_14 (LeakyReLU)   (None, 1024)              0         \n",
      "_________________________________________________________________\n",
      "dropout_3 (Dropout)          (None, 1024)              0         \n",
      "_________________________________________________________________\n",
      "dense_10 (Dense)             (None, 512)               524800    \n",
      "_________________________________________________________________\n",
      "leaky_re_lu_15 (LeakyReLU)   (None, 512)               0         \n",
      "_________________________________________________________________\n",
      "dense_11 (Dense)             (None, 256)               131328    \n",
      "_________________________________________________________________\n",
      "leaky_re_lu_16 (LeakyReLU)   (None, 256)               0         \n",
      "_________________________________________________________________\n",
      "dense_12 (Dense)             (None, 128)               32896     \n",
      "_________________________________________________________________\n",
      "leaky_re_lu_17 (LeakyReLU)   (None, 128)               0         \n",
      "_________________________________________________________________\n",
      "dense_13 (Dense)             (None, 2)                 258       \n",
      "=================================================================\n",
      "Total params: 8,032,386\n",
      "Trainable params: 8,032,386\n",
      "Non-trainable params: 0\n",
      "_________________________________________________________________\n"
     ]
    }
   ],
   "source": [
    "def create_discriminator():\n",
    "    discriminator = load_model('./00_12_models/pre_discriminator.h5')\n",
    "    discriminator.compile(loss='binary_crossentropy', optimizer=keras.optimizers.Adam(lr=0.00001, beta_1=0.3, clipnorm=0.1))\n",
    "    return discriminator\n",
    "d =create_discriminator()\n",
    "d.summary()"
   ]
  },
  {
   "cell_type": "code",
   "execution_count": 106,
   "metadata": {},
   "outputs": [
    {
     "name": "stdout",
     "output_type": "stream",
     "text": [
      "Model: \"model_2\"\n",
      "_________________________________________________________________\n",
      "Layer (type)                 Output Shape              Param #   \n",
      "=================================================================\n",
      "input_3 (InputLayer)         [(None, 100)]             0         \n",
      "_________________________________________________________________\n",
      "decoder (Model)              (None, 1, 128, 20)        1133273   \n",
      "_________________________________________________________________\n",
      "discriminator (Model)        (None, 2)                 8032386   \n",
      "=================================================================\n",
      "Total params: 9,165,659\n",
      "Trainable params: 1,133,213\n",
      "Non-trainable params: 8,032,446\n",
      "_________________________________________________________________\n"
     ]
    }
   ],
   "source": [
    "def create_gan(discriminator, generator):\n",
    "    discriminator.trainable=False\n",
    "    gan_input = Input(shape=(100,))\n",
    "    x = generator(gan_input)\n",
    "    gan_output= discriminator(x)\n",
    "    gan= Model(inputs=gan_input, outputs=gan_output)\n",
    "    gan.compile(loss='binary_crossentropy', optimizer='adam')\n",
    "    return gan\n",
    "gan = create_gan(d,g)\n",
    "gan.summary()"
   ]
  },
  {
   "cell_type": "markdown",
   "metadata": {},
   "source": [
    "### Rutina de entrenamiento"
   ]
  },
  {
   "cell_type": "code",
   "execution_count": null,
   "metadata": {},
   "outputs": [
    {
     "name": "stdout",
     "output_type": "stream",
     "text": [
      "\n",
      " Epoch 70\n",
      "264: [D loss REAL : 0.354105]  [D loss FAKE: 0.208201]  [A loss: 3.216233]\r"
     ]
    }
   ],
   "source": [
    "from IPython.display import clear_output\n",
    "\n",
    "def training(epochs=1, batch_size=128):\n",
    "    \n",
    "    #Loading the data\n",
    "    tr_seg = load_data()\n",
    "    batch_count = tr_seg.shape[0] // batch_size\n",
    "    X_train = tr_seg\n",
    "    \n",
    "    # Creating GAN\n",
    "    generator= create_generator()\n",
    "    discriminator= create_discriminator()\n",
    "    gan = create_gan(discriminator, generator)\n",
    "    \n",
    "    d_real_hist = []\n",
    "    d_fake_hist = []\n",
    "    a_hist = []\n",
    "\n",
    "    for e in range(1,epochs+1 ):\n",
    "        print(\"\\n Epoch %d\" %e)\n",
    "        for i in range (batch_count):\n",
    "        #generate  random noise as an input  to  initialize the  generator\n",
    "            noise= np.random.normal(0,1, [batch_size, 100])\n",
    "            \n",
    "            #Pre train discriminator on  fake and real data  before starting the gan. \n",
    "            discriminator.trainable=True\n",
    "            \n",
    "            # Get a random set of  real images\n",
    "            image_batch =X_train[np.random.randint(low=0,high=X_train.shape[0],size=batch_size)]\n",
    "            y_dis=np.ones(batch_size)\n",
    "            \n",
    "            d_loss_real=discriminator.train_on_batch(image_batch, keras.utils.to_categorical(y_dis, 2))\n",
    "            \n",
    "            # Generate fake MNIST images from noised input\n",
    "            generated_images = generator.predict(noise)\n",
    "            y_dis=np.zeros(batch_size)\n",
    "            \n",
    "            d_loss_fake=discriminator.train_on_batch(generated_images, keras.utils.to_categorical(y_dis, 2))\n",
    "            \n",
    "            #Tricking the noised input of the Generator as real data\n",
    "            noise= np.random.normal(0,1, [batch_size, 100])\n",
    "            y_gen = np.ones(batch_size)\n",
    "            \n",
    "            # During the training of gan, \n",
    "            # the weights of discriminator should be fixed. \n",
    "            #We can enforce that by setting the trainable flag\n",
    "            discriminator.trainable=False\n",
    "            \n",
    "            #training  the GAN by alternating the training of the Discriminator \n",
    "            #and training the chained GAN model with Discriminator’s weights freezed.\n",
    "            # keras.utils.to_categorical(y_gen, 2)\n",
    "            a_loss=gan.train_on_batch(noise,  keras.utils.to_categorical(y_gen, 2))\n",
    "            \n",
    "            d_real_hist.append(d_loss_real)\n",
    "            d_fake_hist.append(d_loss_fake)\n",
    "            a_hist.append(a_loss)\n",
    "            \n",
    "            log_mesg = \"%d: [D loss REAL : %f]\" % (i+1, d_loss_real)\n",
    "            log_mesg = \"%s  [D loss FAKE: %f]\" % (log_mesg, d_loss_fake)\n",
    "            log_mesg = \"%s  [A loss: %f]\" % (log_mesg, a_loss)\n",
    "            print(log_mesg, end='\\r')\n",
    "            \n",
    "        if e == 1 or e % 100 == 0:\n",
    "            name = \"./00_12_models/generated_00_12_%s.csv\"%(e)\n",
    "            write(name, generated_images)\n",
    "        \n",
    "        clear_output(wait=True)\n",
    "        \n",
    "    return generator, discriminator, gan, d_real_hist, d_fake_hist, a_hist\n",
    "\n",
    "epochs = 300 # 600\n",
    "batch_size = 256 # 128\n",
    "generator, discriminator, gan, d_real_hist, d_fake_hist, a_hist = training(epochs,batch_size)"
   ]
  },
  {
   "cell_type": "code",
   "execution_count": null,
   "metadata": {},
   "outputs": [],
   "source": [
    "# Save model\n",
    "generator.save('./00_12_models/generator.h5')\n",
    "print('Generator saved.')\n",
    "discriminator.save('./00_12_models/discriminator.h5')\n",
    "print('Discriminator saved.')\n",
    "gan.save('./00_12_models/GAN.h5')\n",
    "print('GAN saved.')"
   ]
  },
  {
   "cell_type": "code",
   "execution_count": null,
   "metadata": {},
   "outputs": [],
   "source": [
    "fo = open(\"./00_12_models/12.txt\", \"w\")\n",
    "fo.write(\"Op. terminada\")\n",
    "fo.close()"
   ]
  },
  {
   "cell_type": "code",
   "execution_count": null,
   "metadata": {},
   "outputs": [],
   "source": [
    "batch_count = tr_seg.shape[0] // batch_size\n",
    "\n",
    "x_ticks = np.linspace(1,epochs,num=len(d_real_hist))\n",
    "\n",
    "plt.figure(figsize=(30,10))\n",
    "plt.plot(x_ticks,d_real_hist, label='Disc. loss REAL')\n",
    "plt.plot(x_ticks,d_fake_hist, label='Disc. loss FAKE')\n",
    "plt.plot(x_ticks,a_hist, label='Adv. loss')\n",
    "plt.xlabel('Epochs', fontsize=20)\n",
    "plt.ylabel('Losses', fontsize=20)\n",
    "plt.legend(loc=1, prop={'size': 20})\n",
    "plt.tick_params(labelsize=20);\n",
    "plt.title('GAN Training', fontsize=20)\n",
    "\n",
    "plt.draw()\n",
    "plt.savefig('./00_12_models/training.tiff', bbox_inches='tight',format='tiff')\n",
    "plt.draw()\n",
    "plt.savefig('./00_12_models/training.pdf', bbox_inches='tight',format='pdf')"
   ]
  },
  {
   "cell_type": "code",
   "execution_count": null,
   "metadata": {},
   "outputs": [],
   "source": [
    "plt.figure(figsize=(30,10))\n",
    "plt.plot(x_ticks,d_real_hist, label='Disc. loss REAL')\n",
    "plt.plot(x_ticks,d_fake_hist, label='Disc. loss FAKE')\n",
    "plt.xlabel('Epochs', fontsize=20)\n",
    "plt.ylabel('Losses', fontsize=20)\n",
    "plt.legend(loc=1, prop={'size': 20})\n",
    "plt.tick_params(labelsize=20);\n",
    "plt.title('GAN Training', fontsize=20)\n",
    "\n",
    "plt.draw()\n",
    "plt.savefig('./00_12_models/training_noAdv.tiff', bbox_inches='tight',format='tiff')\n",
    "plt.draw()\n",
    "plt.savefig('./00_12_models/training_noAdv.pdf', bbox_inches='tight',format='pdf')"
   ]
  },
  {
   "cell_type": "code",
   "execution_count": null,
   "metadata": {},
   "outputs": [],
   "source": [
    "d_hist = np.asarray(d_real_hist)+np.asarray(d_fake_hist)"
   ]
  },
  {
   "cell_type": "code",
   "execution_count": null,
   "metadata": {},
   "outputs": [],
   "source": [
    "plt.figure(figsize=(30,10))\n",
    "plt.plot(x_ticks,d_hist, label='Disc. loss')\n",
    "plt.plot(x_ticks,a_hist, label='Adv. loss')\n",
    "plt.xlabel('Epochs', fontsize=20)\n",
    "plt.ylabel('Losses', fontsize=20)\n",
    "plt.legend(loc=1, prop={'size': 20})\n",
    "plt.tick_params(labelsize=20)\n",
    "plt.title('GAN Training', fontsize=20)\n",
    "\n",
    "plt.draw()\n",
    "plt.savefig('./00_12_models/training2.tiff', bbox_inches='tight',format='tiff')\n",
    "plt.draw()\n",
    "plt.savefig('./00_12_models/training2.pdf', bbox_inches='tight',format='pdf')"
   ]
  },
  {
   "cell_type": "code",
   "execution_count": null,
   "metadata": {},
   "outputs": [],
   "source": [
    "plt.figure(figsize=(30,10))\n",
    "plt.plot(x_ticks,d_hist, label='Disc. loss')\n",
    "plt.xlabel('Epochs', fontsize=20)\n",
    "plt.ylabel('Losses', fontsize=20)\n",
    "plt.legend(loc=1, prop={'size': 20})\n",
    "plt.tick_params(labelsize=20)\n",
    "plt.title('GAN Training', fontsize=20)\n",
    "\n",
    "plt.draw()\n",
    "plt.savefig('./00_12_models/training2_noAdv.tiff', bbox_inches='tight',format='tiff')\n",
    "plt.draw()\n",
    "plt.savefig('./00_12_models/training2_noAdv.pdf', bbox_inches='tight',format='pdf')"
   ]
  },
  {
   "cell_type": "code",
   "execution_count": null,
   "metadata": {},
   "outputs": [],
   "source": [
    "print(d_hist[-1])"
   ]
  },
  {
   "cell_type": "code",
   "execution_count": null,
   "metadata": {},
   "outputs": [],
   "source": [
    "print(d_real_hist[-1])\n",
    "print(d_fake_hist[-1])"
   ]
  }
 ],
 "metadata": {
  "kernelspec": {
   "display_name": "Python 3",
   "language": "python",
   "name": "python3"
  },
  "language_info": {
   "codemirror_mode": {
    "name": "ipython",
    "version": 3
   },
   "file_extension": ".py",
   "mimetype": "text/x-python",
   "name": "python",
   "nbconvert_exporter": "python",
   "pygments_lexer": "ipython3",
   "version": "3.6.8"
  }
 },
 "nbformat": 4,
 "nbformat_minor": 4
}
