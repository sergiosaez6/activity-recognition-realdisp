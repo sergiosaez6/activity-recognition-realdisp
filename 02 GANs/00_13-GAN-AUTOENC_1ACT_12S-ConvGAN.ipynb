{
 "cells": [
  {
   "cell_type": "markdown",
   "metadata": {},
   "source": [
    "# GENERACIÓN DE MOVIMIENTOS"
   ]
  },
  {
   "cell_type": "code",
   "execution_count": 1,
   "metadata": {},
   "outputs": [],
   "source": [
    "import os as os"
   ]
  },
  {
   "cell_type": "code",
   "execution_count": 2,
   "metadata": {},
   "outputs": [],
   "source": [
    "import tensorflow as tf\n",
    "import tensorflow.keras as keras"
   ]
  },
  {
   "cell_type": "code",
   "execution_count": 3,
   "metadata": {},
   "outputs": [],
   "source": [
    "# Módulos necesarios. Asegurarse de poder importarlos.\n",
    "from __future__ import print_function\n",
    "import matplotlib.pyplot as plt\n",
    "import numpy as np\n",
    "import sys\n",
    "from six.moves import cPickle as pickle\n",
    "import tensorflow as tf\n",
    "from sklearn.model_selection import train_test_split\n",
    "import pandas as pd\n",
    "import csv\n",
    "from pylab import rcParams\n",
    "from scipy import stats\n",
    "from sklearn import metrics\n",
    "import seaborn as sns\n",
    "from sklearn import preprocessing\n",
    "from mpl_toolkits.axes_grid1 import host_subplot\n",
    "import mpl_toolkits.axisartist as AA\n",
    "\n",
    "# Config the matplotlib backend as plotting inline in IPython\n",
    "%matplotlib inline"
   ]
  },
  {
   "cell_type": "code",
   "execution_count": 4,
   "metadata": {},
   "outputs": [
    {
     "name": "stdout",
     "output_type": "stream",
     "text": [
      "/usr/bin/python\n",
      "3.6.8 (default, Aug 20 2019, 17:12:48) \n",
      "[GCC 8.3.0]\n",
      "sys.version_info(major=3, minor=6, micro=8, releaselevel='final', serial=0)\n"
     ]
    },
    {
     "data": {
      "text/plain": [
       "'1.14.0'"
      ]
     },
     "execution_count": 4,
     "metadata": {},
     "output_type": "execute_result"
    }
   ],
   "source": [
    "import sys\n",
    "print(sys.executable)\n",
    "print(sys.version)\n",
    "print(sys.version_info)\n",
    "tf.__version__"
   ]
  },
  {
   "cell_type": "code",
   "execution_count": 5,
   "metadata": {},
   "outputs": [
    {
     "data": {
      "text/plain": [
       "'2.2.4-tf'"
      ]
     },
     "execution_count": 5,
     "metadata": {},
     "output_type": "execute_result"
    }
   ],
   "source": [
    "keras.__version__"
   ]
  },
  {
   "cell_type": "code",
   "execution_count": 6,
   "metadata": {},
   "outputs": [],
   "source": [
    "global activities\n",
    "activities =  [19]\n",
    "global subjects\n",
    "subjects = [1,2,3,5,8,9,10,11,13,14,16,17]\n",
    "subjects_train = [1,3,5,8,9,11,13,14,17]\n",
    "subjects_test = [2,10,16]"
   ]
  },
  {
   "cell_type": "code",
   "execution_count": 7,
   "metadata": {},
   "outputs": [
    {
     "name": "stdout",
     "output_type": "stream",
     "text": [
      "Total files: 288\n",
      "Train files: 216\n",
      "Test files: 72\n",
      "TRAINING: \n",
      "['../data_augment/subject_01_AUGMENT_deg_-105_act_19.csv', '../data_augment/subject_01_AUGMENT_deg_-120_act_19.csv', '../data_augment/subject_01_AUGMENT_deg_-135_act_19.csv', '../data_augment/subject_01_AUGMENT_deg_-150_act_19.csv', '../data_augment/subject_01_AUGMENT_deg_-15_act_19.csv', '../data_augment/subject_01_AUGMENT_deg_-165_act_19.csv', '../data_augment/subject_01_AUGMENT_deg_-30_act_19.csv', '../data_augment/subject_01_AUGMENT_deg_-45_act_19.csv', '../data_augment/subject_01_AUGMENT_deg_-60_act_19.csv', '../data_augment/subject_01_AUGMENT_deg_-75_act_19.csv'] ...\n",
      "TEST: \n",
      "['../data_augment/subject_02_AUGMENT_deg_-105_act_19.csv', '../data_augment/subject_02_AUGMENT_deg_-120_act_19.csv', '../data_augment/subject_02_AUGMENT_deg_-135_act_19.csv', '../data_augment/subject_02_AUGMENT_deg_-150_act_19.csv', '../data_augment/subject_02_AUGMENT_deg_-15_act_19.csv', '../data_augment/subject_02_AUGMENT_deg_-165_act_19.csv', '../data_augment/subject_02_AUGMENT_deg_-30_act_19.csv', '../data_augment/subject_02_AUGMENT_deg_-45_act_19.csv', '../data_augment/subject_02_AUGMENT_deg_-60_act_19.csv', '../data_augment/subject_02_AUGMENT_deg_-75_act_19.csv'] ...\n"
     ]
    }
   ],
   "source": [
    "# Ruta raíz\n",
    "PATH = '../data_augment/'\n",
    "\n",
    "quaturls = !ls -1 \"{PATH}\"\n",
    "\n",
    "\n",
    "\n",
    "quat_corr = []\n",
    "for filename in quaturls:\n",
    "    for activity in activities:\n",
    "        if(int(filename[-6:-4])==activity):\n",
    "            quat_corr.append(filename)\n",
    "\n",
    "tr_urls = []\n",
    "ts_urls = []\n",
    "\n",
    "i=0\n",
    "for filename in quat_corr:\n",
    "    for subject in subjects_train:\n",
    "        if(int(quat_corr[i][8:10])==subject):\n",
    "            tr_urls.append(filename)\n",
    "    i+=1\n",
    "i=0\n",
    "for filename in quat_corr:\n",
    "    for subject in subjects_test:\n",
    "        if(int(quat_corr[i][8:10])==subject):\n",
    "            ts_urls.append(filename)\n",
    "    i+=1\n",
    "\n",
    "del quat_corr\n",
    "\n",
    "print('Total files: ' + str(len(tr_urls+ts_urls)))\n",
    "print('Train files: ' + str(len(tr_urls)))\n",
    "print('Test files: ' + str(len(ts_urls)))\n",
    "\n",
    "tr_fullpath = [os.path.join(PATH,s) for s in tr_urls]\n",
    "ts_fullpath = [os.path.join(PATH,s) for s in ts_urls]\n",
    "print('TRAINING: ')\n",
    "print(str(tr_fullpath[:10]) + ' ...')\n",
    "print('TEST: ')\n",
    "print(str(ts_fullpath[:10]) + ' ...')"
   ]
  },
  {
   "cell_type": "code",
   "execution_count": 8,
   "metadata": {},
   "outputs": [],
   "source": [
    "global ind\n",
    "ind=3600"
   ]
  },
  {
   "cell_type": "markdown",
   "metadata": {},
   "source": [
    "### Generación del dataset"
   ]
  },
  {
   "cell_type": "code",
   "execution_count": 9,
   "metadata": {},
   "outputs": [],
   "source": [
    "def sliding_window(df, n_time_steps, step, segments, labels, label, dim, train, n_channels):\n",
    "    quat0 = df.iloc[:, 1:5][df['QUAT']=='quat0'].reset_index() # si no incluimos el reset_index(), al concatenarlos después\n",
    "    quat1 = df.iloc[:, 1:5][df['QUAT']=='quat1'].reset_index() # aparecerá un dataframe de igual nº de filas que df, pero con\n",
    "    quat2 = df.iloc[:, 1:5][df['QUAT']=='quat2'].reset_index() # NaN en las posiciones que no tienen número de cada dataframe quat,\n",
    "    quat3 = df.iloc[:, 1:5][df['QUAT']=='quat3'].reset_index() # es decir, mantiene los índices de df.\n",
    "    quat4 = df.iloc[:, 1:5][df['QUAT']=='quat4'].reset_index()\n",
    "    \n",
    "    quat = pd.concat([quat0.iloc[:, 1], quat0.iloc[:, 2], quat0.iloc[:, 3], quat0.iloc[:, 4],\n",
    "                      quat1.iloc[:, 1], quat1.iloc[:, 2], quat1.iloc[:, 3], quat1.iloc[:, 4],\n",
    "                      quat2.iloc[:, 1], quat2.iloc[:, 2], quat2.iloc[:, 3], quat2.iloc[:, 4],\n",
    "                      quat3.iloc[:, 1], quat3.iloc[:, 2], quat3.iloc[:, 3], quat3.iloc[:, 4],\n",
    "                      quat4.iloc[:, 1], quat4.iloc[:, 2], quat4.iloc[:, 3], quat4.iloc[:, 4]],\n",
    "                      axis = 1, keys = ['w0', 'x0', 'y0', 'z0', 'w1', 'x1', 'y1', 'z1', 'w2', 'x2', 'y2', 'z2', \n",
    "                                        'w3', 'x3', 'y3', 'z3', 'w4', 'x4', 'y4', 'z4'])\n",
    "    \n",
    "    del quat0, quat1, quat2, quat3, quat4\n",
    "    \n",
    "    if(n_channels == 1):\n",
    "        for i in range(0, quat.shape[0] - n_time_steps, step): # Overlap\n",
    "            # Con listas y numpy\n",
    "            segments.append([])\n",
    "            segments[dim].append(quat.iloc[i: i + n_time_steps, :].values) # Si distinguimos entre sensores\n",
    "            labels.append(label-1)\n",
    "            dim+=1\n",
    "    else:\n",
    "        n_columns = int(36/n_channels)\n",
    "        for i in range(0, quat.shape[0] - n_time_steps, step):\n",
    "            segments.append([])\n",
    "            col = 0\n",
    "            for j in range(n_channels):\n",
    "                segments[dim].append([])\n",
    "                segments[dim][j].append(quat.iloc[i:i+n_time_steps,col:col+n_columns].values)\n",
    "                col+=n_columns\n",
    "            labels.append(label-1)\n",
    "            dim+=1\n",
    "    \n",
    "        \n",
    "    del quat\n",
    "    \n",
    "    return segments, labels, dim\n",
    "\n",
    "\n",
    "def load_quat(path, lim, train, n_channels):\n",
    "\n",
    "    n_time_steps, step = 128, 1  # n_time_steps/50 segundos de actividad y pasos de step/50 segundos (de overlap)\n",
    "    \n",
    "    # Con listas\n",
    "    segments = []\n",
    "    labels = []\n",
    "    \n",
    "    m=1\n",
    "    dim = 0\n",
    "    for filename in path:\n",
    "        print(\"Reading %s (%d/%d)                                                   \"%(filename, m, len(path)), end='\\r')\n",
    "        df = pd.read_csv(filename,sep=',',names=[\"QUAT\",\"w\",\"x\",\"y\",\"z\",\"timestamp\"])\n",
    "        label = int(filename[-6:-4])\n",
    "        for i in range(len(activities)):\n",
    "            if(label==activities[i]):\n",
    "                label=i+1\n",
    "        \n",
    "        segments, labels, dim = sliding_window(df.iloc[:lim], n_time_steps, step, segments, labels, label, dim, train, n_channels)\n",
    "        \n",
    "        m+=1\n",
    "    \n",
    "    del df\n",
    "    \n",
    "    return segments, labels\n",
    "\n",
    "\n",
    "def load_train_quat(filename, lim, n_channels):\n",
    "    return load_quat(filename, lim, True, n_channels)\n",
    "\n",
    "def load_test_quat(filename, lim, n_channels):\n",
    "    return load_quat(filename, lim, False, n_channels)\n",
    "\n",
    "def get_dataset(data_path, lim, batch_size, n_time_steps, train, valid, ds, n_channels):\n",
    "    if(train):\n",
    "        segments, labels = load_train_quat(data_path, lim, n_channels)\n",
    "    else:\n",
    "        segments, labels = load_test_quat(data_path, lim, n_channels)\n",
    "    \n",
    "    print('Generating the dataset                                                   ')                                              \n",
    "    \n",
    "    array = np.asarray(segments, dtype = 'float32')\n",
    "    segments = np.reshape(array, (array.shape[0], n_channels, n_time_steps, int(20/n_channels)))\n",
    "    array = np.asarray(labels, dtype = 'int8')\n",
    "    labels = np.reshape(array, (array.shape[0], 1))\n",
    "    \n",
    "    del array\n",
    "    '''\n",
    "    # Standardization\n",
    "    if(train):\n",
    "        mean = segments.mean(axis=0)\n",
    "        std = segments.std(axis=0)\n",
    "        segments -= mean\n",
    "        segments /= std\n",
    "    else:\n",
    "        segments -= mean\n",
    "        segments /= std\n",
    "    '''\n",
    "    # Map coninous dataset to categorical (One-Hot)\n",
    "    #labels = keras.utils.to_categorical(labels, 5)\n",
    "    \n",
    "    if(train):\n",
    "        print('-'*20 + 'TRAIN' + '-'*20)\n",
    "    elif(valid):\n",
    "        print('-'*18 + 'VALIDATION' + '-'*12)\n",
    "    else:\n",
    "        print('-'*20 + 'TEST' + '-'*21)\n",
    "    \n",
    "    if(ds):\n",
    "        dataset = tf.data.Dataset.from_tensor_slices((segments, labels))\n",
    "    \n",
    "        # It's necessary to repeat our data for all epochs\n",
    "        dataset = dataset.batch(batch_size)\n",
    "        \n",
    "        dataset = dataset.shuffle(segments.shape[0])\n",
    "        \n",
    "        print('Dataset generated                                                        ')\n",
    "        \n",
    "        return dataset, segments, labels\n",
    "    else:\n",
    "        # Shuffle in the first dimension\n",
    "        permutation = np.arange(0,segments.shape[0]-1)\n",
    "        np.random.shuffle(permutation)\n",
    "        segments = segments[permutation]\n",
    "        labels = labels[permutation]\n",
    "        print('Dataset generated                                                        ')\n",
    "        \n",
    "        return segments, labels"
   ]
  },
  {
   "cell_type": "code",
   "execution_count": 10,
   "metadata": {},
   "outputs": [
    {
     "name": "stdout",
     "output_type": "stream",
     "text": [
      "Generating the dataset                                                                                                     \n",
      "--------------------TRAIN--------------------\n",
      "Dataset generated                                                        \n",
      "Generating the dataset                                                                                                   \n",
      "------------------VALIDATION------------\n",
      "Dataset generated                                                        \n",
      "Train dataset: \n",
      "(58751, 1, 128, 20)\n",
      "Test dataset: \n",
      "(19583, 1, 128, 20)\n"
     ]
    }
   ],
   "source": [
    "n_time_steps = 128\n",
    "dataset = False # Set to True if you want a dataset or to False if you want np.arrays\n",
    "batch_size = 128 # REAL batch_size\n",
    "n_channels = 1 # It can be 1,4 or 9\n",
    "\n",
    "if(dataset):\n",
    "    train_dataset, tr_seg, tr_lab = get_dataset(tr_fullpath, batch_size, n_time_steps, True, False, dataset, n_channels)\n",
    "    \n",
    "    print('Train dataset: ')\n",
    "    print(train_dataset)\n",
    "else:\n",
    "    tr_seg, _ = get_dataset(tr_fullpath, ind, batch_size, n_time_steps, True, False, dataset, n_channels)\n",
    "    ts_seg, _ = get_dataset(ts_fullpath, ind, batch_size, n_time_steps, False, True, dataset, n_channels)\n",
    "    print('Train dataset: ')\n",
    "    print(tr_seg.shape)\n",
    "    print('Test dataset: ')\n",
    "    print(ts_seg.shape)"
   ]
  },
  {
   "cell_type": "markdown",
   "metadata": {},
   "source": [
    "# a) AUTOENCODER"
   ]
  },
  {
   "cell_type": "code",
   "execution_count": 15,
   "metadata": {},
   "outputs": [],
   "source": [
    "from tensorflow.keras.layers import Activation, Dense, Input, Conv2D, Flatten, Reshape, Conv2DTranspose, BatchNormalization, LeakyReLU, Dropout, ReLU\n",
    "from tensorflow.keras.models import Model\n",
    "from tensorflow.keras import backend as K"
   ]
  },
  {
   "cell_type": "code",
   "execution_count": 16,
   "metadata": {},
   "outputs": [],
   "source": [
    "# Network parameters\n",
    "input_shape = (1,128,20)\n",
    "batch_size = 128\n",
    "kernel_size = 4\n",
    "latent_dim = 100"
   ]
  },
  {
   "cell_type": "markdown",
   "metadata": {},
   "source": [
    "### ENCODER"
   ]
  },
  {
   "cell_type": "code",
   "execution_count": 17,
   "metadata": {},
   "outputs": [
    {
     "name": "stdout",
     "output_type": "stream",
     "text": [
      "Model: \"encoder\"\n",
      "_________________________________________________________________\n",
      "Layer (type)                 Output Shape              Param #   \n",
      "=================================================================\n",
      "encoder_input (InputLayer)   [(None, 1, 128, 20)]      0         \n",
      "_________________________________________________________________\n",
      "conv2d_2 (Conv2D)            (None, 32, 64, 10)        544       \n",
      "_________________________________________________________________\n",
      "batch_normalization_3 (Batch (None, 32, 64, 10)        128       \n",
      "_________________________________________________________________\n",
      "leaky_re_lu_2 (LeakyReLU)    (None, 32, 64, 10)        0         \n",
      "_________________________________________________________________\n",
      "conv2d_3 (Conv2D)            (None, 64, 32, 5)         32832     \n",
      "_________________________________________________________________\n",
      "batch_normalization_4 (Batch (None, 64, 32, 5)         256       \n",
      "_________________________________________________________________\n",
      "leaky_re_lu_3 (LeakyReLU)    (None, 64, 32, 5)         0         \n",
      "_________________________________________________________________\n",
      "flatten_1 (Flatten)          (None, 10240)             0         \n",
      "_________________________________________________________________\n",
      "latent_vector (Dense)        (None, 100)               1024100   \n",
      "=================================================================\n",
      "Total params: 1,057,860\n",
      "Trainable params: 1,057,668\n",
      "Non-trainable params: 192\n",
      "_________________________________________________________________\n"
     ]
    }
   ],
   "source": [
    "# Encoder/Decoder number of CNN layers and filters per layer\n",
    "layer_filters = [32,64]\n",
    "\n",
    "# Build the Autoencoder Model\n",
    "# First build the Encoder Model\n",
    "inputs = Input(shape=input_shape, name='encoder_input')\n",
    "x = inputs\n",
    "# Stack of Conv2D blocks\n",
    "# Notes:\n",
    "# 1) Use Batch Normalization before ReLU on deep networks\n",
    "# 2) Use MaxPooling2D as alternative to strides>1\n",
    "# - faster but not as good as strides>1\n",
    "for filters in layer_filters:\n",
    "    x = Conv2D(filters=filters,\n",
    "               kernel_size=kernel_size,\n",
    "               strides=2,\n",
    "               padding='same',\n",
    "               data_format='channels_first')(x)\n",
    "    x = BatchNormalization(axis=1)(x)\n",
    "    x = LeakyReLU()(x)\n",
    "\n",
    "# Shape info needed to build Decoder Model\n",
    "shape = K.int_shape(x)\n",
    "\n",
    "# Generate the latent vector\n",
    "x = Flatten()(x)\n",
    "latent = Dense(latent_dim, name='latent_vector')(x)\n",
    "\n",
    "# Instantiate Encoder Model\n",
    "encoder = Model(inputs, latent, name='encoder')\n",
    "encoder.summary()"
   ]
  },
  {
   "cell_type": "markdown",
   "metadata": {},
   "source": [
    "### DECODER"
   ]
  },
  {
   "cell_type": "code",
   "execution_count": 18,
   "metadata": {},
   "outputs": [
    {
     "name": "stdout",
     "output_type": "stream",
     "text": [
      "Model: \"decoder\"\n",
      "_________________________________________________________________\n",
      "Layer (type)                 Output Shape              Param #   \n",
      "=================================================================\n",
      "decoder_input (InputLayer)   [(None, 100)]             0         \n",
      "_________________________________________________________________\n",
      "dense_1 (Dense)              (None, 10240)             1034240   \n",
      "_________________________________________________________________\n",
      "reshape_1 (Reshape)          (None, 64, 32, 5)         0         \n",
      "_________________________________________________________________\n",
      "conv2d_transpose_1 (Conv2DTr (None, 64, 64, 10)        65600     \n",
      "_________________________________________________________________\n",
      "batch_normalization_5 (Batch (None, 64, 64, 10)        256       \n",
      "_________________________________________________________________\n",
      "re_lu (ReLU)                 (None, 64, 64, 10)        0         \n",
      "_________________________________________________________________\n",
      "conv2d_transpose_2 (Conv2DTr (None, 32, 128, 20)       32800     \n",
      "_________________________________________________________________\n",
      "batch_normalization_6 (Batch (None, 32, 128, 20)       128       \n",
      "_________________________________________________________________\n",
      "re_lu_1 (ReLU)               (None, 32, 128, 20)       0         \n",
      "_________________________________________________________________\n",
      "conv2d_transpose_3 (Conv2DTr (None, 1, 128, 20)        513       \n",
      "_________________________________________________________________\n",
      "decoder_output (Activation)  (None, 1, 128, 20)        0         \n",
      "=================================================================\n",
      "Total params: 1,133,537\n",
      "Trainable params: 1,133,345\n",
      "Non-trainable params: 192\n",
      "_________________________________________________________________\n"
     ]
    }
   ],
   "source": [
    "# Build the Decoder Model\n",
    "latent_inputs = Input(shape=(latent_dim,), name='decoder_input')\n",
    "x = Dense(shape[1] * shape[2] * shape[3])(latent_inputs)\n",
    "x = Reshape((shape[1], shape[2], shape[3]))(x)\n",
    "\n",
    "# Stack of Transposed Conv2D blocks\n",
    "# Notes:\n",
    "# 1) Use Batch Normalization before ReLU on deep networks\n",
    "# 2) Use UpSampling2D as alternative to strides>1\n",
    "# - faster but not as good as strides>1\n",
    "for filters in layer_filters[::-1]:\n",
    "    x = Conv2DTranspose(filters=filters,\n",
    "                        kernel_size=kernel_size,\n",
    "                        strides=2,\n",
    "                        padding='same',\n",
    "                        data_format = 'channels_first')(x)\n",
    "    x = BatchNormalization(axis=1)(x)\n",
    "    x = ReLU()(x)\n",
    "\n",
    "x = Conv2DTranspose(filters=1,\n",
    "                    kernel_size=kernel_size,\n",
    "                    padding='same',\n",
    "                    data_format='channels_first')(x)\n",
    "\n",
    "outputs = Activation('tanh', name='decoder_output')(x)\n",
    "\n",
    "# Instantiate Decoder Model\n",
    "decoder = Model(latent_inputs, outputs, name='decoder')\n",
    "decoder.compile(loss='mse', optimizer=keras.optimizers.Adam(lr=0.0001, beta_1=0.3))\n",
    "decoder.summary()"
   ]
  },
  {
   "cell_type": "markdown",
   "metadata": {},
   "source": [
    "### AUTOENCODER COMPLETO"
   ]
  },
  {
   "cell_type": "code",
   "execution_count": 19,
   "metadata": {},
   "outputs": [
    {
     "name": "stdout",
     "output_type": "stream",
     "text": [
      "Model: \"autoencoder\"\n",
      "_________________________________________________________________\n",
      "Layer (type)                 Output Shape              Param #   \n",
      "=================================================================\n",
      "encoder_input (InputLayer)   [(None, 1, 128, 20)]      0         \n",
      "_________________________________________________________________\n",
      "encoder (Model)              (None, 100)               1057860   \n",
      "_________________________________________________________________\n",
      "decoder (Model)              (None, 1, 128, 20)        1133537   \n",
      "=================================================================\n",
      "Total params: 2,191,397\n",
      "Trainable params: 2,191,013\n",
      "Non-trainable params: 384\n",
      "_________________________________________________________________\n"
     ]
    }
   ],
   "source": [
    "# Autoencoder = Encoder + Decoder\n",
    "# Instantiate Autoencoder Model\n",
    "autoencoder = Model(inputs, decoder(encoder(inputs)), name='autoencoder')\n",
    "autoencoder.summary()\n",
    "\n",
    "autoencoder.compile(loss='mse', optimizer=keras.optimizers.Adam(lr=0.00001, beta_1=0.2), metrics=['accuracy'])"
   ]
  },
  {
   "cell_type": "code",
   "execution_count": 20,
   "metadata": {},
   "outputs": [],
   "source": [
    "reduce_lr = keras.callbacks.ReduceLROnPlateau(monitor='val_loss', factor=0.4, patience=2, min_lr=1e-9, verbose=1, mode='min')\n",
    "early_stopping = keras.callbacks.EarlyStopping(monitor='val_loss', patience=10, verbose=1)\n",
    "\n",
    "callbacks_list = [reduce_lr, early_stopping]"
   ]
  },
  {
   "cell_type": "code",
   "execution_count": 21,
   "metadata": {},
   "outputs": [
    {
     "name": "stdout",
     "output_type": "stream",
     "text": [
      "Train on 58751 samples, validate on 19583 samples\n",
      "Epoch 1/100\n",
      "58751/58751 [==============================] - 27s 460us/sample - loss: 0.1591 - acc: 0.2525 - val_loss: 0.0919 - val_acc: 0.3828\n",
      "Epoch 2/100\n",
      "58751/58751 [==============================] - 20s 339us/sample - loss: 0.0454 - acc: 0.4753 - val_loss: 0.0664 - val_acc: 0.4568\n",
      "Epoch 3/100\n",
      "58751/58751 [==============================] - 20s 337us/sample - loss: 0.0303 - acc: 0.5581 - val_loss: 0.0502 - val_acc: 0.5060\n",
      "Epoch 4/100\n",
      "58751/58751 [==============================] - 20s 338us/sample - loss: 0.0216 - acc: 0.6041 - val_loss: 0.0397 - val_acc: 0.5391\n",
      "Epoch 5/100\n",
      "58751/58751 [==============================] - 20s 340us/sample - loss: 0.0161 - acc: 0.6348 - val_loss: 0.0335 - val_acc: 0.5654\n",
      "Epoch 6/100\n",
      "58751/58751 [==============================] - 20s 338us/sample - loss: 0.0125 - acc: 0.6581 - val_loss: 0.0293 - val_acc: 0.5832\n",
      "Epoch 7/100\n",
      "58751/58751 [==============================] - 20s 338us/sample - loss: 0.0102 - acc: 0.6779 - val_loss: 0.0265 - val_acc: 0.5963\n",
      "Epoch 8/100\n",
      "58751/58751 [==============================] - 20s 338us/sample - loss: 0.0086 - acc: 0.6943 - val_loss: 0.0247 - val_acc: 0.5993\n",
      "Epoch 9/100\n",
      "58751/58751 [==============================] - 20s 338us/sample - loss: 0.0075 - acc: 0.7080 - val_loss: 0.0237 - val_acc: 0.6107\n",
      "Epoch 10/100\n",
      "58751/58751 [==============================] - 20s 337us/sample - loss: 0.0067 - acc: 0.7201 - val_loss: 0.0224 - val_acc: 0.6132\n",
      "Epoch 11/100\n",
      "58751/58751 [==============================] - 20s 337us/sample - loss: 0.0061 - acc: 0.7296 - val_loss: 0.0220 - val_acc: 0.6170\n",
      "Epoch 12/100\n",
      "58751/58751 [==============================] - 20s 337us/sample - loss: 0.0056 - acc: 0.7390 - val_loss: 0.0207 - val_acc: 0.6195\n",
      "Epoch 13/100\n",
      "58751/58751 [==============================] - 20s 337us/sample - loss: 0.0052 - acc: 0.7468 - val_loss: 0.0200 - val_acc: 0.6252\n",
      "Epoch 14/100\n",
      "58751/58751 [==============================] - 20s 337us/sample - loss: 0.0049 - acc: 0.7536 - val_loss: 0.0199 - val_acc: 0.6252\n",
      "Epoch 15/100\n",
      "58751/58751 [==============================] - 20s 337us/sample - loss: 0.0046 - acc: 0.7598 - val_loss: 0.0191 - val_acc: 0.6270\n",
      "Epoch 16/100\n",
      "58751/58751 [==============================] - 20s 338us/sample - loss: 0.0044 - acc: 0.7653 - val_loss: 0.0186 - val_acc: 0.6265\n",
      "Epoch 17/100\n",
      "58751/58751 [==============================] - 20s 338us/sample - loss: 0.0042 - acc: 0.7703 - val_loss: 0.0183 - val_acc: 0.6279\n",
      "Epoch 18/100\n",
      "58751/58751 [==============================] - 20s 339us/sample - loss: 0.0040 - acc: 0.7749 - val_loss: 0.0179 - val_acc: 0.6312\n",
      "Epoch 19/100\n",
      "58751/58751 [==============================] - 20s 338us/sample - loss: 0.0039 - acc: 0.7791 - val_loss: 0.0175 - val_acc: 0.6314\n",
      "Epoch 20/100\n",
      "58751/58751 [==============================] - 20s 338us/sample - loss: 0.0037 - acc: 0.7831 - val_loss: 0.0174 - val_acc: 0.6361\n",
      "Epoch 21/100\n",
      "58751/58751 [==============================] - 20s 339us/sample - loss: 0.0036 - acc: 0.7868 - val_loss: 0.0169 - val_acc: 0.6353\n",
      "Epoch 22/100\n",
      "58751/58751 [==============================] - 20s 338us/sample - loss: 0.0035 - acc: 0.7900 - val_loss: 0.0171 - val_acc: 0.6335\n",
      "Epoch 23/100\n",
      "58751/58751 [==============================] - 20s 338us/sample - loss: 0.0034 - acc: 0.7931 - val_loss: 0.0166 - val_acc: 0.6343\n",
      "Epoch 24/100\n",
      "58751/58751 [==============================] - 20s 340us/sample - loss: 0.0033 - acc: 0.7959 - val_loss: 0.0165 - val_acc: 0.6310\n",
      "Epoch 25/100\n",
      "58496/58751 [============================>.] - ETA: 0s - loss: 0.0032 - acc: 0.7987\n",
      "Epoch 00025: ReduceLROnPlateau reducing learning rate to 3.999999898951501e-06.\n",
      "58751/58751 [==============================] - 20s 339us/sample - loss: 0.0032 - acc: 0.7987 - val_loss: 0.0167 - val_acc: 0.6312\n",
      "Epoch 26/100\n",
      "58751/58751 [==============================] - 20s 340us/sample - loss: 0.0030 - acc: 0.8021 - val_loss: 0.0160 - val_acc: 0.6369\n",
      "Epoch 27/100\n",
      "58751/58751 [==============================] - 20s 340us/sample - loss: 0.0030 - acc: 0.8034 - val_loss: 0.0158 - val_acc: 0.6383\n",
      "Epoch 28/100\n",
      "58751/58751 [==============================] - 20s 339us/sample - loss: 0.0030 - acc: 0.8047 - val_loss: 0.0158 - val_acc: 0.6390\n",
      "Epoch 29/100\n",
      "58751/58751 [==============================] - 20s 340us/sample - loss: 0.0029 - acc: 0.8059 - val_loss: 0.0156 - val_acc: 0.6388\n",
      "Epoch 30/100\n",
      "58751/58751 [==============================] - 20s 339us/sample - loss: 0.0029 - acc: 0.8072 - val_loss: 0.0157 - val_acc: 0.6405\n",
      "Epoch 31/100\n",
      "58751/58751 [==============================] - 20s 339us/sample - loss: 0.0028 - acc: 0.8087 - val_loss: 0.0155 - val_acc: 0.6408\n",
      "Epoch 32/100\n",
      "58751/58751 [==============================] - 20s 339us/sample - loss: 0.0028 - acc: 0.8101 - val_loss: 0.0154 - val_acc: 0.6390\n",
      "Epoch 33/100\n",
      "58496/58751 [============================>.] - ETA: 0s - loss: 0.0028 - acc: 0.8109\n",
      "Epoch 00033: ReduceLROnPlateau reducing learning rate to 1.5999999959603884e-06.\n",
      "58751/58751 [==============================] - 20s 339us/sample - loss: 0.0028 - acc: 0.8109 - val_loss: 0.0155 - val_acc: 0.6381\n",
      "Epoch 34/100\n",
      "58751/58751 [==============================] - 20s 339us/sample - loss: 0.0027 - acc: 0.8123 - val_loss: 0.0152 - val_acc: 0.6417\n",
      "Epoch 35/100\n",
      "58751/58751 [==============================] - 20s 340us/sample - loss: 0.0027 - acc: 0.8130 - val_loss: 0.0151 - val_acc: 0.6405\n",
      "Epoch 36/100\n",
      "58496/58751 [============================>.] - ETA: 0s - loss: 0.0027 - acc: 0.8132\n",
      "Epoch 00036: ReduceLROnPlateau reducing learning rate to 6.400000074791024e-07.\n",
      "58751/58751 [==============================] - 20s 339us/sample - loss: 0.0027 - acc: 0.8132 - val_loss: 0.0152 - val_acc: 0.6410\n",
      "Epoch 37/100\n",
      "58751/58751 [==============================] - 20s 338us/sample - loss: 0.0027 - acc: 0.8141 - val_loss: 0.0151 - val_acc: 0.6415\n",
      "Epoch 38/100\n",
      "58751/58751 [==============================] - 20s 339us/sample - loss: 0.0027 - acc: 0.8141 - val_loss: 0.0151 - val_acc: 0.6419\n",
      "Epoch 39/100\n",
      "58496/58751 [============================>.] - ETA: 0s - loss: 0.0026 - acc: 0.8144\n",
      "Epoch 00039: ReduceLROnPlateau reducing learning rate to 2.5599999844416746e-07.\n",
      "58751/58751 [==============================] - 20s 339us/sample - loss: 0.0026 - acc: 0.8145 - val_loss: 0.0150 - val_acc: 0.6416\n",
      "Epoch 40/100\n",
      "58751/58751 [==============================] - 20s 340us/sample - loss: 0.0026 - acc: 0.8147 - val_loss: 0.0151 - val_acc: 0.6413\n",
      "Epoch 41/100\n",
      "58496/58751 [============================>.] - ETA: 0s - loss: 0.0026 - acc: 0.8146\n",
      "Epoch 00041: ReduceLROnPlateau reducing learning rate to 1.0239999710393022e-07.\n",
      "58751/58751 [==============================] - 20s 339us/sample - loss: 0.0026 - acc: 0.8146 - val_loss: 0.0151 - val_acc: 0.6417\n",
      "Epoch 42/100\n",
      "58751/58751 [==============================] - 20s 339us/sample - loss: 0.0026 - acc: 0.8149 - val_loss: 0.0151 - val_acc: 0.6415\n",
      "Epoch 43/100\n",
      "58496/58751 [============================>.] - ETA: 0s - loss: 0.0026 - acc: 0.8147\n",
      "Epoch 00043: ReduceLROnPlateau reducing learning rate to 4.095999770470371e-08.\n",
      "58751/58751 [==============================] - 20s 339us/sample - loss: 0.0026 - acc: 0.8148 - val_loss: 0.0150 - val_acc: 0.6416\n",
      "Epoch 44/100\n",
      "58751/58751 [==============================] - 20s 340us/sample - loss: 0.0026 - acc: 0.8150 - val_loss: 0.0150 - val_acc: 0.6418\n",
      "Epoch 45/100\n",
      "58496/58751 [============================>.] - ETA: 0s - loss: 0.0026 - acc: 0.8148\n",
      "Epoch 00045: ReduceLROnPlateau reducing learning rate to 1.6383998513447297e-08.\n",
      "58751/58751 [==============================] - 20s 340us/sample - loss: 0.0026 - acc: 0.8149 - val_loss: 0.0150 - val_acc: 0.6414\n",
      "Epoch 46/100\n",
      "58751/58751 [==============================] - 20s 339us/sample - loss: 0.0026 - acc: 0.8148 - val_loss: 0.0150 - val_acc: 0.6418\n",
      "Epoch 47/100\n",
      "58496/58751 [============================>.] - ETA: 0s - loss: 0.0026 - acc: 0.8149\n",
      "Epoch 00047: ReduceLROnPlateau reducing learning rate to 6.553599263270372e-09.\n",
      "58751/58751 [==============================] - 20s 339us/sample - loss: 0.0026 - acc: 0.8148 - val_loss: 0.0150 - val_acc: 0.6417\n",
      "Epoch 48/100\n",
      "58751/58751 [==============================] - 20s 339us/sample - loss: 0.0026 - acc: 0.8147 - val_loss: 0.0151 - val_acc: 0.6417\n",
      "Epoch 49/100\n",
      "58496/58751 [============================>.] - ETA: 0s - loss: 0.0026 - acc: 0.8147\n",
      "Epoch 00049: ReduceLROnPlateau reducing learning rate to 2.6214397763624222e-09.\n",
      "58751/58751 [==============================] - 20s 339us/sample - loss: 0.0026 - acc: 0.8148 - val_loss: 0.0151 - val_acc: 0.6414\n",
      "Epoch 50/100\n",
      "58751/58751 [==============================] - 20s 339us/sample - loss: 0.0026 - acc: 0.8147 - val_loss: 0.0150 - val_acc: 0.6414\n",
      "Epoch 51/100\n",
      "58496/58751 [============================>.] - ETA: 0s - loss: 0.0026 - acc: 0.8148\n",
      "Epoch 00051: ReduceLROnPlateau reducing learning rate to 1.0485758927814004e-09.\n",
      "58751/58751 [==============================] - 20s 339us/sample - loss: 0.0026 - acc: 0.8148 - val_loss: 0.0150 - val_acc: 0.6413\n",
      "Epoch 52/100\n",
      "58751/58751 [==============================] - 20s 338us/sample - loss: 0.0026 - acc: 0.8148 - val_loss: 0.0150 - val_acc: 0.6416\n",
      "Epoch 53/100\n",
      "58496/58751 [============================>.] - ETA: 0s - loss: 0.0026 - acc: 0.8150\n",
      "Epoch 00053: ReduceLROnPlateau reducing learning rate to 1e-09.\n",
      "58751/58751 [==============================] - 20s 339us/sample - loss: 0.0026 - acc: 0.8150 - val_loss: 0.0150 - val_acc: 0.6418\n",
      "Epoch 54/100\n",
      "58751/58751 [==============================] - 20s 340us/sample - loss: 0.0026 - acc: 0.8148 - val_loss: 0.0151 - val_acc: 0.6416\n",
      "Epoch 55/100\n",
      "58751/58751 [==============================] - 20s 339us/sample - loss: 0.0026 - acc: 0.8150 - val_loss: 0.0150 - val_acc: 0.6418\n",
      "Epoch 56/100\n",
      "58751/58751 [==============================] - 20s 339us/sample - loss: 0.0026 - acc: 0.8148 - val_loss: 0.0150 - val_acc: 0.6418\n",
      "Epoch 57/100\n",
      "58751/58751 [==============================] - 20s 339us/sample - loss: 0.0027 - acc: 0.8147 - val_loss: 0.0150 - val_acc: 0.6418\n",
      "Epoch 58/100\n",
      "58751/58751 [==============================] - 20s 339us/sample - loss: 0.0026 - acc: 0.8151 - val_loss: 0.0150 - val_acc: 0.6416\n",
      "Epoch 59/100\n",
      "58751/58751 [==============================] - 20s 339us/sample - loss: 0.0026 - acc: 0.8147 - val_loss: 0.0150 - val_acc: 0.6416\n",
      "Epoch 60/100\n",
      "58751/58751 [==============================] - 20s 339us/sample - loss: 0.0026 - acc: 0.8148 - val_loss: 0.0150 - val_acc: 0.6419\n",
      "Epoch 61/100\n",
      "58751/58751 [==============================] - 20s 339us/sample - loss: 0.0026 - acc: 0.8150 - val_loss: 0.0150 - val_acc: 0.6415\n",
      "Epoch 62/100\n",
      "58751/58751 [==============================] - 20s 340us/sample - loss: 0.0026 - acc: 0.8148 - val_loss: 0.0150 - val_acc: 0.6414\n",
      "Epoch 63/100\n",
      "58751/58751 [==============================] - 20s 340us/sample - loss: 0.0026 - acc: 0.8148 - val_loss: 0.0150 - val_acc: 0.6418\n",
      "Epoch 64/100\n",
      "58751/58751 [==============================] - 20s 339us/sample - loss: 0.0026 - acc: 0.8150 - val_loss: 0.0150 - val_acc: 0.6414\n",
      "Epoch 65/100\n",
      "58751/58751 [==============================] - 20s 340us/sample - loss: 0.0026 - acc: 0.8149 - val_loss: 0.0150 - val_acc: 0.6418\n",
      "Epoch 00065: early stopping\n"
     ]
    }
   ],
   "source": [
    "# Train the autoencoder\n",
    "history = autoencoder.fit(tr_seg,\n",
    "                          tr_seg,\n",
    "                          validation_data=(ts_seg,ts_seg),\n",
    "                          epochs=100,\n",
    "                          batch_size=batch_size,\n",
    "                          verbose=1,\n",
    "                          callbacks=callbacks_list)\n",
    "\n",
    "# Predict the Autoencoder output from corrupted test images\n",
    "x_decoded = autoencoder.predict(ts_seg)"
   ]
  },
  {
   "cell_type": "code",
   "execution_count": 22,
   "metadata": {},
   "outputs": [],
   "source": [
    "def plot_curves(model, acc, loss, val_acc, val_loss, tp):\n",
    "    #########################################################################################\n",
    "    # LOSS plot\n",
    "    plt.figure(figsize=(12,8))\n",
    "    plt.plot(model.history.history[loss], label='Training loss')\n",
    "    plt.plot(model.history.history[val_loss], label='Validation loss')\n",
    "    plt.xlabel('Epochs', fontsize=15)\n",
    "    plt.ylabel('Loss', fontsize=15)\n",
    "    plt.tick_params(labelsize=10)\n",
    "    plt.legend(loc=1,prop={'size': 10})\n",
    "    plt.title('Loss in trainnig', fontsize=20)\n",
    "    fig = plt.gcf()\n",
    "    plt.show()\n",
    "    \n",
    "    fig.savefig('./00_13_models/'+tp+'_loss_train_00_13.pdf', bbox_inches='tight',format='pdf')\n",
    "    fig.savefig('./00_13_models/'+tp+'_loss_train_00_13.svg', bbox_inches='tight',format='svg')\n",
    "    \n",
    "    #########################################################################################\n",
    "    # ACC plot\n",
    "    plt.figure(figsize=(12,8))\n",
    "    plt.plot(model.history.history[acc], label='Training accuracy')\n",
    "    plt.plot(model.history.history[val_acc], label= 'Validation accuracy')\n",
    "    plt.xlabel('Epochs', fontsize=15)\n",
    "    plt.ylabel('Accuracy', fontsize=15)\n",
    "    plt.tick_params(labelsize=10)\n",
    "    plt.legend(loc=1,prop={'size': 10})\n",
    "    plt.title('Accuracy in training', fontsize=20)\n",
    "    fig = plt.gcf()\n",
    "    plt.show()\n",
    "\n",
    "    fig.savefig('./00_13_models/'+tp+'_acc_train_00_13.pdf', bbox_inches='tight',format='pdf')\n",
    "    fig.savefig('./00_13_models/'+tp+'_acc_train_00_13.svg', bbox_inches='tight',format='svg')\n",
    "    \n",
    "    #########################################################################################\n",
    "    # ACC+LOSS plot\n",
    "    plt.figure(figsize=(14,10))\n",
    "    plt_loss = host_subplot(111, axes_class=AA.Axes)\n",
    "    plt.subplots_adjust(right=0.75)\n",
    "\n",
    "    plt_acc = plt_loss.twinx()\n",
    "    plt_acc.axis[\"right\"].toggle(all=True)\n",
    "    \n",
    "    plt_loss.set_xlim(0, len(model.history.history[loss]))\n",
    "    plt_loss.set_ylim(0, max(model.history.history[loss]))\n",
    "    plt_loss.set_xlabel('Epochs')\n",
    "    plt_loss.set_ylabel('Loss')\n",
    "    plt_acc.set_ylabel('Accuracy')\n",
    "                        \n",
    "    plt_loss.axis['left'].label.set_fontsize(15)\n",
    "    plt_loss.axis['bottom'].label.set_fontsize(15)\n",
    "    plt_acc.axis['right'].label.set_fontsize(15)\n",
    "    \n",
    "    plt_loss.plot(model.history.history[loss], c='tab:blue', ls='--', label='Training loss')\n",
    "    plt_acc.plot(model.history.history[acc], c='tab:orange',ls='--', label='Training accuracy')\n",
    "    plt_loss.plot(model.history.history[val_loss], c='tab:blue',ls='-', label='Validation loss')\n",
    "    plt_acc.plot(model.history.history[val_acc], c='tab:orange',ls='-', label='Validation accuracy')\n",
    "    \n",
    "    plt.tick_params(labelsize=10)\n",
    "    plt.title('Training performance', fontsize=20)\n",
    "    plt_acc.set_ylim(0, 1)\n",
    "    plt_loss.legend(loc=1, prop={'size': 10})\n",
    "    \n",
    "    fig = plt.gcf()\n",
    "    plt.show()\n",
    "\n",
    "    fig.savefig('./00_13_models/'+tp+'_all_train_00_13.pdf', bbox_inches='tight',format='pdf')\n",
    "    fig.savefig('./00_13_models/'+tp+'_all_train_00_13.svg', bbox_inches='tight',format='svg')"
   ]
  },
  {
   "cell_type": "code",
   "execution_count": 23,
   "metadata": {},
   "outputs": [
    {
     "data": {
      "image/png": "[encoded data removed]",
      "text/plain": [
       "<Figure size 864x576 with 1 Axes>"
      ]
     },
     "metadata": {
      "needs_background": "light"
     },
     "output_type": "display_data"
    },
    {
     "data": {
      "image/png": "[encoded data removed]",
      "text/plain": [
       "<Figure size 864x576 with 1 Axes>"
      ]
     },
     "metadata": {
      "needs_background": "light"
     },
     "output_type": "display_data"
    },
    {
     "data": {
      "image/png": "[encoded data removed]",
      "text/plain": [
       "<Figure size 1008x720 with 1 Axes>"
      ]
     },
     "metadata": {
      "needs_background": "light"
     },
     "output_type": "display_data"
    }
   ],
   "source": [
    "#Visualize training evolution\n",
    "plot_curves(autoencoder, 'acc', 'loss', 'val_acc', 'val_loss', 'AUTOENCODER')"
   ]
  },
  {
   "cell_type": "code",
   "execution_count": 24,
   "metadata": {},
   "outputs": [
    {
     "name": "stdout",
     "output_type": "stream",
     "text": [
      "Autoencoder saved.\n",
      "Encoder saved.\n",
      "Decoder saved.\n"
     ]
    }
   ],
   "source": [
    "# Save model\n",
    "autoencoder.save('./00_13_models/autoencoder.h5')\n",
    "print('Autoencoder saved.')\n",
    "encoder.save('./00_13_models/encoder.h5')\n",
    "print('Encoder saved.')\n",
    "decoder.save('./00_13_models/decoder.h5')\n",
    "print('Decoder saved.')"
   ]
  },
  {
   "cell_type": "code",
   "execution_count": 25,
   "metadata": {},
   "outputs": [],
   "source": [
    "def write(name, ts_seg):\n",
    "    fo = open(name, \"w\")\n",
    "    head = \"QUAT,w,x,y,z,timestamp\\n\"\n",
    "    fo.seek(0,2)\n",
    "    fo.write(head)\n",
    "    fo.close()\n",
    "    \n",
    "    fo = open(name, \"a\")\n",
    "    salida = np.reshape(ts_seg, (ts_seg.shape[0]*ts_seg.shape[2], ts_seg.shape[3]))\n",
    "    \n",
    "    k = 0\n",
    "    for i in range(salida.shape[0]):\n",
    "        if(i%128==0):\n",
    "            if(i!=0):\n",
    "                k+=1\n",
    "        print('%d'%(i), end='\\r')\n",
    "        fo.write(\"quat0,\"+str(salida[i][0])+\",\"+str(salida[i][1])+\",\"+str(salida[i][2])+\",\"+str(salida[i][3])+\",\"+str(i)+\",\"+'\\n')\n",
    "        fo.write(\"quat1,\"+str(salida[i][4])+\",\"+str(salida[i][5])+\",\"+str(salida[i][6])+\",\"+str(salida[i][7])+\",\"+str(i)+\",\"+'\\n')\n",
    "        fo.write(\"quat2,\"+str(salida[i][8])+\",\"+str(salida[i][9])+\",\"+str(salida[i][10])+\",\"+str(salida[i][11])+\",\"+str(i)+\",\"+'\\n')\n",
    "        fo.write(\"quat3,\"+str(salida[i][12])+\",\"+str(salida[i][13])+\",\"+str(salida[i][14])+\",\"+str(salida[i][15])+\",\"+str(i)+\",\"+'\\n')\n",
    "        fo.write(\"quat4,\"+str(salida[i][16])+\",\"+str(salida[i][17])+\",\"+str(salida[i][18])+\",\"+str(salida[i][19])+\",\"+str(i)+\",\"+'\\n')\n",
    "        if(salida.shape[1]==36):\n",
    "            fo.write(\"quat5,\"+str(salida[i][20])+\",\"+str(salida[i][21])+\",\"+str(salida[i][22])+\",\"+str(salida[i][23])+\",\"+str(i)+\",\"+'\\n')\n",
    "            fo.write(\"quat6,\"+str(salida[i][24])+\",\"+str(salida[i][25])+\",\"+str(salida[i][26])+\",\"+str(salida[i][27])+\",\"+str(i)+\",\"+'\\n')\n",
    "            fo.write(\"quat7,\"+str(salida[i][28])+\",\"+str(salida[i][29])+\",\"+str(salida[i][30])+\",\"+str(salida[i][31])+\",\"+str(i)+\",\"+'\\n')\n",
    "            fo.write(\"quat8,\"+str(salida[i][32])+\",\"+str(salida[i][33])+\",\"+str(salida[i][34])+\",\"+str(salida[i][35])+\",\"+str(i)+\",\"+'\\n')\n",
    "        else:\n",
    "            fo.write(\"quat5,\"+str(1)+\",\"+str(0)+\",\"+str(0)+\",\"+str(0)+\",\"+str(i)+\",\"+'\\n')\n",
    "            fo.write(\"quat6,\"+str(1)+\",\"+str(0)+\",\"+str(0)+\",\"+str(0)+\",\"+str(i)+\",\"+'\\n')\n",
    "            fo.write(\"quat7,\"+str(1)+\",\"+str(0)+\",\"+str(0)+\",\"+str(0)+\",\"+str(i)+\",\"+'\\n')\n",
    "            fo.write(\"quat8,\"+str(1)+\",\"+str(0)+\",\"+str(0)+\",\"+str(0)+\",\"+str(i)+\",\"+'\\n')\n",
    "    fo.close()"
   ]
  },
  {
   "cell_type": "code",
   "execution_count": null,
   "metadata": {},
   "outputs": [
    {
     "name": "stdout",
     "output_type": "stream",
     "text": [
      "941752\r"
     ]
    }
   ],
   "source": [
    "name = \"./00_13_models/autoencoder_pred_12.csv\"\n",
    "write(name, x_decoded)\n",
    "name = \"./00_13_models/autoencoder_pass_12.csv\"\n",
    "write(name, ts_seg)"
   ]
  },
  {
   "cell_type": "markdown",
   "metadata": {},
   "source": [
    "Liberamos toda la memoria posible:"
   ]
  },
  {
   "cell_type": "code",
   "execution_count": null,
   "metadata": {},
   "outputs": [],
   "source": [
    "del tr_seg, ts_seg, autoencoder, decoder, encoder"
   ]
  },
  {
   "cell_type": "markdown",
   "metadata": {},
   "source": [
    "# b) Tomar el decoder del autoencoder como GENERADOR y pre-entrenar el DISCRIMINADOR"
   ]
  },
  {
   "cell_type": "code",
   "execution_count": null,
   "metadata": {},
   "outputs": [],
   "source": [
    "n_time_steps = 128\n",
    "dataset = False # Set to True if you want a dataset or to False if you want np.arrays\n",
    "batch_size = 128 # REAL batch_size\n",
    "n_channels = 1 # It can be 1,4 or 9\n",
    "\n",
    "if(dataset):\n",
    "    train_dataset, tr_seg, tr_lab = get_dataset(tr_fullpath, batch_size, n_time_steps, True, False, dataset, n_channels)\n",
    "    \n",
    "    print('Train dataset: ')\n",
    "    print(train_dataset)\n",
    "else:\n",
    "    tr_seg, tr_lab = get_dataset(tr_fullpath, ind, batch_size, n_time_steps, True, False, dataset, n_channels)\n",
    "    ts_seg, ts_lab = get_dataset(ts_fullpath, ind, batch_size, n_time_steps, False, True, dataset, n_channels)\n",
    "    print('Train dataset: ')\n",
    "    print(tr_seg.shape, tr_lab.shape)\n",
    "    print('Test dataset: ')\n",
    "    print(ts_seg.shape, ts_lab.shape)"
   ]
  },
  {
   "cell_type": "code",
   "execution_count": null,
   "metadata": {},
   "outputs": [],
   "source": [
    "samples = tr_seg.shape[0]\n",
    "samples_test = ts_seg.shape[0]"
   ]
  },
  {
   "cell_type": "code",
   "execution_count": null,
   "metadata": {},
   "outputs": [],
   "source": [
    "tr_lab = np.ones((tr_lab.shape[0],tr_lab.shape[1]))\n",
    "ts_lab = np.ones((ts_lab.shape[0],ts_lab.shape[1]))"
   ]
  },
  {
   "cell_type": "markdown",
   "metadata": {},
   "source": [
    "### Pre-entrenamiento del Discriminador"
   ]
  },
  {
   "cell_type": "markdown",
   "metadata": {},
   "source": [
    "Generamos datos con el decoder ya entrenado y lo introducimos como datos nuevos:"
   ]
  },
  {
   "cell_type": "code",
   "execution_count": null,
   "metadata": {},
   "outputs": [],
   "source": [
    "from tensorflow.keras.models import load_model\n",
    "\n",
    "generator = load_model('./12b_models/decoder.h5')\n",
    "\n",
    "print('Generating new data for training.')\n",
    "noise= np.random.normal(0,1, [samples, 100])\n",
    "            \n",
    "# Generate fake data from noised input\n",
    "generated_seg = generator.predict(noise)\n",
    "            \n",
    "# Concatenate to the original data\n",
    "tr_seg = np.concatenate([tr_seg, generated_seg])\n",
    "tr_lab = np.concatenate([tr_lab,np.zeros((samples,1))])\n",
    "\n",
    "\n",
    "print('Generating new data for test.')\n",
    "noise= np.random.normal(0,1, [samples_test, 100])\n",
    "            \n",
    "# Generate fake data from noised input\n",
    "generated_seg = generator.predict(noise)\n",
    "            \n",
    "# Concatenate to the original data\n",
    "ts_seg = np.concatenate([ts_seg, generated_seg])\n",
    "ts_lab = np.concatenate([ts_lab,np.zeros((samples_test,1))])\n",
    "\n",
    "# Shuffle in the first dimension\n",
    "permutation = np.arange(0,tr_seg.shape[0]-1)\n",
    "np.random.shuffle(permutation)\n",
    "tr_seg = tr_seg[permutation]\n",
    "tr_lab = tr_lab[permutation]\n",
    "\n",
    "permutation = np.arange(0,ts_seg.shape[0]-1)\n",
    "np.random.shuffle(permutation)\n",
    "ts_seg = ts_seg[permutation]\n",
    "ts_lab = ts_lab[permutation]\n",
    "\n",
    "print(tr_seg.shape, tr_lab.shape)\n",
    "print(ts_seg.shape, ts_lab.shape)"
   ]
  },
  {
   "cell_type": "code",
   "execution_count": null,
   "metadata": {},
   "outputs": [],
   "source": [
    "print(tr_lab[:10].T)\n",
    "print(ts_lab[:10].T)"
   ]
  },
  {
   "cell_type": "code",
   "execution_count": null,
   "metadata": {},
   "outputs": [],
   "source": [
    "print(tr_lab.shape)\n",
    "print(ts_lab.shape)"
   ]
  },
  {
   "cell_type": "markdown",
   "metadata": {},
   "source": [
    "Entrenamos el discriminator con todos los datos:"
   ]
  },
  {
   "cell_type": "code",
   "execution_count": null,
   "metadata": {},
   "outputs": [],
   "source": [
    "layer_filters = [32,64]\n",
    "    \n",
    "inputs = Input(shape=(1,128,20), name='discriminator_input')\n",
    "x = inputs\n",
    "\n",
    "i=0\n",
    "for filters in layer_filters:\n",
    "    x = Conv2D(filters=filters,\n",
    "                kernel_size=kernel_size,\n",
    "                strides=2,\n",
    "                padding='same',\n",
    "                data_format='channels_first')(x)\n",
    "    if(i!=0):\n",
    "        x = BatchNormalization(axis=1)(x)\n",
    "    x = LeakyReLU(0.2)(x)\n",
    "    x = Dropout(0.5)(x)\n",
    "    i+=1\n",
    "    \n",
    "x = Flatten()(x)\n",
    "output = Dense(1, name='activity_class', activation='sigmoid')(x)\n",
    "\n",
    "\n",
    "# Instantiate Encoder Model\n",
    "discriminator = Model(inputs, output, name='discriminator')\n",
    "discriminator.summary()\n",
    "discriminator.compile(optimizer=keras.optimizers.Adam(lr=0.00001, beta_1=0.3, clipnorm=0.1), loss='binary_crossentropy', metrics=['binary_accuracy'])"
   ]
  },
  {
   "cell_type": "code",
   "execution_count": null,
   "metadata": {},
   "outputs": [],
   "source": [
    "# Train the autoencoder\n",
    "history = discriminator.fit(tr_seg,\n",
    "                            tr_lab,\n",
    "                            validation_data=(ts_seg,ts_lab),\n",
    "                            epochs=100,\n",
    "                            batch_size=batch_size,\n",
    "                            verbose=1,\n",
    "                            callbacks=callbacks_list)"
   ]
  },
  {
   "cell_type": "code",
   "execution_count": null,
   "metadata": {},
   "outputs": [],
   "source": [
    "#Visualize training evolution\n",
    "plot_curves(discriminator, 'binary_accuracy', 'loss', 'val_loss', 'val_binary_accuracy', 'DISCRIMINATOR')"
   ]
  },
  {
   "cell_type": "code",
   "execution_count": null,
   "metadata": {},
   "outputs": [],
   "source": [
    "discriminator.evaluate(ts_seg, ts_lab, batch_size=batch_size, verbose=1)"
   ]
  },
  {
   "cell_type": "code",
   "execution_count": null,
   "metadata": {},
   "outputs": [],
   "source": [
    "# Save model\n",
    "discriminator.save('./00_13_models/pre_discriminator.h5')\n",
    "print('Pre-discriminator saved.')"
   ]
  },
  {
   "cell_type": "code",
   "execution_count": null,
   "metadata": {},
   "outputs": [],
   "source": [
    "del tr_seg, ts_seg, tr_lab, ts_lab, discriminator"
   ]
  },
  {
   "cell_type": "markdown",
   "metadata": {},
   "source": [
    "# c) GAN"
   ]
  },
  {
   "cell_type": "code",
   "execution_count": null,
   "metadata": {},
   "outputs": [],
   "source": [
    "# Ruta raíz\n",
    "PATH = '../data_augment/'\n",
    "\n",
    "quaturls = !ls -1 \"{PATH}\"\n",
    "\n",
    "\n",
    "\n",
    "quat_corr = []\n",
    "for filename in quaturls:\n",
    "    for activity in activities:\n",
    "        if(int(filename[-6:-4])==activity):\n",
    "            quat_corr.append(filename)\n",
    "\n",
    "quat_def = []\n",
    "\n",
    "i=0\n",
    "for filename in quat_corr:\n",
    "    for subject in subjects:\n",
    "        if(int(quat_corr[i][8:10])==subject):\n",
    "            quat_def.append(filename)\n",
    "    i+=1\n",
    "\n",
    "quaturls = quat_def\n",
    "\n",
    "del quat_corr, quat_def\n",
    "\n",
    "n = len(quaturls)\n",
    "\n",
    "tr_urls = quaturls\n",
    "\n",
    "print('Total files: ' + str(len(quaturls)))\n",
    "print('Train files: ' + str(len(tr_urls)))\n",
    "\n",
    "tr_fullpath = [os.path.join(PATH,s) for s in tr_urls]\n",
    "print('TRAINING: ')\n",
    "print(str(tr_fullpath[:10]) + ' ...')"
   ]
  },
  {
   "cell_type": "code",
   "execution_count": null,
   "metadata": {},
   "outputs": [],
   "source": [
    "n_time_steps = 128\n",
    "dataset = False # Set to True if you want a dataset or to False if you want np.arrays\n",
    "batch_size = 128 # REAL batch_size\n",
    "n_channels = 1 # It can be 1,4 or 9\n",
    "\n",
    "if(dataset):\n",
    "    train_dataset, tr_seg, tr_lab = get_dataset(tr_fullpath, batch_size, n_time_steps, True, False, dataset, n_channels)\n",
    "    \n",
    "    print('Train dataset: ')\n",
    "    print(train_dataset)\n",
    "else:\n",
    "    tr_seg, _ = get_dataset(tr_fullpath, ind, batch_size, n_time_steps, True, False, dataset, n_channels)\n",
    "    print('Train dataset: ')\n",
    "    print(tr_seg.shape)"
   ]
  },
  {
   "cell_type": "code",
   "execution_count": null,
   "metadata": {},
   "outputs": [],
   "source": [
    "def load_data():\n",
    "    \n",
    "    return tr_seg"
   ]
  },
  {
   "cell_type": "code",
   "execution_count": null,
   "metadata": {},
   "outputs": [],
   "source": [
    "def adam_optimizer():\n",
    "    return keras.optimizers.Adam(lr=0.0002, beta_1=0.3)"
   ]
  },
  {
   "cell_type": "code",
   "execution_count": null,
   "metadata": {},
   "outputs": [],
   "source": [
    "from tensorflow.keras.layers import *\n",
    "from tensorflow.keras.models import *\n",
    "from tensorflow.keras.models import load_model\n",
    "\n",
    "def create_generator():\n",
    "    generator = load_model('./00_13_models/decoder.h5')\n",
    "    generator.compile(loss='binary_crossentropy', optimizer=adam_optimizer())\n",
    "    return generator\n",
    "g=create_generator()\n",
    "g.summary()"
   ]
  },
  {
   "cell_type": "code",
   "execution_count": null,
   "metadata": {},
   "outputs": [],
   "source": [
    "def create_discriminator():\n",
    "    discriminator = load_model('./00_13_models/pre_discriminator.h5')\n",
    "    discriminator.compile(loss='binary_crossentropy', optimizer=keras.optimizers.Adam(lr=0.00001, beta_1=0.3, clipnorm=0.1))\n",
    "    return discriminator\n",
    "d =create_discriminator()\n",
    "d.summary()"
   ]
  },
  {
   "cell_type": "code",
   "execution_count": null,
   "metadata": {},
   "outputs": [],
   "source": [
    "def create_gan(discriminator, generator):\n",
    "    discriminator.trainable=False\n",
    "    gan_input = Input(shape=(100,))\n",
    "    x = generator(gan_input)\n",
    "    gan_output= discriminator(x)\n",
    "    gan= Model(inputs=gan_input, outputs=gan_output)\n",
    "    gan.compile(loss='binary_crossentropy', optimizer='adam')\n",
    "    return gan\n",
    "gan = create_gan(d,g)\n",
    "gan.summary()"
   ]
  },
  {
   "cell_type": "markdown",
   "metadata": {},
   "source": [
    "### Rutina de entrenamiento"
   ]
  },
  {
   "cell_type": "code",
   "execution_count": null,
   "metadata": {},
   "outputs": [],
   "source": [
    "from IPython.display import clear_output\n",
    "\n",
    "def training(epochs=1, batch_size=128):\n",
    "    \n",
    "    #Loading the data\n",
    "    tr_seg = load_data()\n",
    "    batch_count = tr_seg.shape[0] // batch_size\n",
    "    X_train = tr_seg\n",
    "    \n",
    "    # Creating GAN\n",
    "    generator= create_generator()\n",
    "    discriminator= create_discriminator()\n",
    "    gan = create_gan(discriminator, generator)\n",
    "    \n",
    "    d_real_hist = []\n",
    "    d_fake_hist = []\n",
    "    a_hist = []\n",
    "\n",
    "    for e in range(1,epochs+1 ):\n",
    "        print(\"\\n Epoch %d\" %e)\n",
    "        for i in range (batch_count):\n",
    "        #generate  random noise as an input  to  initialize the  generator\n",
    "            noise= np.random.normal(0,1, [batch_size, 100])\n",
    "            \n",
    "            #Pre train discriminator on  fake and real data  before starting the gan. \n",
    "            discriminator.trainable=True\n",
    "            \n",
    "            # Get a random set of  real images\n",
    "            image_batch =X_train[np.random.randint(low=0,high=X_train.shape[0],size=batch_size)]\n",
    "            y_dis=np.ones(batch_size)\n",
    "            \n",
    "            d_loss_real=discriminator.train_on_batch(image_batch, y_dis)\n",
    "            \n",
    "            # Generate fake MNIST images from noised input\n",
    "            generated_images = generator.predict(noise)\n",
    "            y_dis=np.zeros(batch_size)\n",
    "            \n",
    "            d_loss_fake=discriminator.train_on_batch(generated_images, y_dis)\n",
    "            \n",
    "            #Tricking the noised input of the Generator as real data\n",
    "            noise= np.random.normal(0,1, [batch_size, 100])\n",
    "            y_gen = np.ones(batch_size)\n",
    "            \n",
    "            # During the training of gan, \n",
    "            # the weights of discriminator should be fixed. \n",
    "            #We can enforce that by setting the trainable flag\n",
    "            discriminator.trainable=False\n",
    "            \n",
    "            #training  the GAN by alternating the training of the Discriminator \n",
    "            #and training the chained GAN model with Discriminator’s weights freezed.\n",
    "            # keras.utils.to_categorical(y_gen, 2)\n",
    "            a_loss=gan.train_on_batch(noise,  y_gen)\n",
    "            \n",
    "            d_real_hist.append(d_loss_real)\n",
    "            d_fake_hist.append(d_loss_fake)\n",
    "            a_hist.append(a_loss)\n",
    "            \n",
    "            log_mesg = \"%d: [D loss REAL : %f]\" % (i+1, d_loss_real)\n",
    "            log_mesg = \"%s  [D loss FAKE: %f]\" % (log_mesg, d_loss_fake)\n",
    "            log_mesg = \"%s  [A loss: %f]\" % (log_mesg, a_loss)\n",
    "            print(log_mesg, end='\\r')\n",
    "            \n",
    "        if e == 1 or e % 100 == 0:\n",
    "            name = \"./00_13_models/generated_00_13_%s.csv\"%(e)\n",
    "            write(name, generated_images)\n",
    "        \n",
    "        clear_output(wait=True)\n",
    "        \n",
    "    return generator, discriminator, gan, d_real_hist, d_fake_hist, a_hist\n",
    "\n",
    "epochs = 600 # 600\n",
    "batch_size = 128 # 128\n",
    "generator, discriminator, gan, d_real_hist, d_fake_hist, a_hist = training(epochs,batch_size)"
   ]
  },
  {
   "cell_type": "code",
   "execution_count": null,
   "metadata": {},
   "outputs": [],
   "source": [
    "# Save model\n",
    "generator.save('./00_13_models/generator.h5')\n",
    "print('Generator saved.')\n",
    "discriminator.save('./00_13_models/discriminator.h5')\n",
    "print('Discriminator saved.')\n",
    "gan.save('./00_13_models/GAN.h5')\n",
    "print('GAN saved.')"
   ]
  },
  {
   "cell_type": "code",
   "execution_count": null,
   "metadata": {},
   "outputs": [],
   "source": [
    "fo = open(\"./00_13_models/12.txt\", \"w\")\n",
    "fo.write(\"Op. terminada\")\n",
    "fo.close()"
   ]
  },
  {
   "cell_type": "code",
   "execution_count": null,
   "metadata": {},
   "outputs": [],
   "source": [
    "batch_count = tr_seg.shape[0] // batch_size\n",
    "\n",
    "x_ticks = np.linspace(1,epochs,num=len(d_real_hist))\n",
    "\n",
    "plt.figure(figsize=(30,10))\n",
    "plt.plot(x_ticks,d_real_hist, label='Disc. loss REAL')\n",
    "plt.plot(x_ticks,d_fake_hist, label='Disc. loss FAKE')\n",
    "plt.plot(x_ticks,a_hist, label='Adv. loss')\n",
    "plt.xlabel('Epochs', fontsize=20)\n",
    "plt.ylabel('Losses', fontsize=20)\n",
    "plt.legend(loc=1, prop={'size': 20})\n",
    "plt.tick_params(labelsize=20);\n",
    "plt.title('GAN Training', fontsize=20)\n",
    "\n",
    "plt.draw()\n",
    "plt.savefig('./00_13_models/training.tiff', bbox_inches='tight',format='tiff')\n",
    "plt.draw()\n",
    "plt.savefig('./00_13_models/training.pdf', bbox_inches='tight',format='pdf')"
   ]
  },
  {
   "cell_type": "code",
   "execution_count": null,
   "metadata": {},
   "outputs": [],
   "source": [
    "plt.figure(figsize=(30,10))\n",
    "plt.plot(x_ticks,d_real_hist, label='Disc. loss REAL')\n",
    "plt.plot(x_ticks,d_fake_hist, label='Disc. loss FAKE')\n",
    "plt.xlabel('Epochs', fontsize=20)\n",
    "plt.ylabel('Losses', fontsize=20)\n",
    "plt.legend(loc=1, prop={'size': 20})\n",
    "plt.tick_params(labelsize=20);\n",
    "plt.title('GAN Training', fontsize=20)\n",
    "\n",
    "plt.draw()\n",
    "plt.savefig('./00_13_models/training_noAdv.tiff', bbox_inches='tight',format='tiff')\n",
    "plt.draw()\n",
    "plt.savefig('./00_13_models/training_noAdv.pdf', bbox_inches='tight',format='pdf')"
   ]
  },
  {
   "cell_type": "code",
   "execution_count": null,
   "metadata": {},
   "outputs": [],
   "source": [
    "d_hist = np.asarray(d_real_hist)+np.asarray(d_fake_hist)"
   ]
  },
  {
   "cell_type": "code",
   "execution_count": null,
   "metadata": {},
   "outputs": [],
   "source": [
    "plt.figure(figsize=(30,10))\n",
    "plt.plot(x_ticks,d_hist, label='Disc. loss')\n",
    "plt.plot(x_ticks,a_hist, label='Adv. loss')\n",
    "plt.xlabel('Epochs', fontsize=20)\n",
    "plt.ylabel('Losses', fontsize=20)\n",
    "plt.legend(loc=1, prop={'size': 20})\n",
    "plt.tick_params(labelsize=20)\n",
    "plt.title('GAN Training', fontsize=20)\n",
    "\n",
    "plt.draw()\n",
    "plt.savefig('./00_13_models/training2.tiff', bbox_inches='tight',format='tiff')\n",
    "plt.draw()\n",
    "plt.savefig('./00_13_models/training2.pdf', bbox_inches='tight',format='pdf')"
   ]
  },
  {
   "cell_type": "code",
   "execution_count": null,
   "metadata": {},
   "outputs": [],
   "source": [
    "plt.figure(figsize=(30,10))\n",
    "plt.plot(x_ticks,d_hist, label='Disc. loss')\n",
    "plt.xlabel('Epochs', fontsize=20)\n",
    "plt.ylabel('Losses', fontsize=20)\n",
    "plt.legend(loc=1, prop={'size': 20})\n",
    "plt.tick_params(labelsize=20)\n",
    "plt.title('GAN Training', fontsize=20)\n",
    "\n",
    "plt.draw()\n",
    "plt.savefig('./00_13_models/training2_noAdv.tiff', bbox_inches='tight',format='tiff')\n",
    "plt.draw()\n",
    "plt.savefig('./00_13_models/training2_noAdv.pdf', bbox_inches='tight',format='pdf')"
   ]
  },
  {
   "cell_type": "code",
   "execution_count": null,
   "metadata": {},
   "outputs": [],
   "source": [
    "print(d_hist[-1])"
   ]
  },
  {
   "cell_type": "code",
   "execution_count": null,
   "metadata": {},
   "outputs": [],
   "source": [
    "print(d_real_hist[-1])\n",
    "print(d_fake_hist[-1])"
   ]
  }
 ],
 "metadata": {
  "kernelspec": {
   "display_name": "Python 3",
   "language": "python",
   "name": "python3"
  },
  "language_info": {
   "codemirror_mode": {
    "name": "ipython",
    "version": 3
   },
   "file_extension": ".py",
   "mimetype": "text/x-python",
   "name": "python",
   "nbconvert_exporter": "python",
   "pygments_lexer": "ipython3",
   "version": "3.6.8"
  }
 },
 "nbformat": 4,
 "nbformat_minor": 4
}
