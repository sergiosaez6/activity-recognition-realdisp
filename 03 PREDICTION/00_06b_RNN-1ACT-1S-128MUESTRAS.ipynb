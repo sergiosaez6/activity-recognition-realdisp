{
 "cells": [
  {
   "cell_type": "markdown",
   "metadata": {},
   "source": [
    "# CNN para 33 actividades"
   ]
  },
  {
   "cell_type": "markdown",
   "metadata": {},
   "source": [
    "## Separación de sets\n",
    "Primero separamos los quaternions en sets de entrenamiento, validación y test:"
   ]
  },
  {
   "cell_type": "code",
   "execution_count": 1,
   "metadata": {},
   "outputs": [],
   "source": [
    "import os as os"
   ]
  },
  {
   "cell_type": "code",
   "execution_count": 2,
   "metadata": {},
   "outputs": [],
   "source": [
    "import tensorflow.keras as keras"
   ]
  },
  {
   "cell_type": "code",
   "execution_count": 3,
   "metadata": {},
   "outputs": [],
   "source": [
    "# Módulos necesarios. Asegurarse de poder importarlos.\n",
    "from __future__ import print_function\n",
    "import matplotlib.pyplot as plt\n",
    "import numpy as np\n",
    "import sys\n",
    "from six.moves import cPickle as pickle\n",
    "import tensorflow as tf\n",
    "from sklearn.model_selection import train_test_split\n",
    "import pandas as pd\n",
    "import csv\n",
    "from pylab import rcParams\n",
    "from scipy import stats\n",
    "from sklearn import metrics\n",
    "import seaborn as sns\n",
    "from sklearn import preprocessing\n",
    "from sklearn.preprocessing import MinMaxScaler\n",
    "from mpl_toolkits.axes_grid1 import host_subplot\n",
    "import mpl_toolkits.axisartist as AA\n",
    "\n",
    "# Config the matplotlib backend as plotting inline in IPython\n",
    "%matplotlib inline"
   ]
  },
  {
   "cell_type": "code",
   "execution_count": 4,
   "metadata": {},
   "outputs": [
    {
     "name": "stdout",
     "output_type": "stream",
     "text": [
      "/usr/bin/python\n",
      "3.6.8 (default, Aug 20 2019, 17:12:48) \n",
      "[GCC 8.3.0]\n",
      "sys.version_info(major=3, minor=6, micro=8, releaselevel='final', serial=0)\n"
     ]
    },
    {
     "data": {
      "text/plain": [
       "'1.14.0'"
      ]
     },
     "execution_count": 4,
     "metadata": {},
     "output_type": "execute_result"
    }
   ],
   "source": [
    "import sys\n",
    "print(sys.executable)\n",
    "print(sys.version)\n",
    "print(sys.version_info)\n",
    "tf.__version__"
   ]
  },
  {
   "cell_type": "code",
   "execution_count": 5,
   "metadata": {},
   "outputs": [
    {
     "data": {
      "text/plain": [
       "'2.2.4-tf'"
      ]
     },
     "execution_count": 5,
     "metadata": {},
     "output_type": "execute_result"
    }
   ],
   "source": [
    "keras.__version__"
   ]
  },
  {
   "cell_type": "markdown",
   "metadata": {},
   "source": [
    "# Generación del dataset"
   ]
  },
  {
   "cell_type": "markdown",
   "metadata": {},
   "source": [
    "Hacemos uso de los ficheros que contiene los cuaterniones separados por sujetos y actividad.\n",
    "\n",
    "Definimos una serie de funciones para la lectura de los datos y finalmente realizamos el dataset (así leemos los datos en el entrenamiento \"al vuelo\")."
   ]
  },
  {
   "cell_type": "code",
   "execution_count": 6,
   "metadata": {},
   "outputs": [],
   "source": [
    "# Ruta raíz\n",
    "PATH = '../data_reset_def'\n",
    "\n",
    "# Ruta de los ceckpoints\n",
    "CKPATH = PATH + '/checkpoints'\n",
    "\n",
    "quaturls = !ls -1 \"{PATH}\""
   ]
  },
  {
   "cell_type": "code",
   "execution_count": 7,
   "metadata": {},
   "outputs": [],
   "source": [
    "global activities\n",
    "activities =  [19]\n",
    "global subjects\n",
    "#subjects = [1,2,3,5,8,9,10,11,13,14,16,17]\n",
    "subjects = [1]"
   ]
  },
  {
   "cell_type": "code",
   "execution_count": 8,
   "metadata": {},
   "outputs": [],
   "source": [
    "quat_corr = []\n",
    "for filename in quaturls:\n",
    "    for activity in activities:\n",
    "        if(int(filename[-6:-4])==activity):\n",
    "            quat_corr.append(filename)"
   ]
  },
  {
   "cell_type": "code",
   "execution_count": 9,
   "metadata": {},
   "outputs": [],
   "source": [
    "quat_def = []\n",
    "\n",
    "i=0\n",
    "for filename in quat_corr:\n",
    "    for subject in subjects:\n",
    "        if(int(quat_corr[i][8:10])==subject):\n",
    "            quat_def.append(filename)\n",
    "    i+=1"
   ]
  },
  {
   "cell_type": "code",
   "execution_count": 10,
   "metadata": {},
   "outputs": [],
   "source": [
    "quaturls = quat_def\n",
    "\n",
    "del quat_corr, quat_def\n",
    "\n",
    "#print(quaturls)"
   ]
  },
  {
   "cell_type": "markdown",
   "metadata": {},
   "source": [
    "### Separación por sujetos"
   ]
  },
  {
   "cell_type": "code",
   "execution_count": 11,
   "metadata": {},
   "outputs": [
    {
     "name": "stdout",
     "output_type": "stream",
     "text": [
      "Total files: 1\n",
      "Train files: 1\n"
     ]
    }
   ],
   "source": [
    "# Shuffle de los datos\n",
    "n = len(quaturls)\n",
    "\n",
    "tr_urls = []\n",
    "va_urls = []\n",
    "ts_urls = []\n",
    "\n",
    "i=0\n",
    "for filename in quaturls:\n",
    "    if(int(quaturls[i][8:10])==2 or int(quaturls[i][8:10])==10):\n",
    "        va_urls.append(filename)\n",
    "    elif(int(quaturls[i][8:10])==16):\n",
    "        ts_urls.append(filename)\n",
    "    else:\n",
    "        tr_urls.append(filename)\n",
    "    i+=1\n",
    "\n",
    "print('Total files: ' + str(len(quaturls)))\n",
    "print('Train files: ' + str(len(tr_urls)))\n",
    "#print('Validation files: ' + str(len(va_urls)))\n",
    "#print('Test files: ' + str(len(ts_urls)))"
   ]
  },
  {
   "cell_type": "code",
   "execution_count": 12,
   "metadata": {},
   "outputs": [
    {
     "name": "stdout",
     "output_type": "stream",
     "text": [
      "TRAINING: \n",
      "['../data_reset_def/subject_01_RESET_act_19.csv']\n"
     ]
    },
    {
     "data": {
      "text/plain": [
       "\"\\nva_fullpath = [os.path.join(PATH,s) for s in va_urls]\\nprint('VALIDATION: ')\\nprint(va_fullpath)\\nts_fullpath = [os.path.join(PATH,s) for s in ts_urls]\\nprint('TEST: ')\\nprint(ts_fullpath)\\n\""
      ]
     },
     "execution_count": 12,
     "metadata": {},
     "output_type": "execute_result"
    }
   ],
   "source": [
    "tr_fullpath = [os.path.join(PATH,s) for s in tr_urls]\n",
    "print('TRAINING: ')\n",
    "print(tr_fullpath)\n",
    "'''\n",
    "va_fullpath = [os.path.join(PATH,s) for s in va_urls]\n",
    "print('VALIDATION: ')\n",
    "print(va_fullpath)\n",
    "ts_fullpath = [os.path.join(PATH,s) for s in ts_urls]\n",
    "print('TEST: ')\n",
    "print(ts_fullpath)\n",
    "'''"
   ]
  },
  {
   "cell_type": "markdown",
   "metadata": {},
   "source": [
    "### Con listas y numpy (la más pesada de todas, pero seguros en que mantiene la estructura de los datos)"
   ]
  },
  {
   "cell_type": "code",
   "execution_count": 13,
   "metadata": {},
   "outputs": [],
   "source": [
    "def sliding_window(df, n_time_steps, step, segments, labels, label, dim, train, n_channels):\n",
    "    quat0 = df.iloc[:, 1:5][df['QUAT']=='quat0'].reset_index() # si no incluimos el reset_index(), al concatenarlos después\n",
    "    quat1 = df.iloc[:, 1:5][df['QUAT']=='quat1'].reset_index() # aparecerá un dataframe de igual nº de filas que df, pero con\n",
    "    quat2 = df.iloc[:, 1:5][df['QUAT']=='quat2'].reset_index() # NaN en las posiciones que no tienen número de cada dataframe quat,\n",
    "    quat3 = df.iloc[:, 1:5][df['QUAT']=='quat3'].reset_index() # es decir, mantiene los índices de df.\n",
    "    quat4 = df.iloc[:, 1:5][df['QUAT']=='quat4'].reset_index()\n",
    "    #quat5 = df.iloc[:, 1:5][df['QUAT']=='quat5'].reset_index()\n",
    "    #quat6 = df.iloc[:, 1:5][df['QUAT']=='quat6'].reset_index()\n",
    "    #quat7 = df.iloc[:, 1:5][df['QUAT']=='quat7'].reset_index()\n",
    "    #quat8 = df.iloc[:, 1:5][df['QUAT']=='quat8'].reset_index()\n",
    "    \n",
    "    quat = pd.concat([quat0.iloc[:, 1], quat0.iloc[:, 2], quat0.iloc[:, 3], quat0.iloc[:, 4],\n",
    "                      quat1.iloc[:, 1], quat1.iloc[:, 2], quat1.iloc[:, 3], quat1.iloc[:, 4],\n",
    "                      quat2.iloc[:, 1], quat2.iloc[:, 2], quat2.iloc[:, 3], quat2.iloc[:, 4],\n",
    "                      quat3.iloc[:, 1], quat3.iloc[:, 2], quat3.iloc[:, 3], quat3.iloc[:, 4],\n",
    "                      quat4.iloc[:, 1], quat4.iloc[:, 2], quat4.iloc[:, 3], quat4.iloc[:, 4]],\n",
    "                      #quat5.iloc[:, 1], quat5.iloc[:, 2], quat5.iloc[:, 3], quat5.iloc[:, 4],\n",
    "                      #quat6.iloc[:, 1], quat6.iloc[:, 2], quat6.iloc[:, 3], quat6.iloc[:, 4],\n",
    "                      #quat7.iloc[:, 1], quat7.iloc[:, 2], quat7.iloc[:, 3], quat7.iloc[:, 4],\n",
    "                      #quat8.iloc[:, 1], quat8.iloc[:, 2], quat8.iloc[:, 3], quat8.iloc[:, 4]],\n",
    "                      axis = 1, keys = ['w0', 'x0', 'y0', 'z0', 'w1', 'x1', 'y1', 'z1', 'w2', 'x2', 'y2', 'z2', \n",
    "                                        'w3', 'x3', 'y3', 'z3', 'w4', 'x4', 'y4', 'z4']) #'w5', 'x5', 'y5', 'z5',\n",
    "                                        #'w6', 'x6', 'y6', 'z6', 'w7', 'x7', 'y7', 'z7', 'w8', 'x8', 'y8', 'z8'])\n",
    "    del quat0, quat1, quat2, quat3, quat4 #quat5, quat6, quat7, quat8\n",
    "    \n",
    "    if(train==False):\n",
    "        step = n_time_steps\n",
    "    \n",
    "    if(n_channels == 1):\n",
    "        for i in range(0, quat.shape[0] - n_time_steps, step): # Overlap\n",
    "            # Con listas y numpy\n",
    "            segments.append([])\n",
    "            segments[dim].append(quat.iloc[i: i + n_time_steps, :].values) # Si distinguimos entre sensores\n",
    "            labels.append(label-1)\n",
    "            dim+=1\n",
    "    else:\n",
    "        n_columns = int(36/n_channels)\n",
    "        for i in range(0, quat.shape[0] - n_time_steps, step):\n",
    "            segments.append([])\n",
    "            col = 0\n",
    "            for j in range(n_channels):\n",
    "                segments[dim].append([])\n",
    "                segments[dim][j].append(quat.iloc[i:i+n_time_steps,col:col+n_columns].values)\n",
    "                col+=n_columns\n",
    "            labels.append(label-1)\n",
    "            dim+=1\n",
    "    \n",
    "        \n",
    "    del quat\n",
    "    \n",
    "    return segments, labels, dim"
   ]
  },
  {
   "cell_type": "code",
   "execution_count": 14,
   "metadata": {},
   "outputs": [],
   "source": [
    "def load_quat(path, train, n_channels):\n",
    "\n",
    "    n_time_steps, step = 1, 1  # n_time_steps/50 segundos de actividad y pasos de step/50 segundos (de overlap)\n",
    "    \n",
    "    # Con listas\n",
    "    segments = []\n",
    "    labels = []\n",
    "    \n",
    "    i=1\n",
    "    dim = 0\n",
    "    for filename in path:\n",
    "        print(\"Reading %s (%d/%d)                                                   \"%(filename, i, len(path)), end='\\r')\n",
    "        df = pd.read_csv(filename,sep=',')\n",
    "        label = int(filename[-6:-4])\n",
    "        for i in range(len(activities)):\n",
    "            if(label==activities[i]):\n",
    "                label=i+1\n",
    "        \n",
    "        segments, labels, dim = sliding_window(df, n_time_steps, step, segments, labels, label, dim, train, n_channels)\n",
    "        \n",
    "        i+=1\n",
    "    \n",
    "    del df\n",
    "    \n",
    "    return segments, labels\n",
    "\n",
    "\n",
    "def load_train_quat(filename, n_channels):\n",
    "    return load_quat(filename, True, n_channels)\n",
    "\n",
    "def load_test_quat(filename, n_channels):\n",
    "    return load_quat(filename, False, n_channels)\n"
   ]
  },
  {
   "cell_type": "code",
   "execution_count": 15,
   "metadata": {},
   "outputs": [],
   "source": [
    "def get_dataset(data_path, batch_size, n_time_steps, train, valid, ds, n_channels):\n",
    "    if(train):\n",
    "        segments, labels = load_train_quat(data_path, n_channels)\n",
    "    else:\n",
    "        segments, labels = load_test_quat(data_path, n_channels)\n",
    "    \n",
    "    print('Generating the dataset                                                   ')                                              \n",
    "    \n",
    "    array = np.asarray(segments, dtype = 'float32')\n",
    "    segments = np.reshape(array, (array.shape[0], n_channels, n_time_steps, int(20/n_channels)))\n",
    "    array = np.asarray(labels, dtype = 'int8')\n",
    "    labels = np.reshape(array, (array.shape[0], 1))\n",
    "    \n",
    "    del array\n",
    "    \n",
    "    # Map coninous dataset to categorical (One-Hot)\n",
    "    labels = keras.utils.to_categorical(labels, 17)\n",
    "    \n",
    "    if(train):\n",
    "        print('-'*20 + 'TRAIN' + '-'*20)\n",
    "    elif(valid):\n",
    "        print('-'*18 + 'VALIDATION' + '-'*12)\n",
    "    else:\n",
    "        print('-'*20 + 'TEST' + '-'*21)\n",
    "    \n",
    "    if(ds):\n",
    "        dataset = tf.data.Dataset.from_tensor_slices((segments, labels))\n",
    "    \n",
    "        # It's necessary to repeat our data for all epochs\n",
    "        dataset = dataset.batch(batch_size)\n",
    "        \n",
    "        dataset = dataset.shuffle(segments.shape[0])\n",
    "        \n",
    "        print('Dataset generated                                                        ')\n",
    "        \n",
    "        return dataset, segments, labels\n",
    "    else:\n",
    "        # Shuffle in the first dimension\n",
    "        #permutation = np.arange(0,segments.shape[0]-1)\n",
    "        #np.random.shuffle(permutation)\n",
    "        #segments = segments[permutation]\n",
    "        #labels = labels[permutation]\n",
    "        print('Dataset generated                                                        ')\n",
    "        \n",
    "        return segments, labels"
   ]
  },
  {
   "cell_type": "code",
   "execution_count": 28,
   "metadata": {},
   "outputs": [
    {
     "name": "stdout",
     "output_type": "stream",
     "text": [
      "Generating the dataset                                                                                        \n",
      "--------------------TRAIN--------------------\n",
      "Dataset generated                                                        \n",
      "Train dataset: \n",
      "(1231, 1, 1, 20)\n"
     ]
    }
   ],
   "source": [
    "n_time_steps = 1\n",
    "dataset = False # Set to True if you want a dataset or to False if you want np.arrays\n",
    "batch_size = 1 # REAL batch_size\n",
    "n_channels = 1 # It can be 1,4 or 9\n",
    "\n",
    "if(dataset):\n",
    "    train_dataset, tr_seg, tr_lab = get_dataset(tr_fullpath, ind, batch_size, n_time_steps, True, False, dataset, n_channels)\n",
    "    valid_dataset, va_seg, va_lab = get_dataset(va_fullpath, ind, batch_size, n_time_steps, False, True, dataset, n_channels)\n",
    "    test_dataset, ts_seg, ts_lab = get_dataset(ts_fullpath, ind, batch_size, n_time_steps, False, False, dataset, n_channels)\n",
    "    \n",
    "    print('Train dataset: ')\n",
    "    print(train_dataset)\n",
    "    print('Validation dataset: ')\n",
    "    print(valid_dataset)\n",
    "    print('Test dataset: ')\n",
    "    print(test_dataset)\n",
    "else:\n",
    "    tr_seg, _ = get_dataset(tr_fullpath, batch_size, n_time_steps, True, False, dataset, n_channels)\n",
    "    #va_seg, _ = get_dataset(va_fullpath, batch_size, n_time_steps, False, True, dataset, n_channels)\n",
    "    #ts_seg, _ = get_dataset(ts_fullpath, batch_size, n_time_steps, False, False, dataset, n_channels)\n",
    "    print('Train dataset: ')\n",
    "    print(tr_seg.shape)\n",
    "    '''\n",
    "    print('Validation dataset: ')\n",
    "    print(va_seg.shape)\n",
    "    print('Test dataset: ')\n",
    "    print(ts_seg.shape)\n",
    "    '''"
   ]
  },
  {
   "cell_type": "code",
   "execution_count": 29,
   "metadata": {},
   "outputs": [
    {
     "data": {
      "text/plain": [
       "'\\nva_seg = np.reshape(va_seg,(va_seg.shape[0],va_seg.shape[2],va_seg.shape[3]))\\nts_seg = np.reshape(ts_seg,(ts_seg.shape[0],ts_seg.shape[2],ts_seg.shape[3]))\\n'"
      ]
     },
     "execution_count": 29,
     "metadata": {},
     "output_type": "execute_result"
    }
   ],
   "source": [
    "tr_seg = np.reshape(tr_seg,(tr_seg.shape[0],tr_seg.shape[2],tr_seg.shape[3]))\n",
    "'''\n",
    "va_seg = np.reshape(va_seg,(va_seg.shape[0],va_seg.shape[2],va_seg.shape[3]))\n",
    "ts_seg = np.reshape(ts_seg,(ts_seg.shape[0],ts_seg.shape[2],ts_seg.shape[3]))\n",
    "'''"
   ]
  },
  {
   "cell_type": "code",
   "execution_count": 30,
   "metadata": {},
   "outputs": [
    {
     "ename": "ValueError",
     "evalue": "Found array with dim 3. MinMaxScaler expected <= 2.",
     "output_type": "error",
     "traceback": [
      "\u001b[0;31m---------------------------------------------------------------------------\u001b[0m",
      "\u001b[0;31mValueError\u001b[0m                                Traceback (most recent call last)",
      "\u001b[0;32m<ipython-input-30-3a1209aa4422>\u001b[0m in \u001b[0;36m<module>\u001b[0;34m\u001b[0m\n\u001b[1;32m      1\u001b[0m \u001b[0mscaler\u001b[0m \u001b[0;34m=\u001b[0m \u001b[0mMinMaxScaler\u001b[0m\u001b[0;34m(\u001b[0m\u001b[0mfeature_range\u001b[0m\u001b[0;34m=\u001b[0m\u001b[0;34m(\u001b[0m\u001b[0;36m0\u001b[0m\u001b[0;34m,\u001b[0m \u001b[0;36m1\u001b[0m\u001b[0;34m)\u001b[0m\u001b[0;34m)\u001b[0m\u001b[0;34m\u001b[0m\u001b[0;34m\u001b[0m\u001b[0m\n\u001b[0;32m----> 2\u001b[0;31m \u001b[0mtr_seg\u001b[0m \u001b[0;34m=\u001b[0m \u001b[0mscaler\u001b[0m\u001b[0;34m.\u001b[0m\u001b[0mfit_transform\u001b[0m\u001b[0;34m(\u001b[0m\u001b[0mtr_seg\u001b[0m\u001b[0;34m)\u001b[0m\u001b[0;34m\u001b[0m\u001b[0;34m\u001b[0m\u001b[0m\n\u001b[0m\u001b[1;32m      3\u001b[0m '''\n\u001b[1;32m      4\u001b[0m \u001b[0mva_seg\u001b[0m \u001b[0;34m=\u001b[0m \u001b[0mscaler\u001b[0m\u001b[0;34m.\u001b[0m\u001b[0mfit_transform\u001b[0m\u001b[0;34m(\u001b[0m\u001b[0mva_seg\u001b[0m\u001b[0;34m)\u001b[0m\u001b[0;34m\u001b[0m\u001b[0;34m\u001b[0m\u001b[0m\n\u001b[1;32m      5\u001b[0m \u001b[0mts_seg\u001b[0m \u001b[0;34m=\u001b[0m \u001b[0mscaler\u001b[0m\u001b[0;34m.\u001b[0m\u001b[0mfit_transform\u001b[0m\u001b[0;34m(\u001b[0m\u001b[0mts_seg\u001b[0m\u001b[0;34m)\u001b[0m\u001b[0;34m\u001b[0m\u001b[0;34m\u001b[0m\u001b[0m\n",
      "\u001b[0;32m/usr/local/lib/python3.6/dist-packages/sklearn/base.py\u001b[0m in \u001b[0;36mfit_transform\u001b[0;34m(self, X, y, **fit_params)\u001b[0m\n\u001b[1;32m    551\u001b[0m         \u001b[0;32mif\u001b[0m \u001b[0my\u001b[0m \u001b[0;32mis\u001b[0m \u001b[0;32mNone\u001b[0m\u001b[0;34m:\u001b[0m\u001b[0;34m\u001b[0m\u001b[0;34m\u001b[0m\u001b[0m\n\u001b[1;32m    552\u001b[0m             \u001b[0;31m# fit method of arity 1 (unsupervised transformation)\u001b[0m\u001b[0;34m\u001b[0m\u001b[0;34m\u001b[0m\u001b[0;34m\u001b[0m\u001b[0m\n\u001b[0;32m--> 553\u001b[0;31m             \u001b[0;32mreturn\u001b[0m \u001b[0mself\u001b[0m\u001b[0;34m.\u001b[0m\u001b[0mfit\u001b[0m\u001b[0;34m(\u001b[0m\u001b[0mX\u001b[0m\u001b[0;34m,\u001b[0m \u001b[0;34m**\u001b[0m\u001b[0mfit_params\u001b[0m\u001b[0;34m)\u001b[0m\u001b[0;34m.\u001b[0m\u001b[0mtransform\u001b[0m\u001b[0;34m(\u001b[0m\u001b[0mX\u001b[0m\u001b[0;34m)\u001b[0m\u001b[0;34m\u001b[0m\u001b[0;34m\u001b[0m\u001b[0m\n\u001b[0m\u001b[1;32m    554\u001b[0m         \u001b[0;32melse\u001b[0m\u001b[0;34m:\u001b[0m\u001b[0;34m\u001b[0m\u001b[0;34m\u001b[0m\u001b[0m\n\u001b[1;32m    555\u001b[0m             \u001b[0;31m# fit method of arity 2 (supervised transformation)\u001b[0m\u001b[0;34m\u001b[0m\u001b[0;34m\u001b[0m\u001b[0;34m\u001b[0m\u001b[0m\n",
      "\u001b[0;32m/usr/local/lib/python3.6/dist-packages/sklearn/preprocessing/data.py\u001b[0m in \u001b[0;36mfit\u001b[0;34m(self, X, y)\u001b[0m\n\u001b[1;32m    323\u001b[0m         \u001b[0;31m# Reset internal state before fitting\u001b[0m\u001b[0;34m\u001b[0m\u001b[0;34m\u001b[0m\u001b[0;34m\u001b[0m\u001b[0m\n\u001b[1;32m    324\u001b[0m         \u001b[0mself\u001b[0m\u001b[0;34m.\u001b[0m\u001b[0m_reset\u001b[0m\u001b[0;34m(\u001b[0m\u001b[0;34m)\u001b[0m\u001b[0;34m\u001b[0m\u001b[0;34m\u001b[0m\u001b[0m\n\u001b[0;32m--> 325\u001b[0;31m         \u001b[0;32mreturn\u001b[0m \u001b[0mself\u001b[0m\u001b[0;34m.\u001b[0m\u001b[0mpartial_fit\u001b[0m\u001b[0;34m(\u001b[0m\u001b[0mX\u001b[0m\u001b[0;34m,\u001b[0m \u001b[0my\u001b[0m\u001b[0;34m)\u001b[0m\u001b[0;34m\u001b[0m\u001b[0;34m\u001b[0m\u001b[0m\n\u001b[0m\u001b[1;32m    326\u001b[0m \u001b[0;34m\u001b[0m\u001b[0m\n\u001b[1;32m    327\u001b[0m     \u001b[0;32mdef\u001b[0m \u001b[0mpartial_fit\u001b[0m\u001b[0;34m(\u001b[0m\u001b[0mself\u001b[0m\u001b[0;34m,\u001b[0m \u001b[0mX\u001b[0m\u001b[0;34m,\u001b[0m \u001b[0my\u001b[0m\u001b[0;34m=\u001b[0m\u001b[0;32mNone\u001b[0m\u001b[0;34m)\u001b[0m\u001b[0;34m:\u001b[0m\u001b[0;34m\u001b[0m\u001b[0;34m\u001b[0m\u001b[0m\n",
      "\u001b[0;32m/usr/local/lib/python3.6/dist-packages/sklearn/preprocessing/data.py\u001b[0m in \u001b[0;36mpartial_fit\u001b[0;34m(self, X, y)\u001b[0m\n\u001b[1;32m    351\u001b[0m         X = check_array(X, copy=self.copy,\n\u001b[1;32m    352\u001b[0m                         \u001b[0mestimator\u001b[0m\u001b[0;34m=\u001b[0m\u001b[0mself\u001b[0m\u001b[0;34m,\u001b[0m \u001b[0mdtype\u001b[0m\u001b[0;34m=\u001b[0m\u001b[0mFLOAT_DTYPES\u001b[0m\u001b[0;34m,\u001b[0m\u001b[0;34m\u001b[0m\u001b[0;34m\u001b[0m\u001b[0m\n\u001b[0;32m--> 353\u001b[0;31m                         force_all_finite=\"allow-nan\")\n\u001b[0m\u001b[1;32m    354\u001b[0m \u001b[0;34m\u001b[0m\u001b[0m\n\u001b[1;32m    355\u001b[0m         \u001b[0mdata_min\u001b[0m \u001b[0;34m=\u001b[0m \u001b[0mnp\u001b[0m\u001b[0;34m.\u001b[0m\u001b[0mnanmin\u001b[0m\u001b[0;34m(\u001b[0m\u001b[0mX\u001b[0m\u001b[0;34m,\u001b[0m \u001b[0maxis\u001b[0m\u001b[0;34m=\u001b[0m\u001b[0;36m0\u001b[0m\u001b[0;34m)\u001b[0m\u001b[0;34m\u001b[0m\u001b[0;34m\u001b[0m\u001b[0m\n",
      "\u001b[0;32m/usr/local/lib/python3.6/dist-packages/sklearn/utils/validation.py\u001b[0m in \u001b[0;36mcheck_array\u001b[0;34m(array, accept_sparse, accept_large_sparse, dtype, order, copy, force_all_finite, ensure_2d, allow_nd, ensure_min_samples, ensure_min_features, warn_on_dtype, estimator)\u001b[0m\n\u001b[1;32m    537\u001b[0m         \u001b[0;32mif\u001b[0m \u001b[0;32mnot\u001b[0m \u001b[0mallow_nd\u001b[0m \u001b[0;32mand\u001b[0m \u001b[0marray\u001b[0m\u001b[0;34m.\u001b[0m\u001b[0mndim\u001b[0m \u001b[0;34m>=\u001b[0m \u001b[0;36m3\u001b[0m\u001b[0;34m:\u001b[0m\u001b[0;34m\u001b[0m\u001b[0;34m\u001b[0m\u001b[0m\n\u001b[1;32m    538\u001b[0m             raise ValueError(\"Found array with dim %d. %s expected <= 2.\"\n\u001b[0;32m--> 539\u001b[0;31m                              % (array.ndim, estimator_name))\n\u001b[0m\u001b[1;32m    540\u001b[0m         \u001b[0;32mif\u001b[0m \u001b[0mforce_all_finite\u001b[0m\u001b[0;34m:\u001b[0m\u001b[0;34m\u001b[0m\u001b[0;34m\u001b[0m\u001b[0m\n\u001b[1;32m    541\u001b[0m             _assert_all_finite(array,\n",
      "\u001b[0;31mValueError\u001b[0m: Found array with dim 3. MinMaxScaler expected <= 2."
     ]
    }
   ],
   "source": [
    "scaler = MinMaxScaler(feature_range=(0, 1))\n",
    "tr_seg = scaler.fit_transform(tr_seg)\n",
    "'''\n",
    "va_seg = scaler.fit_transform(va_seg)\n",
    "ts_seg = scaler.fit_transform(ts_seg)\n",
    "'''"
   ]
  },
  {
   "cell_type": "code",
   "execution_count": 27,
   "metadata": {},
   "outputs": [
    {
     "name": "stdout",
     "output_type": "stream",
     "text": [
      "Train dataset: \n",
      "(552, 20)\n",
      "Test dataset: \n",
      "(272, 20)\n"
     ]
    },
    {
     "data": {
      "text/plain": [
       "\"\\nprint('Validation dataset: ')\\nprint(va_seg.shape)\\nprint('Test dataset: ')\\nprint(ts_seg.shape)\\n\""
      ]
     },
     "execution_count": 27,
     "metadata": {},
     "output_type": "execute_result"
    }
   ],
   "source": [
    "ts_seg = tr_seg[int(tr_seg.shape[0]*0.67):]\n",
    "tr_seg = tr_seg[:int(tr_seg.shape[0]*0.67)]\n",
    "print('Train dataset: ')\n",
    "print(tr_seg.shape)\n",
    "print('Test dataset: ')\n",
    "print(ts_seg.shape)\n",
    "'''\n",
    "print('Validation dataset: ')\n",
    "print(va_seg.shape)\n",
    "print('Test dataset: ')\n",
    "print(ts_seg.shape)\n",
    "'''"
   ]
  },
  {
   "cell_type": "code",
   "execution_count": 26,
   "metadata": {},
   "outputs": [
    {
     "data": {
      "text/plain": [
       "'\\nva_seg = np.reshape(va_seg,(va_seg.shape[0],va_seg.shape[2]))\\nts_seg = np.reshape(ts_seg,(ts_seg.shape[0],ts_seg.shape[2]))\\n'"
      ]
     },
     "execution_count": 26,
     "metadata": {},
     "output_type": "execute_result"
    }
   ],
   "source": [
    "tr_seg = np.reshape(tr_seg,(tr_seg.shape[0],tr_seg.shape[2]))\n",
    "'''\n",
    "va_seg = np.reshape(va_seg,(va_seg.shape[0],va_seg.shape[2]))\n",
    "ts_seg = np.reshape(ts_seg,(ts_seg.shape[0],ts_seg.shape[2]))\n",
    "'''"
   ]
  },
  {
   "cell_type": "code",
   "execution_count": 26,
   "metadata": {},
   "outputs": [
    {
     "data": {
      "text/plain": [
       "'\\nva_seg = np.reshape(va_seg,(va_seg.shape[0], 1, va_seg.shape[1]))\\nts_seg = np.reshape(ts_seg,(ts_seg.shape[0], 1, ts_seg.shape[1]))\\n'"
      ]
     },
     "execution_count": 26,
     "metadata": {},
     "output_type": "execute_result"
    }
   ],
   "source": [
    "tr_seg = np.reshape(tr_seg,(tr_seg.shape[0], 1, tr_seg.shape[1]))\n",
    "'''\n",
    "va_seg = np.reshape(va_seg,(va_seg.shape[0], 1, va_seg.shape[1]))\n",
    "ts_seg = np.reshape(ts_seg,(ts_seg.shape[0], 1, ts_seg.shape[1]))\n",
    "'''"
   ]
  },
  {
   "cell_type": "code",
   "execution_count": 28,
   "metadata": {},
   "outputs": [],
   "source": [
    "def create_y(seg):\n",
    "    Y = []\n",
    "    for i in range(1, seg.shape[0]):\n",
    "        Y.append(seg[i,0,:])\n",
    "    return np.array(Y)"
   ]
  },
  {
   "cell_type": "code",
   "execution_count": 30,
   "metadata": {},
   "outputs": [
    {
     "data": {
      "text/plain": [
       "'\\nvalidX = np.reshape(va_seg[:-1],(va_seg.shape[0]-1, va_seg.shape[1], va_seg.shape[2]))\\n#validY = np.reshape(va_seg[1:],(va_seg.shape[0]-1, va_seg.shape[1], va_seg.shape[2]))\\nvalidY = create_y(va_seg)\\n\\ntestX = np.reshape(ts_seg[:-1],(ts_seg.shape[0]-1, ts_seg.shape[1], ts_seg.shape[2]))\\n#testY = np.reshape(ts_seg[1:],(ts_seg.shape[0]-1, ts_seg.shape[1], ts_seg.shape[2]))\\ntestY = create_y(ts_seg)\\n'"
      ]
     },
     "execution_count": 30,
     "metadata": {},
     "output_type": "execute_result"
    }
   ],
   "source": [
    "trainX = np.reshape(tr_seg[:-1],(tr_seg.shape[0]-1, tr_seg.shape[1], tr_seg.shape[2]))\n",
    "#trainY = np.reshape(tr_seg[1:],(tr_seg.shape[0]-1, tr_seg.shape[1], tr_seg.shape[2]))\n",
    "trainY = create_y(tr_seg)\n",
    "'''\n",
    "validX = np.reshape(va_seg[:-1],(va_seg.shape[0]-1, va_seg.shape[1], va_seg.shape[2]))\n",
    "#validY = np.reshape(va_seg[1:],(va_seg.shape[0]-1, va_seg.shape[1], va_seg.shape[2]))\n",
    "validY = create_y(va_seg)\n",
    "\n",
    "testX = np.reshape(ts_seg[:-1],(ts_seg.shape[0]-1, ts_seg.shape[1], ts_seg.shape[2]))\n",
    "#testY = np.reshape(ts_seg[1:],(ts_seg.shape[0]-1, ts_seg.shape[1], ts_seg.shape[2]))\n",
    "testY = create_y(ts_seg)\n",
    "'''"
   ]
  },
  {
   "cell_type": "code",
   "execution_count": 31,
   "metadata": {},
   "outputs": [
    {
     "name": "stdout",
     "output_type": "stream",
     "text": [
      "(1103, 1, 20) (1103, 20)\n"
     ]
    },
    {
     "data": {
      "text/plain": [
       "'\\nprint(validX.shape, validY.shape)\\nprint(testX.shape, testY.shape)\\n'"
      ]
     },
     "execution_count": 31,
     "metadata": {},
     "output_type": "execute_result"
    }
   ],
   "source": [
    "print(trainX.shape, trainY.shape)\n",
    "'''\n",
    "print(validX.shape, validY.shape)\n",
    "print(testX.shape, testY.shape)\n",
    "'''"
   ]
  },
  {
   "cell_type": "code",
   "execution_count": 36,
   "metadata": {},
   "outputs": [
    {
     "name": "stdout",
     "output_type": "stream",
     "text": [
      "[[0.4357562  0.57302177 0.49610472 0.45991588 0.5193336  0.8978774\n",
      "  0.6245612  0.13116932 0.47364688 0.8308481  0.66223705 0.05037677\n",
      "  0.5109245  0.18340534 0.57968324 0.92990434 0.5778404  0.34200484\n",
      "  0.4863946  0.08713397]]\n",
      "[0.4357562  0.57302177 0.49610472 0.45991588 0.5193336  0.8978774\n",
      " 0.6245612  0.13116932 0.47364688 0.8308481  0.66223705 0.05037677\n",
      " 0.5109245  0.18340534 0.57968324 0.92990434 0.5778404  0.34200484\n",
      " 0.4863946  0.08713397]\n"
     ]
    }
   ],
   "source": [
    "print(trainX[1])\n",
    "print(trainY[0])"
   ]
  },
  {
   "cell_type": "markdown",
   "metadata": {},
   "source": [
    "## Red"
   ]
  },
  {
   "cell_type": "markdown",
   "metadata": {},
   "source": [
    "### Hiper parámetros"
   ]
  },
  {
   "cell_type": "markdown",
   "metadata": {},
   "source": [
    "Definimos una serie de hiper parámetros aquí para tenerlos en una misma celda:"
   ]
  },
  {
   "cell_type": "code",
   "execution_count": 37,
   "metadata": {},
   "outputs": [],
   "source": [
    "# Ajustado a los datos\n",
    "n_time_steps = n_time_steps\n",
    "n_channels = n_channels # Nº de canales\n",
    "n_columns = int(20/n_channels)\n",
    "\n",
    "# Podríamos variarlo\n",
    "batch_size =1# Tamaño del batch\n",
    "learning_rate = 1e-4 # Learning rate (por defecto es 0.001)\n",
    "epochs = 500 # Épocas"
   ]
  },
  {
   "cell_type": "markdown",
   "metadata": {},
   "source": [
    "### Modelo"
   ]
  },
  {
   "cell_type": "code",
   "execution_count": 38,
   "metadata": {},
   "outputs": [
    {
     "name": "stdout",
     "output_type": "stream",
     "text": [
      "WARNING:tensorflow:From /usr/local/lib/python3.6/dist-packages/tensorflow/python/keras/initializers.py:143: calling RandomNormal.__init__ (from tensorflow.python.ops.init_ops) with dtype is deprecated and will be removed in a future version.\n",
      "Instructions for updating:\n",
      "Call initializer instance with the dtype argument instead of passing it to the constructor\n",
      "WARNING:tensorflow:From /usr/local/lib/python3.6/dist-packages/tensorflow/python/ops/init_ops.py:1251: calling VarianceScaling.__init__ (from tensorflow.python.ops.init_ops) with dtype is deprecated and will be removed in a future version.\n",
      "Instructions for updating:\n",
      "Call initializer instance with the dtype argument instead of passing it to the constructor\n"
     ]
    }
   ],
   "source": [
    "from tensorflow.keras.initializers import RandomNormal\n",
    "\n",
    "quat_input = keras.Input(shape=(n_time_steps, n_columns), name='input_layer')\n",
    "\n",
    "units_1 = 80\n",
    "units_2 = 10*128\n",
    "\n",
    "gru_1 = keras.layers.GRU(units_1, activation='tanh', dropout=0.0, recurrent_dropout=0.0, kernel_initializer=RandomNormal(mean=0.0, stddev=0.02),\n",
    "                         recurrent_activation='tanh', return_sequences=False, reset_after=True)(quat_input)\n",
    "'''\n",
    "gru_2 = keras.layers.GRU(units_2, activation='sigmoid', dropout=0.0, recurrent_dropout=0.0, kernel_initializer=RandomNormal(mean=0.0, stddev=0.02),\n",
    "                         recurrent_activation='sigmoid', return_sequences=False, reset_after=True)(gru_1)\n",
    "\n",
    "gru_3 = keras.layers.GRU(units, activation='sigmoid', dropout=0.0, recurrent_dropout=0.0, \n",
    "                         recurrent_activation='sigmoid', reset_after=True)(gru_2)\n",
    "'''\n",
    "# Output layers: separate outputs for the weather and the ground labels\n",
    "multiclass_output = keras.layers.Dense(n_columns,name='predicted_data')(gru_1)"
   ]
  },
  {
   "cell_type": "code",
   "execution_count": 39,
   "metadata": {},
   "outputs": [],
   "source": [
    "# Creamos la estrcutura que contendrá a nuestro modelo\n",
    "model = keras.Model(inputs=quat_input, outputs=[multiclass_output], name='predictor')\n",
    "\n",
    "# Compilamos el modelo\n",
    "#model.compile(optimizer=keras.optimizers.Adam(lr=learning_rate, clipnorm=0.1, beta_1=0.9, beta_2=0.999), loss='mean_squared_error', metrics=['accuracy'])\n",
    "model.compile(optimizer=keras.optimizers.RMSprop(lr=learning_rate), loss='mean_squared_error', metrics=['accuracy'])"
   ]
  },
  {
   "cell_type": "code",
   "execution_count": 40,
   "metadata": {},
   "outputs": [
    {
     "name": "stdout",
     "output_type": "stream",
     "text": [
      "Model: \"predictor\"\n",
      "_________________________________________________________________\n",
      "Layer (type)                 Output Shape              Param #   \n",
      "=================================================================\n",
      "input_layer (InputLayer)     [(None, 1, 20)]           0         \n",
      "_________________________________________________________________\n",
      "gru (GRU)                    (None, 80)                24480     \n",
      "_________________________________________________________________\n",
      "predicted_data (Dense)       (None, 20)                1620      \n",
      "=================================================================\n",
      "Total params: 26,100\n",
      "Trainable params: 26,100\n",
      "Non-trainable params: 0\n",
      "_________________________________________________________________\n",
      "None\n"
     ]
    }
   ],
   "source": [
    "print(model.summary())"
   ]
  },
  {
   "cell_type": "markdown",
   "metadata": {},
   "source": [
    "### Callbacks"
   ]
  },
  {
   "cell_type": "code",
   "execution_count": 41,
   "metadata": {},
   "outputs": [],
   "source": [
    "from time import time\n",
    "\n",
    "reduce_lr = keras.callbacks.ReduceLROnPlateau(monitor='val_loss', factor=0.4, patience=2, min_lr=1e-9, verbose=1, mode='min')\n",
    "#reduce_lr = keras.callbacks.LearningRateScheduler(schedule)\n",
    "early_stopping = keras.callbacks.EarlyStopping(monitor='val_loss', patience=10, verbose=1)"
   ]
  },
  {
   "cell_type": "code",
   "execution_count": 42,
   "metadata": {},
   "outputs": [],
   "source": [
    "callbacks_list = [reduce_lr, early_stopping] #[checkpoint, tensorboard, csv_logger, reduce_lr, early_stopping]"
   ]
  },
  {
   "cell_type": "markdown",
   "metadata": {},
   "source": [
    "### Entrenamiento"
   ]
  },
  {
   "cell_type": "code",
   "execution_count": 44,
   "metadata": {},
   "outputs": [
    {
     "name": "stdout",
     "output_type": "stream",
     "text": [
      "Train on 882 samples, validate on 221 samples\n",
      "Epoch 1/500\n",
      "882/882 [==============================] - 6s 6ms/sample - loss: 0.0512 - acc: 0.3594 - val_loss: 0.0183 - val_acc: 0.1900\n",
      "Epoch 2/500\n",
      "882/882 [==============================] - 5s 6ms/sample - loss: 0.0161 - acc: 0.5669 - val_loss: 0.0152 - val_acc: 0.3710\n",
      "Epoch 3/500\n",
      "882/882 [==============================] - 5s 6ms/sample - loss: 0.0147 - acc: 0.5998 - val_loss: 0.0138 - val_acc: 0.3801\n",
      "Epoch 4/500\n",
      "882/882 [==============================] - 5s 6ms/sample - loss: 0.0139 - acc: 0.6202 - val_loss: 0.0144 - val_acc: 0.4118\n",
      "Epoch 5/500\n",
      "879/882 [============================>.] - ETA: 0s - loss: 0.0135 - acc: 0.6268\n",
      "Epoch 00005: ReduceLROnPlateau reducing learning rate to 3.9999998989515007e-05.\n",
      "882/882 [==============================] - 5s 6ms/sample - loss: 0.0135 - acc: 0.6281 - val_loss: 0.0145 - val_acc: 0.3710\n",
      "Epoch 6/500\n",
      "882/882 [==============================] - 5s 6ms/sample - loss: 0.0131 - acc: 0.6327 - val_loss: 0.0133 - val_acc: 0.3982\n",
      "Epoch 7/500\n",
      "882/882 [==============================] - 5s 6ms/sample - loss: 0.0130 - acc: 0.6338 - val_loss: 0.0134 - val_acc: 0.3801\n",
      "Epoch 8/500\n",
      "876/882 [============================>.] - ETA: 0s - loss: 0.0129 - acc: 0.6347\n",
      "Epoch 00008: ReduceLROnPlateau reducing learning rate to 1.5999999595806004e-05.\n",
      "882/882 [==============================] - 5s 6ms/sample - loss: 0.0129 - acc: 0.6361 - val_loss: 0.0137 - val_acc: 0.3801\n",
      "Epoch 9/500\n",
      "882/882 [==============================] - 5s 6ms/sample - loss: 0.0127 - acc: 0.6361 - val_loss: 0.0138 - val_acc: 0.3937\n",
      "Epoch 10/500\n",
      "880/882 [============================>.] - ETA: 0s - loss: 0.0127 - acc: 0.6375\n",
      "Epoch 00010: ReduceLROnPlateau reducing learning rate to 6.399999983841554e-06.\n",
      "882/882 [==============================] - 5s 6ms/sample - loss: 0.0127 - acc: 0.6383 - val_loss: 0.0138 - val_acc: 0.3846\n",
      "Epoch 11/500\n",
      "882/882 [==============================] - 5s 6ms/sample - loss: 0.0126 - acc: 0.6349 - val_loss: 0.0137 - val_acc: 0.3756\n",
      "Epoch 12/500\n",
      "878/882 [============================>.] - ETA: 0s - loss: 0.0126 - acc: 0.6390\n",
      "Epoch 00012: ReduceLROnPlateau reducing learning rate to 2.5600000299164097e-06.\n",
      "882/882 [==============================] - 5s 6ms/sample - loss: 0.0126 - acc: 0.6395 - val_loss: 0.0135 - val_acc: 0.3891\n",
      "Epoch 13/500\n",
      "882/882 [==============================] - 5s 6ms/sample - loss: 0.0126 - acc: 0.6395 - val_loss: 0.0136 - val_acc: 0.3891\n",
      "Epoch 14/500\n",
      "876/882 [============================>.] - ETA: 0s - loss: 0.0126 - acc: 0.6381\n",
      "Epoch 00014: ReduceLROnPlateau reducing learning rate to 1.0239999937766699e-06.\n",
      "882/882 [==============================] - 5s 6ms/sample - loss: 0.0126 - acc: 0.6395 - val_loss: 0.0136 - val_acc: 0.3891\n",
      "Epoch 15/500\n",
      "882/882 [==============================] - 5s 6ms/sample - loss: 0.0125 - acc: 0.6395 - val_loss: 0.0136 - val_acc: 0.3891\n",
      "Epoch 16/500\n",
      "872/882 [============================>.] - ETA: 0s - loss: 0.0124 - acc: 0.6422\n",
      "Epoch 00016: ReduceLROnPlateau reducing learning rate to 4.095999884157209e-07.\n",
      "882/882 [==============================] - 5s 6ms/sample - loss: 0.0125 - acc: 0.6395 - val_loss: 0.0136 - val_acc: 0.3846\n",
      "Epoch 00016: early stopping\n"
     ]
    }
   ],
   "source": [
    "##### Lo entrenamos\n",
    "if(dataset):\n",
    "    history = model.fit(train_dataset,\n",
    "                        epochs = epochs,\n",
    "                        steps_per_epoch=None,\n",
    "                        verbose = 1,\n",
    "                        callbacks = callbacks_list,\n",
    "                        validation_data =valid_dataset,\n",
    "                        validation_steps = None)\n",
    "    #model.save('./CNN_5.h5')\n",
    "else:\n",
    "    history = model.fit(trainX,\n",
    "                        trainY,\n",
    "                        epochs = epochs,\n",
    "                        steps_per_epoch = None,\n",
    "                        verbose = 1,\n",
    "                        batch_size = batch_size,\n",
    "                        callbacks = callbacks_list,\n",
    "                        validation_split = 0.2)\n",
    "    #model.save('./CNN_5.h5')"
   ]
  },
  {
   "cell_type": "code",
   "execution_count": 45,
   "metadata": {},
   "outputs": [],
   "source": [
    "#Visualize training evolution\n",
    "def plot_curves(model, acc, loss, val_acc, val_loss):\n",
    "    #########################################################################################\n",
    "    # LOSS plot\n",
    "    plt.figure(figsize=(12,8))\n",
    "    plt.plot(model.history.history[loss], label='Training loss')\n",
    "    plt.plot(model.history.history[val_loss], label='Validation loss')\n",
    "    plt.xlabel('Epochs', fontsize=15)\n",
    "    plt.ylabel('Loss', fontsize=15)\n",
    "    plt.tick_params(labelsize=10)\n",
    "    plt.legend(loc=1,prop={'size': 10})\n",
    "    plt.title('Loss in trainnig', fontsize=20)\n",
    "    fig = plt.gcf()\n",
    "    plt.show()\n",
    "    \n",
    "    fig.savefig('./00_06b_models/loss_train_00_06b.pdf', bbox_inches='tight',format='pdf')\n",
    "    fig.savefig('./00_06b_models/loss_train_00_06b.svg', bbox_inches='tight',format='svg')\n",
    "    \n",
    "    #########################################################################################\n",
    "    # ACC plot\n",
    "    plt.figure(figsize=(12,8))\n",
    "    plt.plot(model.history.history[acc], label='Training accuracy')\n",
    "    plt.plot(model.history.history[val_acc], label= 'Validation accuracy')\n",
    "    plt.xlabel('Epochs', fontsize=15)\n",
    "    plt.ylabel('Accuracy', fontsize=15)\n",
    "    plt.tick_params(labelsize=10)\n",
    "    plt.legend(loc=1,prop={'size': 10})\n",
    "    plt.title('Accuracy in training', fontsize=20)\n",
    "    fig = plt.gcf()\n",
    "    plt.show()\n",
    "\n",
    "    fig.savefig('./00_06b_models/acc_train_00_06b.pdf', bbox_inches='tight',format='pdf')\n",
    "    fig.savefig('./00_06b_models/acc_train_00_06b.svg', bbox_inches='tight',format='svg')\n",
    "    \n",
    "    #########################################################################################\n",
    "    # ACC+LOSS plot\n",
    "    plt.figure(figsize=(14,10))\n",
    "    plt_loss = host_subplot(111, axes_class=AA.Axes)\n",
    "    plt.subplots_adjust(right=0.75)\n",
    "\n",
    "    plt_acc = plt_loss.twinx()\n",
    "    plt_acc.axis[\"right\"].toggle(all=True)\n",
    "    \n",
    "    plt_loss.set_xlim(0, len(model.history.history[loss]))\n",
    "    plt_loss.set_ylim(0, max(model.history.history[loss]))\n",
    "    plt_loss.set_xlabel('Epochs')\n",
    "    plt_loss.set_ylabel('Loss')\n",
    "    plt_acc.set_ylabel('Accuracy')\n",
    "                        \n",
    "    plt_loss.axis['left'].label.set_fontsize(15)\n",
    "    plt_loss.axis['bottom'].label.set_fontsize(15)\n",
    "    plt_acc.axis['right'].label.set_fontsize(15)\n",
    "    \n",
    "    plt_loss.plot(model.history.history[loss], c='tab:blue', ls='--', label='Training loss')\n",
    "    plt_acc.plot(model.history.history[acc], c='tab:orange',ls='--', label='Training accuracy')\n",
    "    plt_loss.plot(model.history.history[val_loss], c='tab:blue',ls='-', label='Validation loss')\n",
    "    plt_acc.plot(model.history.history[val_acc], c='tab:orange',ls='-', label='Validation accuracy')\n",
    "    \n",
    "    plt.tick_params(labelsize=10)\n",
    "    plt.title('Training performance', fontsize=20)\n",
    "    plt_acc.set_ylim(0, 1)\n",
    "    plt_loss.legend(loc=1, prop={'size': 10})\n",
    "    \n",
    "    fig = plt.gcf()\n",
    "    plt.show()\n",
    "\n",
    "    fig.savefig('./00_06b_models/all_train_00_06b.pdf', bbox_inches='tight',format='pdf')\n",
    "    fig.savefig('./00_06b_models/all_train_00_06b.svg', bbox_inches='tight',format='svg')"
   ]
  },
  {
   "cell_type": "code",
   "execution_count": 46,
   "metadata": {},
   "outputs": [
    {
     "data": {
      "image/png": "[encoded data removed]",
      "text/plain": [
       "<Figure size 864x576 with 1 Axes>"
      ]
     },
     "metadata": {
      "needs_background": "light"
     },
     "output_type": "display_data"
    },
    {
     "data": {
      "image/png": "[encoded data removed]",
      "text/plain": [
       "<Figure size 864x576 with 1 Axes>"
      ]
     },
     "metadata": {
      "needs_background": "light"
     },
     "output_type": "display_data"
    },
    {
     "data": {
      "image/png": "[encoded data removed]",
      "text/plain": [
       "<Figure size 1008x720 with 1 Axes>"
      ]
     },
     "metadata": {
      "needs_background": "light"
     },
     "output_type": "display_data"
    }
   ],
   "source": [
    "#Visualize training evolution\n",
    "plot_curves(model, 'acc', 'loss', 'val_acc', 'val_loss')"
   ]
  },
  {
   "cell_type": "markdown",
   "metadata": {},
   "source": [
    "### Test"
   ]
  },
  {
   "cell_type": "code",
   "execution_count": 47,
   "metadata": {},
   "outputs": [
    {
     "ename": "NameError",
     "evalue": "name 'testX' is not defined",
     "output_type": "error",
     "traceback": [
      "\u001b[0;31m---------------------------------------------------------------------------\u001b[0m",
      "\u001b[0;31mNameError\u001b[0m                                 Traceback (most recent call last)",
      "\u001b[0;32m<ipython-input-47-e0dcec068dd6>\u001b[0m in \u001b[0;36m<module>\u001b[0;34m\u001b[0m\n\u001b[1;32m      4\u001b[0m \u001b[0;31m# make predictions\u001b[0m\u001b[0;34m\u001b[0m\u001b[0;34m\u001b[0m\u001b[0;34m\u001b[0m\u001b[0m\n\u001b[1;32m      5\u001b[0m \u001b[0mtrainPredict\u001b[0m \u001b[0;34m=\u001b[0m \u001b[0mmodel\u001b[0m\u001b[0;34m.\u001b[0m\u001b[0mpredict\u001b[0m\u001b[0;34m(\u001b[0m\u001b[0mtrainX\u001b[0m\u001b[0;34m)\u001b[0m\u001b[0;34m\u001b[0m\u001b[0;34m\u001b[0m\u001b[0m\n\u001b[0;32m----> 6\u001b[0;31m \u001b[0mtestPredict\u001b[0m \u001b[0;34m=\u001b[0m \u001b[0mmodel\u001b[0m\u001b[0;34m.\u001b[0m\u001b[0mpredict\u001b[0m\u001b[0;34m(\u001b[0m\u001b[0mtestX\u001b[0m\u001b[0;34m)\u001b[0m\u001b[0;34m\u001b[0m\u001b[0;34m\u001b[0m\u001b[0m\n\u001b[0m\u001b[1;32m      7\u001b[0m \u001b[0;34m\u001b[0m\u001b[0m\n\u001b[1;32m      8\u001b[0m \u001b[0;31m#trainPredict = np.reshape(trainPredict,(trainPredict.shape[0]*trainPredict.shape[1], trainPredict.shape[2]))\u001b[0m\u001b[0;34m\u001b[0m\u001b[0;34m\u001b[0m\u001b[0;34m\u001b[0m\u001b[0m\n",
      "\u001b[0;31mNameError\u001b[0m: name 'testX' is not defined"
     ]
    }
   ],
   "source": [
    "import math\n",
    "from sklearn.metrics import mean_squared_error\n",
    "\n",
    "# make predictions\n",
    "trainPredict = model.predict(trainX)\n",
    "testPredict = model.predict(testX)\n",
    "\n",
    "#trainPredict = np.reshape(trainPredict,(trainPredict.shape[0]*trainPredict.shape[1], trainPredict.shape[2]))\n",
    "#testPredict = np.reshape(testPredict,(testPredict.shape[0]*testPredict.shape[1], testPredict.shape[2]))\n",
    "\n",
    "trainY = np.reshape(trainY,(trainY.shape[0],trainY.shape[1]))\n",
    "testY = np.reshape(testY,(testY.shape[0],testY.shape[1]))\n",
    "\n",
    "# invert predictions\n",
    "trainPredict = scaler.inverse_transform(trainPredict)\n",
    "trainY = scaler.inverse_transform(trainY)\n",
    "testPredict = scaler.inverse_transform(testPredict)\n",
    "testY = scaler.inverse_transform(testY)\n",
    "\n",
    "print(trainPredict.shape)\n",
    "print(testPredict.shape)\n",
    "\n",
    "# calculate root mean squared error\n",
    "trainScore = math.sqrt(mean_squared_error(trainY, trainPredict))\n",
    "print('Train Score: %.2f RMSE' % (trainScore))\n",
    "testScore = math.sqrt(mean_squared_error(testY, testPredict))\n",
    "print('Test Score: %.2f RMSE' % (testScore))"
   ]
  },
  {
   "cell_type": "markdown",
   "metadata": {},
   "source": [
    "### Lo escribimos a fichero"
   ]
  },
  {
   "cell_type": "code",
   "execution_count": null,
   "metadata": {},
   "outputs": [],
   "source": [
    "def write(name, ts_seg):\n",
    "    fo = open(name, \"w\")\n",
    "    head = \"QUAT,w,x,y,z,timestamp\\n\"\n",
    "    fo.seek(0,2)\n",
    "    fo.write(head)\n",
    "    fo.close()\n",
    "    \n",
    "    fo = open(name, \"a\")\n",
    "    #salida = np.reshape(ts_seg, (ts_seg.shape[0]*ts_seg.shape[2], ts_seg.shape[3]))\n",
    "    salida = ts_seg\n",
    "    \n",
    "    k = 0\n",
    "    for i in range(salida.shape[0]):\n",
    "        if(i%128==0):\n",
    "            if(i!=0):\n",
    "                k+=1\n",
    "        print('%d'%(i), end='\\r')\n",
    "        fo.write(\"quat0,\"+str(salida[i][0])+\",\"+str(salida[i][1])+\",\"+str(salida[i][2])+\",\"+str(salida[i][3])+\",\"+str(i)+\",\"+'\\n')\n",
    "        fo.write(\"quat1,\"+str(salida[i][4])+\",\"+str(salida[i][5])+\",\"+str(salida[i][6])+\",\"+str(salida[i][7])+\",\"+str(i)+\",\"+'\\n')\n",
    "        fo.write(\"quat2,\"+str(salida[i][8])+\",\"+str(salida[i][9])+\",\"+str(salida[i][10])+\",\"+str(salida[i][11])+\",\"+str(i)+\",\"+'\\n')\n",
    "        fo.write(\"quat3,\"+str(salida[i][12])+\",\"+str(salida[i][13])+\",\"+str(salida[i][14])+\",\"+str(salida[i][15])+\",\"+str(i)+\",\"+'\\n')\n",
    "        fo.write(\"quat4,\"+str(salida[i][16])+\",\"+str(salida[i][17])+\",\"+str(salida[i][18])+\",\"+str(salida[i][19])+\",\"+str(i)+\",\"+'\\n')\n",
    "        if(salida.shape[1]==36):\n",
    "            fo.write(\"quat5,\"+str(salida[i][20])+\",\"+str(salida[i][21])+\",\"+str(salida[i][22])+\",\"+str(salida[i][23])+\",\"+str(i)+\",\"+'\\n')\n",
    "            fo.write(\"quat6,\"+str(salida[i][24])+\",\"+str(salida[i][25])+\",\"+str(salida[i][26])+\",\"+str(salida[i][27])+\",\"+str(i)+\",\"+'\\n')\n",
    "            fo.write(\"quat7,\"+str(salida[i][28])+\",\"+str(salida[i][29])+\",\"+str(salida[i][30])+\",\"+str(salida[i][31])+\",\"+str(i)+\",\"+'\\n')\n",
    "            fo.write(\"quat8,\"+str(salida[i][32])+\",\"+str(salida[i][33])+\",\"+str(salida[i][34])+\",\"+str(salida[i][35])+\",\"+str(i)+\",\"+'\\n')\n",
    "        else:\n",
    "            fo.write(\"quat5,\"+str(1)+\",\"+str(0)+\",\"+str(0)+\",\"+str(0)+\",\"+str(i)+\",\"+'\\n')\n",
    "            fo.write(\"quat6,\"+str(1)+\",\"+str(0)+\",\"+str(0)+\",\"+str(0)+\",\"+str(i)+\",\"+'\\n')\n",
    "            fo.write(\"quat7,\"+str(1)+\",\"+str(0)+\",\"+str(0)+\",\"+str(0)+\",\"+str(i)+\",\"+'\\n')\n",
    "            fo.write(\"quat8,\"+str(1)+\",\"+str(0)+\",\"+str(0)+\",\"+str(0)+\",\"+str(i)+\",\"+'\\n')\n",
    "    fo.close()"
   ]
  },
  {
   "cell_type": "code",
   "execution_count": null,
   "metadata": {},
   "outputs": [],
   "source": [
    "name = \"./00_06b_models/RESULT_PRED_00_06b.csv\"\n",
    "write(name, testPredict)"
   ]
  },
  {
   "cell_type": "code",
   "execution_count": null,
   "metadata": {},
   "outputs": [],
   "source": [
    "name = \"./00_06b_models/RESULT_PASS_00_06b.csv\"\n",
    "passed =  np.reshape(testX,(testX.shape[0]*testX.shape[1],testX.shape[2]))\n",
    "passed = scaler.inverse_transform(passed)\n",
    "write(name,passed)"
   ]
  },
  {
   "cell_type": "code",
   "execution_count": null,
   "metadata": {},
   "outputs": [],
   "source": [
    "import matplotlib.cm as cm\n",
    "plotX = np.concatenate((testY[:,0:4],testY[:,4:8]))\n",
    "plotY = np.concatenate((testPredict[:,0:4],testPredict[:,4:8]))\n",
    "for i in range(8,testY.shape[1],4):\n",
    "    plotX = np.concatenate((plotX,testY[:,i:i+4]))\n",
    "    plotY = np.concatenate((plotY,testPredict[:,i:i+4]))\n",
    "\n",
    "labels = ['w', 'x', 'y', 'z']\n",
    "colors = cm.rainbow(np.linspace(0, 1, len(plotX.T)))\n",
    "plt.figure(figsize=(10,10))\n",
    "for x, y, c, l in zip(plotX.T, plotY.T, colors, labels):\n",
    "    plt.scatter(x, y, color=c, alpha=0.5, label=l)\n",
    "\n",
    "plt.xlabel('Real values', fontsize=15)\n",
    "plt.ylabel('Predicted values', fontsize=15)\n",
    "plt.legend()"
   ]
  },
  {
   "cell_type": "code",
   "execution_count": null,
   "metadata": {},
   "outputs": [],
   "source": [
    "sensors = ['BACK', 'RUA', 'RLA', 'LUA', 'LLA']\n",
    "print(sensors)"
   ]
  },
  {
   "cell_type": "code",
   "execution_count": null,
   "metadata": {},
   "outputs": [],
   "source": [
    "def plot_results(testY, testPredict,name):\n",
    "    \n",
    "    colorsX=['r--','g--','b--','y--']\n",
    "    #colorsY=['tab:red','tab:green','tab:blue','tab:gray']\n",
    "    colorsY=['r','g','b','y']\n",
    "\n",
    "    j=0\n",
    "    for i in range(0,testY.shape[1],4):\n",
    "        plt.figure()\n",
    "        plt.figure(figsize=(30,10))\n",
    "        plt.plot(np.arange(0,testY.shape[0]), testY[:,i],colorsX[0], markersize=1, label='Real W')\n",
    "        plt.plot(np.arange(0,testPredict.shape[0]),testPredict[:,i], colorsY[0], label='Predicted W')\n",
    "        plt.plot(np.arange(0,testY.shape[0]), testY[:,i+1],colorsX[1], markersize=1, label='Real X')\n",
    "        plt.plot(np.arange(0,testPredict.shape[0]),testPredict[:,i+1], colorsY[1], label='Predicted X')\n",
    "        plt.plot(np.arange(0,testY.shape[0]), testY[:,i+2],colorsX[2], markersize=1, label='Real Y')\n",
    "        plt.plot(np.arange(0,testPredict.shape[0]),testPredict[:,i+2], colorsY[2], label='Predicted Y')\n",
    "        plt.plot(np.arange(0,testY.shape[0]), testY[:,i+3],colorsX[3], markersize=1, label='Real Z')\n",
    "        plt.plot(np.arange(0,testPredict.shape[0]),testPredict[:,i+3], colorsY[3], label='Predicted Z')\n",
    "        plt.xlabel('Samples', fontsize=20)\n",
    "        plt.ylabel('Values', fontsize=20)\n",
    "        plt.tick_params(labelsize=20)\n",
    "        plt.legend(prop={'size': 10})\n",
    "        plt.title('Real vs. Predicted values in %s'%(sensors[j]), fontsize=20)\n",
    "        fig1 = plt.gcf()\n",
    "        plt.show()\n",
    "\n",
    "        fig1.savefig('./00_06b_models/'+name+'_%s_00_06b.pdf'%(sensors[j]), bbox_inches='tight',format='pdf')\n",
    "        fig1.savefig('./00_06b_models/'+name+'_%s_00_06b.svg'%(sensors[j]), bbox_inches='tight',format='svg')\n",
    "\n",
    "        j+=1"
   ]
  },
  {
   "cell_type": "code",
   "execution_count": null,
   "metadata": {},
   "outputs": [],
   "source": [
    "name = 'RESULT'\n",
    "plot_results(testY,testPredict,name)"
   ]
  },
  {
   "cell_type": "code",
   "execution_count": 48,
   "metadata": {},
   "outputs": [
    {
     "name": "stdout",
     "output_type": "stream",
     "text": [
      "RNN saved.\n"
     ]
    }
   ],
   "source": [
    "model.save('./00_06b_models/predict_rnn.h5')\n",
    "print('RNN saved.')"
   ]
  }
 ],
 "metadata": {
  "kernelspec": {
   "display_name": "Python 3",
   "language": "python",
   "name": "python3"
  },
  "language_info": {
   "codemirror_mode": {
    "name": "ipython",
    "version": 3
   },
   "file_extension": ".py",
   "mimetype": "text/x-python",
   "name": "python",
   "nbconvert_exporter": "python",
   "pygments_lexer": "ipython3",
   "version": "3.6.8"
  }
 },
 "nbformat": 4,
 "nbformat_minor": 4
}
